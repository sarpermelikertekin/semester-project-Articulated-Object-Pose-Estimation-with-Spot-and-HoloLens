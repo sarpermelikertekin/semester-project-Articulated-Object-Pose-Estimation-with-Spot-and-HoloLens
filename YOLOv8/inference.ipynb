{
 "cells": [
  {
   "cell_type": "code",
   "execution_count": 4,
   "metadata": {},
   "outputs": [
    {
     "name": "stdout",
     "output_type": "stream",
     "text": [
      "\n",
      "0: 576x640 1 Spot, 168.1ms\n",
      "Speed: 3.0ms preprocess, 168.1ms inference, 2.0ms postprocess per image at shape (1, 3, 576, 640)\n",
      "<class 'ultralytics.engine.results.Results'>\n",
      "<class 'torch.Tensor'>\n",
      "box\n",
      "89 73 319 293\n",
      "[[[125.8809814453125, 130.34634399414062], [164.8961181640625, 133.24710083007812], [199.38890075683594, 194.85040283203125], [167.26271057128906, 280.8859558105469], [100.30076599121094, 130.5417022705078], [146.70950317382812, 184.29891967773438], [103.37079620361328, 261.27301025390625], [274.2120361328125, 107.34048461914062], [298.8774719238281, 149.80540466308594], [256.87701416015625, 232.3035125732422], [206.7551727294922, 105.70220947265625], [246.1390838623047, 159.40757751464844], [212.93511962890625, 228.23020935058594]]]\n",
      "<class 'list'>\n"
     ]
    }
   ],
   "source": [
    "from ultralytics import YOLO\n",
    "import cv2\n",
    "\n",
    "model_path = 'C:/Users/sakar/Semester Project/semester-project-yolov8/runs/pose/train22/weights/last.pt'\n",
    "image_path = 'C:/Users/sakar/Semester Project/semester-project-yolov8/spot3.jpg'\n",
    "\n",
    "\n",
    "# Load the image\n",
    "img = cv2.imread(image_path)\n",
    "\n",
    "# Load the YOLO model\n",
    "model = YOLO(model_path)\n",
    "\n",
    "# Run inference on the resized image\n",
    "results = model(img)[0]\n",
    "print(type(results))\n",
    "\n",
    "for result in results:\n",
    "    # Get the bounding box in xyxy format\n",
    "    box = result.boxes.xyxy[0]\n",
    "    x1, y1, x2, y2 = map(int, box)\n",
    "    \n",
    "    print(type(box))\n",
    "    print('box')\n",
    "    print(x1, y1, x2, y2)\n",
    "\n",
    "\n",
    "    # Draw the bounding box on the resized image\n",
    "    cv2.rectangle(img, (x1, y1), (x2, y2), (0, 255, 0), 2)\n",
    "\n",
    "    # Draw keypoints on the resized image\n",
    "    keypoints = result.keypoints.xy.tolist()\n",
    "    print(keypoints)\n",
    "    print(type(keypoints))\n",
    "\n",
    "    for keypoint_indx, (x, y) in enumerate(keypoints[0]):\n",
    "        if x != 0 and y != 0:\n",
    "            cv2.putText(img, str(keypoint_indx), (int(x), int(y)),\n",
    "                        cv2.FONT_HERSHEY_SIMPLEX, 0.5, (0, 255, 0), 2)\n",
    "\n",
    "# Display the resized image\n",
    "cv2.imshow('Resized Image', img)\n",
    "cv2.waitKey(0)\n",
    "cv2.destroyAllWindows()"
   ]
  },
  {
   "cell_type": "code",
   "execution_count": null,
   "metadata": {},
   "outputs": [],
   "source": []
  }
 ],
 "metadata": {
  "kernelspec": {
   "display_name": "Semester_Thesis",
   "language": "python",
   "name": "python3"
  },
  "language_info": {
   "codemirror_mode": {
    "name": "ipython",
    "version": 3
   },
   "file_extension": ".py",
   "mimetype": "text/x-python",
   "name": "python",
   "nbconvert_exporter": "python",
   "pygments_lexer": "ipython3",
   "version": "3.8.18"
  }
 },
 "nbformat": 4,
 "nbformat_minor": 4
}
