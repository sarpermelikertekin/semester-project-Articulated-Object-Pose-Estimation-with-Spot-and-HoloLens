{
 "cells": [
  {
   "cell_type": "code",
   "execution_count": null,
   "metadata": {
    "id": "CMPpVTDr8y_P"
   },
   "outputs": [],
   "source": [
    "# from google.colab import drive\n",
    "\n",
    "# drive.mount('/content/gdrive')"
   ]
  },
  {
   "cell_type": "code",
   "execution_count": null,
   "metadata": {},
   "outputs": [],
   "source": [
    "!pip install numpy==1.18.5 --user"
   ]
  },
  {
   "cell_type": "code",
   "execution_count": null,
   "metadata": {},
   "outputs": [],
   "source": [
    "!pip install python-dateutil --upgrade"
   ]
  },
  {
   "cell_type": "code",
   "execution_count": null,
   "metadata": {
    "id": "3UdWqYtu9KB_"
   },
   "outputs": [],
   "source": [
    "!pip install ultralytics"
   ]
  },
  {
   "cell_type": "code",
   "execution_count": null,
   "metadata": {
    "id": "ukytGBl4mDiD"
   },
   "outputs": [],
   "source": [
    "# !ls '/content/gdrive/My Drive/'"
   ]
  },
  {
   "cell_type": "code",
   "execution_count": 1,
   "metadata": {
    "id": "zy7BcAyj9LvW"
   },
   "outputs": [
    {
     "name": "stdout",
     "output_type": "stream",
     "text": [
      "New https://pypi.org/project/ultralytics/8.1.16 available 😃 Update with 'pip install -U ultralytics'\n",
      "Ultralytics YOLOv8.0.231 🚀 Python-3.8.18 torch-2.1.2+cpu CPU (Intel Core(TM) i7-7700K 4.20GHz)\n",
      "\u001b[34m\u001b[1mengine\\trainer: \u001b[0mtask=pose, mode=train, model=yolov8n-pose.pt, data=config.yaml, epochs=50, time=None, patience=50, batch=16, imgsz=640, save=True, save_period=-1, cache=False, device=None, workers=8, project=None, name=train22, exist_ok=False, pretrained=True, optimizer=auto, verbose=True, seed=0, deterministic=True, single_cls=False, rect=False, cos_lr=False, close_mosaic=10, resume=False, amp=True, fraction=1.0, profile=False, freeze=None, overlap_mask=True, mask_ratio=4, dropout=0.0, val=True, split=val, save_json=False, save_hybrid=False, conf=None, iou=0.7, max_det=300, half=False, dnn=False, plots=True, source=None, vid_stride=1, stream_buffer=False, visualize=False, augment=False, agnostic_nms=False, classes=None, retina_masks=False, embed=None, show=False, save_frames=False, save_txt=False, save_conf=False, save_crop=False, show_labels=True, show_conf=True, show_boxes=True, line_width=None, format=torchscript, keras=False, optimize=False, int8=False, dynamic=False, simplify=False, opset=None, workspace=4, nms=False, lr0=0.01, lrf=0.01, momentum=0.937, weight_decay=0.0005, warmup_epochs=3.0, warmup_momentum=0.8, warmup_bias_lr=0.1, box=7.5, cls=0.5, dfl=1.5, pose=12.0, kobj=1.0, label_smoothing=0.0, nbs=64, hsv_h=0.015, hsv_s=0.7, hsv_v=0.4, degrees=0.0, translate=0.1, scale=0.5, shear=0.0, perspective=0.0, flipud=0.0, fliplr=0.5, mosaic=1.0, mixup=0.0, copy_paste=0.0, cfg=None, tracker=botsort.yaml, save_dir=runs\\pose\\train22\n",
      "Overriding model.yaml kpt_shape=[17, 3] with kpt_shape=[13, 3]\n",
      "Overriding model.yaml nc=1 with nc=2\n",
      "\n",
      "                   from  n    params  module                                       arguments                     \n",
      "  0                  -1  1       464  ultralytics.nn.modules.conv.Conv             [3, 16, 3, 2]                 \n",
      "  1                  -1  1      4672  ultralytics.nn.modules.conv.Conv             [16, 32, 3, 2]                \n",
      "  2                  -1  1      7360  ultralytics.nn.modules.block.C2f             [32, 32, 1, True]             \n",
      "  3                  -1  1     18560  ultralytics.nn.modules.conv.Conv             [32, 64, 3, 2]                \n",
      "  4                  -1  2     49664  ultralytics.nn.modules.block.C2f             [64, 64, 2, True]             \n",
      "  5                  -1  1     73984  ultralytics.nn.modules.conv.Conv             [64, 128, 3, 2]               \n",
      "  6                  -1  2    197632  ultralytics.nn.modules.block.C2f             [128, 128, 2, True]           \n",
      "  7                  -1  1    295424  ultralytics.nn.modules.conv.Conv             [128, 256, 3, 2]              \n",
      "  8                  -1  1    460288  ultralytics.nn.modules.block.C2f             [256, 256, 1, True]           \n",
      "  9                  -1  1    164608  ultralytics.nn.modules.block.SPPF            [256, 256, 5]                 \n",
      " 10                  -1  1         0  torch.nn.modules.upsampling.Upsample         [None, 2, 'nearest']          \n",
      " 11             [-1, 6]  1         0  ultralytics.nn.modules.conv.Concat           [1]                           \n",
      " 12                  -1  1    148224  ultralytics.nn.modules.block.C2f             [384, 128, 1]                 \n",
      " 13                  -1  1         0  torch.nn.modules.upsampling.Upsample         [None, 2, 'nearest']          \n",
      " 14             [-1, 4]  1         0  ultralytics.nn.modules.conv.Concat           [1]                           \n",
      " 15                  -1  1     37248  ultralytics.nn.modules.block.C2f             [192, 64, 1]                  \n",
      " 16                  -1  1     36992  ultralytics.nn.modules.conv.Conv             [64, 64, 3, 2]                \n",
      " 17            [-1, 12]  1         0  ultralytics.nn.modules.conv.Concat           [1]                           \n",
      " 18                  -1  1    123648  ultralytics.nn.modules.block.C2f             [192, 128, 1]                 \n",
      " 19                  -1  1    147712  ultralytics.nn.modules.conv.Conv             [128, 128, 3, 2]              \n",
      " 20             [-1, 9]  1         0  ultralytics.nn.modules.conv.Concat           [1]                           \n",
      " 21                  -1  1    493056  ultralytics.nn.modules.block.C2f             [384, 256, 1]                 \n",
      " 22        [15, 18, 21]  1    955165  ultralytics.nn.modules.head.Pose             [2, [13, 3], [64, 128, 256]]  \n",
      "YOLOv8n-pose summary: 250 layers, 3214701 parameters, 3214685 gradients, 9.0 GFLOPs\n",
      "\n",
      "Transferred 355/397 items from pretrained weights\n",
      "Freezing layer 'model.22.dfl.conv.weight'\n"
     ]
    },
    {
     "name": "stderr",
     "output_type": "stream",
     "text": [
      "\u001b[34m\u001b[1mtrain: \u001b[0mScanning C:\\Users\\sakar\\Semester Project\\Spot Datasets\\8 - Mixed\\YOLO Format\\labels\\train... 800 images, 0 backg\u001b[0m\n"
     ]
    },
    {
     "name": "stdout",
     "output_type": "stream",
     "text": [
      "\u001b[34m\u001b[1mtrain: \u001b[0mWARNING ⚠️ C:\\Users\\sakar\\Semester Project\\Spot Datasets\\8 - Mixed\\YOLO Format\\images\\train\\1.png: ignoring corrupt image/label: non-normalized or out of bounds coordinates [     1.3391      1.0466]\n",
      "\u001b[34m\u001b[1mtrain: \u001b[0mWARNING ⚠️ C:\\Users\\sakar\\Semester Project\\Spot Datasets\\8 - Mixed\\YOLO Format\\images\\train\\103.png: ignoring corrupt image/label: negative label values [  -0.063452   -0.021212    -0.11288   -0.041924]\n",
      "\u001b[34m\u001b[1mtrain: \u001b[0mWARNING ⚠️ C:\\Users\\sakar\\Semester Project\\Spot Datasets\\8 - Mixed\\YOLO Format\\images\\train\\12.png: ignoring corrupt image/label: non-normalized or out of bounds coordinates [      1.184      1.5062      1.0803        1.33]\n",
      "\u001b[34m\u001b[1mtrain: \u001b[0mWARNING ⚠️ C:\\Users\\sakar\\Semester Project\\Spot Datasets\\8 - Mixed\\YOLO Format\\images\\train\\121.png: ignoring corrupt image/label: non-normalized or out of bounds coordinates [     1.0862      1.0457      1.0439      1.1655      1.0476      1.1612]\n",
      "\u001b[34m\u001b[1mtrain: \u001b[0mWARNING ⚠️ C:\\Users\\sakar\\Semester Project\\Spot Datasets\\8 - Mixed\\YOLO Format\\images\\train\\14.png: ignoring corrupt image/label: non-normalized or out of bounds coordinates [     1.0744]\n",
      "\u001b[34m\u001b[1mtrain: \u001b[0mWARNING ⚠️ C:\\Users\\sakar\\Semester Project\\Spot Datasets\\8 - Mixed\\YOLO Format\\images\\train\\144.png: ignoring corrupt image/label: negative label values [ -0.0072688    -0.14371    -0.16634    -0.14669    -0.18162    -0.19441    -0.40448]\n",
      "\u001b[34m\u001b[1mtrain: \u001b[0mWARNING ⚠️ C:\\Users\\sakar\\Semester Project\\Spot Datasets\\8 - Mixed\\YOLO Format\\images\\train\\161.png: ignoring corrupt image/label: negative label values [  -0.022791   -0.064266]\n",
      "\u001b[34m\u001b[1mtrain: \u001b[0mWARNING ⚠️ C:\\Users\\sakar\\Semester Project\\Spot Datasets\\8 - Mixed\\YOLO Format\\images\\train\\197.png: ignoring corrupt image/label: non-normalized or out of bounds coordinates [     1.2526      1.3079]\n",
      "\u001b[34m\u001b[1mtrain: \u001b[0mWARNING ⚠️ C:\\Users\\sakar\\Semester Project\\Spot Datasets\\8 - Mixed\\YOLO Format\\images\\train\\265.png: ignoring corrupt image/label: negative label values [   -0.19414   -0.077528    -0.27879]\n",
      "\u001b[34m\u001b[1mtrain: \u001b[0mWARNING ⚠️ C:\\Users\\sakar\\Semester Project\\Spot Datasets\\8 - Mixed\\YOLO Format\\images\\train\\269.png: ignoring corrupt image/label: non-normalized or out of bounds coordinates [     1.0151      1.0288      1.0031      1.0872]\n",
      "\u001b[34m\u001b[1mtrain: \u001b[0mWARNING ⚠️ C:\\Users\\sakar\\Semester Project\\Spot Datasets\\8 - Mixed\\YOLO Format\\images\\train\\279.png: ignoring corrupt image/label: negative label values [  -0.011828]\n",
      "\u001b[34m\u001b[1mtrain: \u001b[0mWARNING ⚠️ C:\\Users\\sakar\\Semester Project\\Spot Datasets\\8 - Mixed\\YOLO Format\\images\\train\\32.png: ignoring corrupt image/label: non-normalized or out of bounds coordinates [     1.0663]\n",
      "\u001b[34m\u001b[1mtrain: \u001b[0mWARNING ⚠️ C:\\Users\\sakar\\Semester Project\\Spot Datasets\\8 - Mixed\\YOLO Format\\images\\train\\331.png: ignoring corrupt image/label: non-normalized or out of bounds coordinates [     1.0067]\n",
      "\u001b[34m\u001b[1mtrain: \u001b[0mWARNING ⚠️ C:\\Users\\sakar\\Semester Project\\Spot Datasets\\8 - Mixed\\YOLO Format\\images\\train\\333.png: ignoring corrupt image/label: non-normalized or out of bounds coordinates [     1.1981      1.0822      1.8581      1.1514      1.1417]\n",
      "\u001b[34m\u001b[1mtrain: \u001b[0mWARNING ⚠️ C:\\Users\\sakar\\Semester Project\\Spot Datasets\\8 - Mixed\\YOLO Format\\images\\train\\354.png: ignoring corrupt image/label: negative label values [  -0.037035]\n",
      "\u001b[34m\u001b[1mtrain: \u001b[0mWARNING ⚠️ C:\\Users\\sakar\\Semester Project\\Spot Datasets\\8 - Mixed\\YOLO Format\\images\\train\\367.png: ignoring corrupt image/label: negative label values [  -0.013484]\n",
      "\u001b[34m\u001b[1mtrain: \u001b[0mWARNING ⚠️ C:\\Users\\sakar\\Semester Project\\Spot Datasets\\8 - Mixed\\YOLO Format\\images\\train\\373.png: ignoring corrupt image/label: non-normalized or out of bounds coordinates [     1.0124      1.0127]\n",
      "\u001b[34m\u001b[1mtrain: \u001b[0mWARNING ⚠️ C:\\Users\\sakar\\Semester Project\\Spot Datasets\\8 - Mixed\\YOLO Format\\images\\train\\39.png: ignoring corrupt image/label: non-normalized or out of bounds coordinates [     1.0289      1.1455]\n",
      "\u001b[34m\u001b[1mtrain: \u001b[0mWARNING ⚠️ C:\\Users\\sakar\\Semester Project\\Spot Datasets\\8 - Mixed\\YOLO Format\\images\\train\\4.png: ignoring corrupt image/label: negative label values [ -0.0095707   -0.030337]\n",
      "\u001b[34m\u001b[1mtrain: \u001b[0mWARNING ⚠️ C:\\Users\\sakar\\Semester Project\\Spot Datasets\\8 - Mixed\\YOLO Format\\images\\train\\417.png: ignoring corrupt image/label: non-normalized or out of bounds coordinates [      1.145      1.0345]\n",
      "\u001b[34m\u001b[1mtrain: \u001b[0mWARNING ⚠️ C:\\Users\\sakar\\Semester Project\\Spot Datasets\\8 - Mixed\\YOLO Format\\images\\train\\460.png: ignoring corrupt image/label: non-normalized or out of bounds coordinates [     1.0237]\n",
      "\u001b[34m\u001b[1mtrain: \u001b[0mWARNING ⚠️ C:\\Users\\sakar\\Semester Project\\Spot Datasets\\8 - Mixed\\YOLO Format\\images\\train\\486.png: ignoring corrupt image/label: non-normalized or out of bounds coordinates [      1.095]\n",
      "\u001b[34m\u001b[1mtrain: \u001b[0mWARNING ⚠️ C:\\Users\\sakar\\Semester Project\\Spot Datasets\\8 - Mixed\\YOLO Format\\images\\train\\488.png: ignoring corrupt image/label: non-normalized or out of bounds coordinates [     1.1064      1.1224]\n",
      "\u001b[34m\u001b[1mtrain: \u001b[0mWARNING ⚠️ C:\\Users\\sakar\\Semester Project\\Spot Datasets\\8 - Mixed\\YOLO Format\\images\\train\\499.png: ignoring corrupt image/label: non-normalized or out of bounds coordinates [     1.4107      1.0297      1.2249]\n",
      "\u001b[34m\u001b[1mtrain: \u001b[0mWARNING ⚠️ C:\\Users\\sakar\\Semester Project\\Spot Datasets\\8 - Mixed\\YOLO Format\\images\\train\\504.png: ignoring corrupt image/label: non-normalized or out of bounds coordinates [     1.0774]\n",
      "\u001b[34m\u001b[1mtrain: \u001b[0mWARNING ⚠️ C:\\Users\\sakar\\Semester Project\\Spot Datasets\\8 - Mixed\\YOLO Format\\images\\train\\527.png: ignoring corrupt image/label: non-normalized or out of bounds coordinates [     1.0545      1.0007]\n",
      "\u001b[34m\u001b[1mtrain: \u001b[0mWARNING ⚠️ C:\\Users\\sakar\\Semester Project\\Spot Datasets\\8 - Mixed\\YOLO Format\\images\\train\\647.png: ignoring corrupt image/label: non-normalized or out of bounds coordinates [     1.0562]\n",
      "\u001b[34m\u001b[1mtrain: \u001b[0mWARNING ⚠️ C:\\Users\\sakar\\Semester Project\\Spot Datasets\\8 - Mixed\\YOLO Format\\images\\train\\703.png: ignoring corrupt image/label: non-normalized or out of bounds coordinates [     1.1632      1.0461]\n",
      "\u001b[34m\u001b[1mtrain: \u001b[0mWARNING ⚠️ C:\\Users\\sakar\\Semester Project\\Spot Datasets\\8 - Mixed\\YOLO Format\\images\\train\\741.png: ignoring corrupt image/label: non-normalized or out of bounds coordinates [     1.0862      1.0345]\n",
      "\u001b[34m\u001b[1mtrain: \u001b[0mWARNING ⚠️ C:\\Users\\sakar\\Semester Project\\Spot Datasets\\8 - Mixed\\YOLO Format\\images\\train\\91.png: ignoring corrupt image/label: non-normalized or out of bounds coordinates [     1.3148      1.0336      1.5435]\n",
      "\u001b[34m\u001b[1mtrain: \u001b[0mNew cache created: C:\\Users\\sakar\\Semester Project\\Spot Datasets\\8 - Mixed\\YOLO Format\\labels\\train.cache\n"
     ]
    },
    {
     "name": "stderr",
     "output_type": "stream",
     "text": [
      "\u001b[34m\u001b[1mval: \u001b[0mScanning C:\\Users\\sakar\\Semester Project\\Spot Datasets\\8 - Mixed\\YOLO Format\\labels\\val... 200 images, 0 backgroun\u001b[0m"
     ]
    },
    {
     "name": "stdout",
     "output_type": "stream",
     "text": [
      "\u001b[34m\u001b[1mval: \u001b[0mWARNING ⚠️ C:\\Users\\sakar\\Semester Project\\Spot Datasets\\8 - Mixed\\YOLO Format\\images\\val\\2400.png: ignoring corrupt image/label: negative label values [  -0.077028]\n",
      "\u001b[34m\u001b[1mval: \u001b[0mWARNING ⚠️ C:\\Users\\sakar\\Semester Project\\Spot Datasets\\8 - Mixed\\YOLO Format\\images\\val\\2429.png: ignoring corrupt image/label: non-normalized or out of bounds coordinates [     1.0895      1.2672]\n",
      "\u001b[34m\u001b[1mval: \u001b[0mWARNING ⚠️ C:\\Users\\sakar\\Semester Project\\Spot Datasets\\8 - Mixed\\YOLO Format\\images\\val\\2430.png: ignoring corrupt image/label: non-normalized or out of bounds coordinates [     1.0348]\n",
      "\u001b[34m\u001b[1mval: \u001b[0mWARNING ⚠️ C:\\Users\\sakar\\Semester Project\\Spot Datasets\\8 - Mixed\\YOLO Format\\images\\val\\2432.png: ignoring corrupt image/label: non-normalized or out of bounds coordinates [     1.1623      1.2695]\n",
      "\u001b[34m\u001b[1mval: \u001b[0mWARNING ⚠️ C:\\Users\\sakar\\Semester Project\\Spot Datasets\\8 - Mixed\\YOLO Format\\images\\val\\2446.png: ignoring corrupt image/label: non-normalized or out of bounds coordinates [     1.3643      1.7644       1.016      1.0963      1.3104]\n",
      "\u001b[34m\u001b[1mval: \u001b[0mWARNING ⚠️ C:\\Users\\sakar\\Semester Project\\Spot Datasets\\8 - Mixed\\YOLO Format\\images\\val\\2451.png: ignoring corrupt image/label: negative label values [  -0.010542    -0.10365]\n",
      "\u001b[34m\u001b[1mval: \u001b[0mWARNING ⚠️ C:\\Users\\sakar\\Semester Project\\Spot Datasets\\8 - Mixed\\YOLO Format\\images\\val\\2461.png: ignoring corrupt image/label: non-normalized or out of bounds coordinates [     1.3368      1.6078]\n",
      "\u001b[34m\u001b[1mval: \u001b[0mWARNING ⚠️ C:\\Users\\sakar\\Semester Project\\Spot Datasets\\8 - Mixed\\YOLO Format\\images\\val\\2490.png: ignoring corrupt image/label: non-normalized or out of bounds coordinates [     1.2555      1.3373]\n",
      "\u001b[34m\u001b[1mval: \u001b[0mWARNING ⚠️ C:\\Users\\sakar\\Semester Project\\Spot Datasets\\8 - Mixed\\YOLO Format\\images\\val\\2493.png: ignoring corrupt image/label: negative label values [   -0.10595]\n",
      "\u001b[34m\u001b[1mval: \u001b[0mWARNING ⚠️ C:\\Users\\sakar\\Semester Project\\Spot Datasets\\8 - Mixed\\YOLO Format\\images\\val\\2507.png: ignoring corrupt image/label: non-normalized or out of bounds coordinates [     1.0236]\n",
      "\u001b[34m\u001b[1mval: \u001b[0mWARNING ⚠️ C:\\Users\\sakar\\Semester Project\\Spot Datasets\\8 - Mixed\\YOLO Format\\images\\val\\2555.png: ignoring corrupt image/label: non-normalized or out of bounds coordinates [     1.1013]\n",
      "\u001b[34m\u001b[1mval: \u001b[0mWARNING ⚠️ C:\\Users\\sakar\\Semester Project\\Spot Datasets\\8 - Mixed\\YOLO Format\\images\\val\\2568.png: ignoring corrupt image/label: non-normalized or out of bounds coordinates [     1.0277      1.0313]\n",
      "\u001b[34m\u001b[1mval: \u001b[0mWARNING ⚠️ C:\\Users\\sakar\\Semester Project\\Spot Datasets\\8 - Mixed\\YOLO Format\\images\\val\\2570.png: ignoring corrupt image/label: non-normalized or out of bounds coordinates [     1.0687      1.1094]\n",
      "\u001b[34m\u001b[1mval: \u001b[0mWARNING ⚠️ C:\\Users\\sakar\\Semester Project\\Spot Datasets\\8 - Mixed\\YOLO Format\\images\\val\\2587.png: ignoring corrupt image/label: non-normalized or out of bounds coordinates [     1.2686      1.0159      1.0635]\n",
      "\u001b[34m\u001b[1mval: \u001b[0mWARNING ⚠️ C:\\Users\\sakar\\Semester Project\\Spot Datasets\\8 - Mixed\\YOLO Format\\images\\val\\r41.jpg: ignoring corrupt image/label: labels require 44 columns each\n",
      "\u001b[34m\u001b[1mval: \u001b[0mNew cache created: C:\\Users\\sakar\\Semester Project\\Spot Datasets\\8 - Mixed\\YOLO Format\\labels\\val.cache\n"
     ]
    },
    {
     "name": "stderr",
     "output_type": "stream",
     "text": [
      "\n"
     ]
    },
    {
     "name": "stdout",
     "output_type": "stream",
     "text": [
      "Plotting labels to runs\\pose\\train22\\labels.jpg... \n",
      "\u001b[34m\u001b[1moptimizer:\u001b[0m 'optimizer=auto' found, ignoring 'lr0=0.01' and 'momentum=0.937' and determining best 'optimizer', 'lr0' and 'momentum' automatically... \n",
      "\u001b[34m\u001b[1moptimizer:\u001b[0m AdamW(lr=0.001667, momentum=0.9) with parameter groups 63 weight(decay=0.0), 73 weight(decay=0.0005), 72 bias(decay=0.0)\n",
      "50 epochs...\n",
      "\n",
      "      Epoch    GPU_mem   box_loss  pose_loss  kobj_loss   cls_loss   dfl_loss  Instances       Size\n"
     ]
    },
    {
     "name": "stderr",
     "output_type": "stream",
     "text": [
      "       1/50         0G       1.29      9.318     0.7069      1.912      1.269          4        640: 100%|██████████| 4\n",
      "                 Class     Images  Instances      Box(P          R      mAP50  mAP50-95)     Pose(P          R      mAP"
     ]
    },
    {
     "name": "stdout",
     "output_type": "stream",
     "text": [
      "                   all        185        185      0.961      0.942      0.984      0.739    0.00261    0.00541   0.000111   3.89e-05\n"
     ]
    },
    {
     "name": "stderr",
     "output_type": "stream",
     "text": [
      "\n"
     ]
    },
    {
     "name": "stdout",
     "output_type": "stream",
     "text": [
      "\n",
      "      Epoch    GPU_mem   box_loss  pose_loss  kobj_loss   cls_loss   dfl_loss  Instances       Size\n"
     ]
    },
    {
     "name": "stderr",
     "output_type": "stream",
     "text": [
      "       2/50         0G      1.052      7.202     0.6694      1.044      1.114          5        640: 100%|██████████| 4\n",
      "                 Class     Images  Instances      Box(P          R      mAP50  mAP50-95)     Pose(P          R      mAP"
     ]
    },
    {
     "name": "stdout",
     "output_type": "stream",
     "text": [
      "                   all        185        185      0.978      0.951      0.984      0.737      0.363      0.362       0.15     0.0235\n"
     ]
    },
    {
     "name": "stderr",
     "output_type": "stream",
     "text": [
      "\n"
     ]
    },
    {
     "name": "stdout",
     "output_type": "stream",
     "text": [
      "\n",
      "      Epoch    GPU_mem   box_loss  pose_loss  kobj_loss   cls_loss   dfl_loss  Instances       Size\n"
     ]
    },
    {
     "name": "stderr",
     "output_type": "stream",
     "text": [
      "       3/50         0G       1.03      5.747     0.6261     0.9031      1.105          3        640: 100%|██████████| 4\n",
      "                 Class     Images  Instances      Box(P          R      mAP50  mAP50-95)     Pose(P          R      mAP"
     ]
    },
    {
     "name": "stdout",
     "output_type": "stream",
     "text": [
      "                   all        185        185      0.979      0.962      0.993      0.815      0.249      0.243     0.0703     0.0095\n"
     ]
    },
    {
     "name": "stderr",
     "output_type": "stream",
     "text": [
      "\n"
     ]
    },
    {
     "name": "stdout",
     "output_type": "stream",
     "text": [
      "\n",
      "      Epoch    GPU_mem   box_loss  pose_loss  kobj_loss   cls_loss   dfl_loss  Instances       Size\n"
     ]
    },
    {
     "name": "stderr",
     "output_type": "stream",
     "text": [
      "       4/50         0G     0.9281       5.08     0.6011     0.8213      1.064          2        640: 100%|██████████| 4\n",
      "                 Class     Images  Instances      Box(P          R      mAP50  mAP50-95)     Pose(P          R      mAP"
     ]
    },
    {
     "name": "stdout",
     "output_type": "stream",
     "text": [
      "                   all        185        185      0.935      0.935      0.969      0.733      0.457      0.454      0.242     0.0515\n"
     ]
    },
    {
     "name": "stderr",
     "output_type": "stream",
     "text": [
      "\n"
     ]
    },
    {
     "name": "stdout",
     "output_type": "stream",
     "text": [
      "\n",
      "      Epoch    GPU_mem   box_loss  pose_loss  kobj_loss   cls_loss   dfl_loss  Instances       Size\n"
     ]
    },
    {
     "name": "stderr",
     "output_type": "stream",
     "text": [
      "       5/50         0G     0.9457      4.565     0.5779     0.7516      1.065          5        640: 100%|██████████| 4\n",
      "                 Class     Images  Instances      Box(P          R      mAP50  mAP50-95)     Pose(P          R      mAP"
     ]
    },
    {
     "name": "stdout",
     "output_type": "stream",
     "text": [
      "                   all        185        185       0.98      0.984       0.99      0.784      0.873      0.855      0.809      0.289\n"
     ]
    },
    {
     "name": "stderr",
     "output_type": "stream",
     "text": [
      "\n"
     ]
    },
    {
     "name": "stdout",
     "output_type": "stream",
     "text": [
      "\n",
      "      Epoch    GPU_mem   box_loss  pose_loss  kobj_loss   cls_loss   dfl_loss  Instances       Size\n"
     ]
    },
    {
     "name": "stderr",
     "output_type": "stream",
     "text": [
      "       6/50         0G     0.8881      4.179     0.5631      0.685      1.049          4        640: 100%|██████████| 4\n",
      "                 Class     Images  Instances      Box(P          R      mAP50  mAP50-95)     Pose(P          R      mAP"
     ]
    },
    {
     "name": "stdout",
     "output_type": "stream",
     "text": [
      "                   all        185        185      0.995      0.983      0.995      0.829       0.91      0.875      0.854      0.362\n"
     ]
    },
    {
     "name": "stderr",
     "output_type": "stream",
     "text": [
      "\n"
     ]
    },
    {
     "name": "stdout",
     "output_type": "stream",
     "text": [
      "\n",
      "      Epoch    GPU_mem   box_loss  pose_loss  kobj_loss   cls_loss   dfl_loss  Instances       Size\n"
     ]
    },
    {
     "name": "stderr",
     "output_type": "stream",
     "text": [
      "       7/50         0G     0.8772       3.94     0.5575     0.6472      1.036          3        640: 100%|██████████| 4\n",
      "                 Class     Images  Instances      Box(P          R      mAP50  mAP50-95)     Pose(P          R      mAP"
     ]
    },
    {
     "name": "stdout",
     "output_type": "stream",
     "text": [
      "                   all        185        185      0.999          1      0.995       0.81      0.913      0.909      0.871       0.41\n"
     ]
    },
    {
     "name": "stderr",
     "output_type": "stream",
     "text": [
      "\n"
     ]
    },
    {
     "name": "stdout",
     "output_type": "stream",
     "text": [
      "\n",
      "      Epoch    GPU_mem   box_loss  pose_loss  kobj_loss   cls_loss   dfl_loss  Instances       Size\n"
     ]
    },
    {
     "name": "stderr",
     "output_type": "stream",
     "text": [
      "       8/50         0G     0.8672      3.427      0.547     0.6272      1.015          8        640: 100%|██████████| 4\n",
      "                 Class     Images  Instances      Box(P          R      mAP50  mAP50-95)     Pose(P          R      mAP"
     ]
    },
    {
     "name": "stdout",
     "output_type": "stream",
     "text": [
      "                   all        185        185      0.978      0.978      0.992      0.784      0.924      0.924       0.91      0.489\n"
     ]
    },
    {
     "name": "stderr",
     "output_type": "stream",
     "text": [
      "\n"
     ]
    },
    {
     "name": "stdout",
     "output_type": "stream",
     "text": [
      "\n",
      "      Epoch    GPU_mem   box_loss  pose_loss  kobj_loss   cls_loss   dfl_loss  Instances       Size\n"
     ]
    },
    {
     "name": "stderr",
     "output_type": "stream",
     "text": [
      "       9/50         0G     0.8342      3.221     0.5315     0.6004     0.9875          8        640: 100%|██████████| 4\n",
      "                 Class     Images  Instances      Box(P          R      mAP50  mAP50-95)     Pose(P          R      mAP"
     ]
    },
    {
     "name": "stdout",
     "output_type": "stream",
     "text": [
      "                   all        185        185      0.984      0.976      0.994      0.833      0.925      0.897       0.88       0.43\n"
     ]
    },
    {
     "name": "stderr",
     "output_type": "stream",
     "text": [
      "\n"
     ]
    },
    {
     "name": "stdout",
     "output_type": "stream",
     "text": [
      "\n",
      "      Epoch    GPU_mem   box_loss  pose_loss  kobj_loss   cls_loss   dfl_loss  Instances       Size\n"
     ]
    },
    {
     "name": "stderr",
     "output_type": "stream",
     "text": [
      "      10/50         0G      0.803      3.158      0.539     0.5875      1.002          3        640: 100%|██████████| 4\n",
      "                 Class     Images  Instances      Box(P          R      mAP50  mAP50-95)     Pose(P          R      mAP"
     ]
    },
    {
     "name": "stdout",
     "output_type": "stream",
     "text": [
      "                   all        185        185      0.995      0.978      0.995      0.832      0.955      0.917      0.921      0.529\n"
     ]
    },
    {
     "name": "stderr",
     "output_type": "stream",
     "text": [
      "\n"
     ]
    },
    {
     "name": "stdout",
     "output_type": "stream",
     "text": [
      "\n",
      "      Epoch    GPU_mem   box_loss  pose_loss  kobj_loss   cls_loss   dfl_loss  Instances       Size\n"
     ]
    },
    {
     "name": "stderr",
     "output_type": "stream",
     "text": [
      "      11/50         0G     0.7887      3.015     0.5353     0.5718     0.9958          6        640: 100%|██████████| 4\n",
      "                 Class     Images  Instances      Box(P          R      mAP50  mAP50-95)     Pose(P          R      mAP"
     ]
    },
    {
     "name": "stdout",
     "output_type": "stream",
     "text": [
      "                   all        185        185      0.988      0.984      0.994      0.855      0.945      0.941      0.947      0.528\n"
     ]
    },
    {
     "name": "stderr",
     "output_type": "stream",
     "text": [
      "\n"
     ]
    },
    {
     "name": "stdout",
     "output_type": "stream",
     "text": [
      "\n",
      "      Epoch    GPU_mem   box_loss  pose_loss  kobj_loss   cls_loss   dfl_loss  Instances       Size\n"
     ]
    },
    {
     "name": "stderr",
     "output_type": "stream",
     "text": [
      "      12/50         0G     0.8063       3.07     0.5348     0.5781      1.005          5        640: 100%|██████████| 4\n",
      "                 Class     Images  Instances      Box(P          R      mAP50  mAP50-95)     Pose(P          R      mAP"
     ]
    },
    {
     "name": "stdout",
     "output_type": "stream",
     "text": [
      "                   all        185        185      0.994          1      0.995      0.841      0.962      0.946      0.946      0.544\n"
     ]
    },
    {
     "name": "stderr",
     "output_type": "stream",
     "text": [
      "\n"
     ]
    },
    {
     "name": "stdout",
     "output_type": "stream",
     "text": [
      "\n",
      "      Epoch    GPU_mem   box_loss  pose_loss  kobj_loss   cls_loss   dfl_loss  Instances       Size\n"
     ]
    },
    {
     "name": "stderr",
     "output_type": "stream",
     "text": [
      "      13/50         0G     0.8201      2.948     0.5241      0.571      1.006          2        640: 100%|██████████| 4\n",
      "                 Class     Images  Instances      Box(P          R      mAP50  mAP50-95)     Pose(P          R      mAP"
     ]
    },
    {
     "name": "stdout",
     "output_type": "stream",
     "text": [
      "                   all        185        185      0.993          1      0.995      0.842       0.96      0.957      0.963      0.553\n"
     ]
    },
    {
     "name": "stderr",
     "output_type": "stream",
     "text": [
      "\n"
     ]
    },
    {
     "name": "stdout",
     "output_type": "stream",
     "text": [
      "\n",
      "      Epoch    GPU_mem   box_loss  pose_loss  kobj_loss   cls_loss   dfl_loss  Instances       Size\n"
     ]
    },
    {
     "name": "stderr",
     "output_type": "stream",
     "text": [
      "      14/50         0G       0.76      2.684      0.514     0.5375     0.9793          6        640: 100%|██████████| 4\n",
      "                 Class     Images  Instances      Box(P          R      mAP50  mAP50-95)     Pose(P          R      mAP"
     ]
    },
    {
     "name": "stdout",
     "output_type": "stream",
     "text": [
      "                   all        185        185      0.994      0.995      0.992      0.838      0.961      0.962      0.955      0.606\n"
     ]
    },
    {
     "name": "stderr",
     "output_type": "stream",
     "text": [
      "\n"
     ]
    },
    {
     "name": "stdout",
     "output_type": "stream",
     "text": [
      "\n",
      "      Epoch    GPU_mem   box_loss  pose_loss  kobj_loss   cls_loss   dfl_loss  Instances       Size\n"
     ]
    },
    {
     "name": "stderr",
     "output_type": "stream",
     "text": [
      "      15/50         0G     0.7661      2.616     0.5148     0.5442     0.9872          6        640: 100%|██████████| 4\n",
      "                 Class     Images  Instances      Box(P          R      mAP50  mAP50-95)     Pose(P          R      mAP"
     ]
    },
    {
     "name": "stdout",
     "output_type": "stream",
     "text": [
      "                   all        185        185      0.994          1      0.995      0.869      0.968      0.968      0.972      0.628\n"
     ]
    },
    {
     "name": "stderr",
     "output_type": "stream",
     "text": [
      "\n"
     ]
    },
    {
     "name": "stdout",
     "output_type": "stream",
     "text": [
      "\n",
      "      Epoch    GPU_mem   box_loss  pose_loss  kobj_loss   cls_loss   dfl_loss  Instances       Size\n"
     ]
    },
    {
     "name": "stderr",
     "output_type": "stream",
     "text": [
      "      16/50         0G      0.759      2.445     0.5177     0.5152      0.977          3        640: 100%|██████████| 4\n",
      "                 Class     Images  Instances      Box(P          R      mAP50  mAP50-95)     Pose(P          R      mAP"
     ]
    },
    {
     "name": "stdout",
     "output_type": "stream",
     "text": [
      "                   all        185        185      0.998      0.995      0.995      0.834       0.96      0.957      0.927      0.631\n"
     ]
    },
    {
     "name": "stderr",
     "output_type": "stream",
     "text": [
      "\n"
     ]
    },
    {
     "name": "stdout",
     "output_type": "stream",
     "text": [
      "\n",
      "      Epoch    GPU_mem   box_loss  pose_loss  kobj_loss   cls_loss   dfl_loss  Instances       Size\n"
     ]
    },
    {
     "name": "stderr",
     "output_type": "stream",
     "text": [
      "      17/50         0G     0.7605      2.421     0.5052     0.5217     0.9849          2        640: 100%|██████████| 4\n",
      "                 Class     Images  Instances      Box(P          R      mAP50  mAP50-95)     Pose(P          R      mAP"
     ]
    },
    {
     "name": "stdout",
     "output_type": "stream",
     "text": [
      "                   all        185        185      0.995      0.998      0.995      0.884      0.967      0.968      0.971      0.682\n"
     ]
    },
    {
     "name": "stderr",
     "output_type": "stream",
     "text": [
      "\n"
     ]
    },
    {
     "name": "stdout",
     "output_type": "stream",
     "text": [
      "\n",
      "      Epoch    GPU_mem   box_loss  pose_loss  kobj_loss   cls_loss   dfl_loss  Instances       Size\n"
     ]
    },
    {
     "name": "stderr",
     "output_type": "stream",
     "text": [
      "      18/50         0G     0.7156      2.304     0.5108     0.4987     0.9585          4        640: 100%|██████████| 4\n",
      "                 Class     Images  Instances      Box(P          R      mAP50  mAP50-95)     Pose(P          R      mAP"
     ]
    },
    {
     "name": "stdout",
     "output_type": "stream",
     "text": [
      "                   all        185        185      0.999      0.989      0.995      0.882      0.977      0.968      0.972       0.69\n"
     ]
    },
    {
     "name": "stderr",
     "output_type": "stream",
     "text": [
      "\n"
     ]
    },
    {
     "name": "stdout",
     "output_type": "stream",
     "text": [
      "\n",
      "      Epoch    GPU_mem   box_loss  pose_loss  kobj_loss   cls_loss   dfl_loss  Instances       Size\n"
     ]
    },
    {
     "name": "stderr",
     "output_type": "stream",
     "text": [
      "      19/50         0G     0.7116       2.35     0.5074     0.5009     0.9705          6        640: 100%|██████████| 4\n",
      "                 Class     Images  Instances      Box(P          R      mAP50  mAP50-95)     Pose(P          R      mAP"
     ]
    },
    {
     "name": "stdout",
     "output_type": "stream",
     "text": [
      "                   all        185        185      0.997      0.995      0.995      0.874      0.967      0.957      0.962      0.665\n"
     ]
    },
    {
     "name": "stderr",
     "output_type": "stream",
     "text": [
      "\n"
     ]
    },
    {
     "name": "stdout",
     "output_type": "stream",
     "text": [
      "\n",
      "      Epoch    GPU_mem   box_loss  pose_loss  kobj_loss   cls_loss   dfl_loss  Instances       Size\n"
     ]
    },
    {
     "name": "stderr",
     "output_type": "stream",
     "text": [
      "      20/50         0G     0.6891      2.202     0.5105     0.4783     0.9537          4        640: 100%|██████████| 4\n",
      "                 Class     Images  Instances      Box(P          R      mAP50  mAP50-95)     Pose(P          R      mAP"
     ]
    },
    {
     "name": "stdout",
     "output_type": "stream",
     "text": [
      "                   all        185        185          1          1      0.995      0.882      0.973      0.973      0.975      0.704\n"
     ]
    },
    {
     "name": "stderr",
     "output_type": "stream",
     "text": [
      "\n"
     ]
    },
    {
     "name": "stdout",
     "output_type": "stream",
     "text": [
      "\n",
      "      Epoch    GPU_mem   box_loss  pose_loss  kobj_loss   cls_loss   dfl_loss  Instances       Size\n"
     ]
    },
    {
     "name": "stderr",
     "output_type": "stream",
     "text": [
      "      21/50         0G     0.7156      2.104     0.4956     0.4934     0.9576          2        640: 100%|██████████| 4\n",
      "                 Class     Images  Instances      Box(P          R      mAP50  mAP50-95)     Pose(P          R      mAP"
     ]
    },
    {
     "name": "stdout",
     "output_type": "stream",
     "text": [
      "                   all        185        185          1      0.995      0.995      0.874      0.973      0.968      0.963      0.675\n"
     ]
    },
    {
     "name": "stderr",
     "output_type": "stream",
     "text": [
      "\n"
     ]
    },
    {
     "name": "stdout",
     "output_type": "stream",
     "text": [
      "\n",
      "      Epoch    GPU_mem   box_loss  pose_loss  kobj_loss   cls_loss   dfl_loss  Instances       Size\n"
     ]
    },
    {
     "name": "stderr",
     "output_type": "stream",
     "text": [
      "      22/50         0G     0.6751      1.984     0.4938     0.4567      0.956          4        640: 100%|██████████| 4\n",
      "                 Class     Images  Instances      Box(P          R      mAP50  mAP50-95)     Pose(P          R      mAP"
     ]
    },
    {
     "name": "stdout",
     "output_type": "stream",
     "text": [
      "                   all        185        185      0.996      0.995      0.995      0.879      0.969      0.968      0.966      0.692\n"
     ]
    },
    {
     "name": "stderr",
     "output_type": "stream",
     "text": [
      "\n"
     ]
    },
    {
     "name": "stdout",
     "output_type": "stream",
     "text": [
      "\n",
      "      Epoch    GPU_mem   box_loss  pose_loss  kobj_loss   cls_loss   dfl_loss  Instances       Size\n"
     ]
    },
    {
     "name": "stderr",
     "output_type": "stream",
     "text": [
      "      23/50         0G     0.6681      2.106     0.4938     0.4588     0.9476          8        640: 100%|██████████| 4\n",
      "                 Class     Images  Instances      Box(P          R      mAP50  mAP50-95)     Pose(P          R      mAP"
     ]
    },
    {
     "name": "stdout",
     "output_type": "stream",
     "text": [
      "                   all        185        185          1          1      0.995      0.858      0.973      0.973      0.972      0.671\n"
     ]
    },
    {
     "name": "stderr",
     "output_type": "stream",
     "text": [
      "\n"
     ]
    },
    {
     "name": "stdout",
     "output_type": "stream",
     "text": [
      "\n",
      "      Epoch    GPU_mem   box_loss  pose_loss  kobj_loss   cls_loss   dfl_loss  Instances       Size\n"
     ]
    },
    {
     "name": "stderr",
     "output_type": "stream",
     "text": [
      "      24/50         0G     0.6382      1.819     0.4906     0.4424     0.9418          2        640: 100%|██████████| 4\n",
      "                 Class     Images  Instances      Box(P          R      mAP50  mAP50-95)     Pose(P          R      mAP"
     ]
    },
    {
     "name": "stdout",
     "output_type": "stream",
     "text": [
      "                   all        185        185          1      0.994      0.995      0.871      0.983      0.973      0.968      0.698\n"
     ]
    },
    {
     "name": "stderr",
     "output_type": "stream",
     "text": [
      "\n"
     ]
    },
    {
     "name": "stdout",
     "output_type": "stream",
     "text": [
      "\n",
      "      Epoch    GPU_mem   box_loss  pose_loss  kobj_loss   cls_loss   dfl_loss  Instances       Size\n"
     ]
    },
    {
     "name": "stderr",
     "output_type": "stream",
     "text": [
      "      25/50         0G     0.6709      1.956     0.5019     0.4517     0.9524          7        640: 100%|██████████| 4\n",
      "                 Class     Images  Instances      Box(P          R      mAP50  mAP50-95)     Pose(P          R      mAP"
     ]
    },
    {
     "name": "stdout",
     "output_type": "stream",
     "text": [
      "                   all        185        185          1      0.999      0.995      0.901      0.987      0.968      0.978      0.725\n"
     ]
    },
    {
     "name": "stderr",
     "output_type": "stream",
     "text": [
      "\n"
     ]
    },
    {
     "name": "stdout",
     "output_type": "stream",
     "text": [
      "\n",
      "      Epoch    GPU_mem   box_loss  pose_loss  kobj_loss   cls_loss   dfl_loss  Instances       Size\n"
     ]
    },
    {
     "name": "stderr",
     "output_type": "stream",
     "text": [
      "      26/50         0G     0.6333      1.912     0.4896     0.4352     0.9366          4        640: 100%|██████████| 4\n",
      "                 Class     Images  Instances      Box(P          R      mAP50  mAP50-95)     Pose(P          R      mAP"
     ]
    },
    {
     "name": "stdout",
     "output_type": "stream",
     "text": [
      "                   all        185        185      0.998          1      0.995      0.894      0.987      0.989      0.986      0.758\n"
     ]
    },
    {
     "name": "stderr",
     "output_type": "stream",
     "text": [
      "\n"
     ]
    },
    {
     "name": "stdout",
     "output_type": "stream",
     "text": [
      "\n",
      "      Epoch    GPU_mem   box_loss  pose_loss  kobj_loss   cls_loss   dfl_loss  Instances       Size\n"
     ]
    },
    {
     "name": "stderr",
     "output_type": "stream",
     "text": [
      "      27/50         0G     0.6305      1.898     0.4827      0.428     0.9346          3        640: 100%|██████████| 4\n",
      "                 Class     Images  Instances      Box(P          R      mAP50  mAP50-95)     Pose(P          R      mAP"
     ]
    },
    {
     "name": "stdout",
     "output_type": "stream",
     "text": [
      "                   all        185        185      0.999          1      0.995      0.906      0.993      0.978      0.987       0.75\n"
     ]
    },
    {
     "name": "stderr",
     "output_type": "stream",
     "text": [
      "\n"
     ]
    },
    {
     "name": "stdout",
     "output_type": "stream",
     "text": [
      "\n",
      "      Epoch    GPU_mem   box_loss  pose_loss  kobj_loss   cls_loss   dfl_loss  Instances       Size\n"
     ]
    },
    {
     "name": "stderr",
     "output_type": "stream",
     "text": [
      "      28/50         0G     0.6277       1.83     0.4838     0.4351     0.9403          3        640: 100%|██████████| 4\n",
      "                 Class     Images  Instances      Box(P          R      mAP50  mAP50-95)     Pose(P          R      mAP"
     ]
    },
    {
     "name": "stdout",
     "output_type": "stream",
     "text": [
      "                   all        185        185          1          1      0.995      0.898      0.988      0.984      0.985      0.756\n"
     ]
    },
    {
     "name": "stderr",
     "output_type": "stream",
     "text": [
      "\n"
     ]
    },
    {
     "name": "stdout",
     "output_type": "stream",
     "text": [
      "\n",
      "      Epoch    GPU_mem   box_loss  pose_loss  kobj_loss   cls_loss   dfl_loss  Instances       Size\n"
     ]
    },
    {
     "name": "stderr",
     "output_type": "stream",
     "text": [
      "      29/50         0G     0.6185      1.751     0.4793     0.4188     0.9279          6        640: 100%|██████████| 4\n",
      "                 Class     Images  Instances      Box(P          R      mAP50  mAP50-95)     Pose(P          R      mAP"
     ]
    },
    {
     "name": "stdout",
     "output_type": "stream",
     "text": [
      "                   all        185        185          1          1      0.995      0.902      0.973      0.978      0.977      0.768\n"
     ]
    },
    {
     "name": "stderr",
     "output_type": "stream",
     "text": [
      "\n"
     ]
    },
    {
     "name": "stdout",
     "output_type": "stream",
     "text": [
      "\n",
      "      Epoch    GPU_mem   box_loss  pose_loss  kobj_loss   cls_loss   dfl_loss  Instances       Size\n"
     ]
    },
    {
     "name": "stderr",
     "output_type": "stream",
     "text": [
      "      30/50         0G     0.5988       1.73     0.4766     0.4126     0.9247          4        640: 100%|██████████| 4\n",
      "                 Class     Images  Instances      Box(P          R      mAP50  mAP50-95)     Pose(P          R      mAP"
     ]
    },
    {
     "name": "stdout",
     "output_type": "stream",
     "text": [
      "                   all        185        185          1          1      0.995      0.881      0.978      0.978      0.979      0.783\n"
     ]
    },
    {
     "name": "stderr",
     "output_type": "stream",
     "text": [
      "\n"
     ]
    },
    {
     "name": "stdout",
     "output_type": "stream",
     "text": [
      "\n",
      "      Epoch    GPU_mem   box_loss  pose_loss  kobj_loss   cls_loss   dfl_loss  Instances       Size\n"
     ]
    },
    {
     "name": "stderr",
     "output_type": "stream",
     "text": [
      "      31/50         0G     0.6167      1.596     0.4653     0.4135     0.9256          4        640: 100%|██████████| 4\n",
      "                 Class     Images  Instances      Box(P          R      mAP50  mAP50-95)     Pose(P          R      mAP"
     ]
    },
    {
     "name": "stdout",
     "output_type": "stream",
     "text": [
      "                   all        185        185      0.999      0.995      0.995      0.904      0.977      0.973       0.97      0.745\n"
     ]
    },
    {
     "name": "stderr",
     "output_type": "stream",
     "text": [
      "\n"
     ]
    },
    {
     "name": "stdout",
     "output_type": "stream",
     "text": [
      "\n",
      "      Epoch    GPU_mem   box_loss  pose_loss  kobj_loss   cls_loss   dfl_loss  Instances       Size\n"
     ]
    },
    {
     "name": "stderr",
     "output_type": "stream",
     "text": [
      "      32/50         0G     0.5914      1.625     0.4612      0.405     0.9274          2        640: 100%|██████████| 4\n",
      "                 Class     Images  Instances      Box(P          R      mAP50  mAP50-95)     Pose(P          R      mAP"
     ]
    },
    {
     "name": "stdout",
     "output_type": "stream",
     "text": [
      "                   all        185        185      0.999          1      0.995      0.915      0.983      0.984      0.984      0.781\n"
     ]
    },
    {
     "name": "stderr",
     "output_type": "stream",
     "text": [
      "\n"
     ]
    },
    {
     "name": "stdout",
     "output_type": "stream",
     "text": [
      "\n",
      "      Epoch    GPU_mem   box_loss  pose_loss  kobj_loss   cls_loss   dfl_loss  Instances       Size\n"
     ]
    },
    {
     "name": "stderr",
     "output_type": "stream",
     "text": [
      "      33/50         0G     0.5773      1.631     0.4575      0.403     0.9179          3        640: 100%|██████████| 4\n",
      "                 Class     Images  Instances      Box(P          R      mAP50  mAP50-95)     Pose(P          R      mAP"
     ]
    },
    {
     "name": "stdout",
     "output_type": "stream",
     "text": [
      "                   all        185        185      0.999          1      0.995      0.932      0.972      0.973      0.975      0.787\n"
     ]
    },
    {
     "name": "stderr",
     "output_type": "stream",
     "text": [
      "\n"
     ]
    },
    {
     "name": "stdout",
     "output_type": "stream",
     "text": [
      "\n",
      "      Epoch    GPU_mem   box_loss  pose_loss  kobj_loss   cls_loss   dfl_loss  Instances       Size\n"
     ]
    },
    {
     "name": "stderr",
     "output_type": "stream",
     "text": [
      "      34/50         0G     0.5762      1.632     0.4696     0.3983     0.9099          4        640: 100%|██████████| 4\n",
      "                 Class     Images  Instances      Box(P          R      mAP50  mAP50-95)     Pose(P          R      mAP"
     ]
    },
    {
     "name": "stdout",
     "output_type": "stream",
     "text": [
      "                   all        185        185          1          1      0.995      0.921      0.989      0.989      0.988      0.807\n"
     ]
    },
    {
     "name": "stderr",
     "output_type": "stream",
     "text": [
      "\n"
     ]
    },
    {
     "name": "stdout",
     "output_type": "stream",
     "text": [
      "\n",
      "      Epoch    GPU_mem   box_loss  pose_loss  kobj_loss   cls_loss   dfl_loss  Instances       Size\n"
     ]
    },
    {
     "name": "stderr",
     "output_type": "stream",
     "text": [
      "      35/50         0G      0.584      1.542     0.4595     0.4022     0.9203          4        640: 100%|██████████| 4\n",
      "                 Class     Images  Instances      Box(P          R      mAP50  mAP50-95)     Pose(P          R      mAP"
     ]
    },
    {
     "name": "stdout",
     "output_type": "stream",
     "text": [
      "                   all        185        185          1          1      0.995        0.9      0.989      0.989      0.986      0.796\n"
     ]
    },
    {
     "name": "stderr",
     "output_type": "stream",
     "text": [
      "\n"
     ]
    },
    {
     "name": "stdout",
     "output_type": "stream",
     "text": [
      "\n",
      "      Epoch    GPU_mem   box_loss  pose_loss  kobj_loss   cls_loss   dfl_loss  Instances       Size\n"
     ]
    },
    {
     "name": "stderr",
     "output_type": "stream",
     "text": [
      "      36/50         0G     0.5522      1.512     0.4684     0.3816     0.9094          5        640: 100%|██████████| 4\n",
      "                 Class     Images  Instances      Box(P          R      mAP50  mAP50-95)     Pose(P          R      mAP"
     ]
    },
    {
     "name": "stdout",
     "output_type": "stream",
     "text": [
      "                   all        185        185          1      0.998      0.995      0.935      0.989      0.988      0.989      0.808\n"
     ]
    },
    {
     "name": "stderr",
     "output_type": "stream",
     "text": [
      "\n"
     ]
    },
    {
     "name": "stdout",
     "output_type": "stream",
     "text": [
      "\n",
      "      Epoch    GPU_mem   box_loss  pose_loss  kobj_loss   cls_loss   dfl_loss  Instances       Size\n"
     ]
    },
    {
     "name": "stderr",
     "output_type": "stream",
     "text": [
      "      37/50         0G     0.5629      1.579     0.4681     0.3827     0.9239          5        640: 100%|██████████| 4\n",
      "                 Class     Images  Instances      Box(P          R      mAP50  mAP50-95)     Pose(P          R      mAP"
     ]
    },
    {
     "name": "stdout",
     "output_type": "stream",
     "text": [
      "                   all        185        185          1          1      0.995      0.926      0.994      0.995      0.995      0.818\n"
     ]
    },
    {
     "name": "stderr",
     "output_type": "stream",
     "text": [
      "\n"
     ]
    },
    {
     "name": "stdout",
     "output_type": "stream",
     "text": [
      "\n",
      "      Epoch    GPU_mem   box_loss  pose_loss  kobj_loss   cls_loss   dfl_loss  Instances       Size\n"
     ]
    },
    {
     "name": "stderr",
     "output_type": "stream",
     "text": [
      "      38/50         0G     0.5789      1.468     0.4591     0.3857     0.9191          2        640: 100%|██████████| 4\n",
      "                 Class     Images  Instances      Box(P          R      mAP50  mAP50-95)     Pose(P          R      mAP"
     ]
    },
    {
     "name": "stdout",
     "output_type": "stream",
     "text": [
      "                   all        185        185      0.999          1      0.995      0.924      0.983      0.984      0.987      0.803\n"
     ]
    },
    {
     "name": "stderr",
     "output_type": "stream",
     "text": [
      "\n"
     ]
    },
    {
     "name": "stdout",
     "output_type": "stream",
     "text": [
      "\n",
      "      Epoch    GPU_mem   box_loss  pose_loss  kobj_loss   cls_loss   dfl_loss  Instances       Size\n"
     ]
    },
    {
     "name": "stderr",
     "output_type": "stream",
     "text": [
      "      39/50         0G     0.5148      1.397     0.4459     0.3682     0.9006          4        640: 100%|██████████| 4\n",
      "                 Class     Images  Instances      Box(P          R      mAP50  mAP50-95)     Pose(P          R      mAP"
     ]
    },
    {
     "name": "stdout",
     "output_type": "stream",
     "text": [
      "                   all        185        185          1          1      0.995      0.951      0.989      0.989      0.988      0.828\n"
     ]
    },
    {
     "name": "stderr",
     "output_type": "stream",
     "text": [
      "\n"
     ]
    },
    {
     "name": "stdout",
     "output_type": "stream",
     "text": [
      "\n",
      "      Epoch    GPU_mem   box_loss  pose_loss  kobj_loss   cls_loss   dfl_loss  Instances       Size\n"
     ]
    },
    {
     "name": "stderr",
     "output_type": "stream",
     "text": [
      "      40/50         0G     0.5058      1.359     0.4559     0.3545     0.9061          3        640: 100%|██████████| 4\n",
      "                 Class     Images  Instances      Box(P          R      mAP50  mAP50-95)     Pose(P          R      mAP"
     ]
    },
    {
     "name": "stdout",
     "output_type": "stream",
     "text": [
      "                   all        185        185          1          1      0.995      0.933      0.983      0.984      0.987       0.82\n"
     ]
    },
    {
     "name": "stderr",
     "output_type": "stream",
     "text": [
      "\n"
     ]
    },
    {
     "name": "stdout",
     "output_type": "stream",
     "text": [
      "Closing dataloader mosaic\n",
      "\n",
      "      Epoch    GPU_mem   box_loss  pose_loss  kobj_loss   cls_loss   dfl_loss  Instances       Size\n"
     ]
    },
    {
     "name": "stderr",
     "output_type": "stream",
     "text": [
      "      41/50         0G     0.4227     0.8299     0.3681      0.299     0.8375          2        640: 100%|██████████| 4\n",
      "                 Class     Images  Instances      Box(P          R      mAP50  mAP50-95)     Pose(P          R      mAP"
     ]
    },
    {
     "name": "stdout",
     "output_type": "stream",
     "text": [
      "                   all        185        185          1          1      0.995      0.948      0.994      0.995      0.994      0.835\n"
     ]
    },
    {
     "name": "stderr",
     "output_type": "stream",
     "text": [
      "\n"
     ]
    },
    {
     "name": "stdout",
     "output_type": "stream",
     "text": [
      "\n",
      "      Epoch    GPU_mem   box_loss  pose_loss  kobj_loss   cls_loss   dfl_loss  Instances       Size\n"
     ]
    },
    {
     "name": "stderr",
     "output_type": "stream",
     "text": [
      "      42/50         0G      0.411     0.8141     0.3619     0.2943     0.8345          2        640: 100%|██████████| 4\n",
      "                 Class     Images  Instances      Box(P          R      mAP50  mAP50-95)     Pose(P          R      mAP"
     ]
    },
    {
     "name": "stdout",
     "output_type": "stream",
     "text": [
      "                   all        185        185          1          1      0.995      0.937      0.989      0.989      0.989       0.84\n"
     ]
    },
    {
     "name": "stderr",
     "output_type": "stream",
     "text": [
      "\n"
     ]
    },
    {
     "name": "stdout",
     "output_type": "stream",
     "text": [
      "\n",
      "      Epoch    GPU_mem   box_loss  pose_loss  kobj_loss   cls_loss   dfl_loss  Instances       Size\n"
     ]
    },
    {
     "name": "stderr",
     "output_type": "stream",
     "text": [
      "      43/50         0G     0.3805     0.7747     0.3486     0.2814     0.8159          2        640: 100%|██████████| 4\n",
      "                 Class     Images  Instances      Box(P          R      mAP50  mAP50-95)     Pose(P          R      mAP"
     ]
    },
    {
     "name": "stdout",
     "output_type": "stream",
     "text": [
      "                   all        185        185          1          1      0.995      0.953      0.989      0.989      0.988       0.84\n"
     ]
    },
    {
     "name": "stderr",
     "output_type": "stream",
     "text": [
      "\n"
     ]
    },
    {
     "name": "stdout",
     "output_type": "stream",
     "text": [
      "\n",
      "      Epoch    GPU_mem   box_loss  pose_loss  kobj_loss   cls_loss   dfl_loss  Instances       Size\n"
     ]
    },
    {
     "name": "stderr",
     "output_type": "stream",
     "text": [
      "      44/50         0G     0.3814     0.7229     0.3402     0.2747     0.8341          2        640: 100%|██████████| 4\n",
      "                 Class     Images  Instances      Box(P          R      mAP50  mAP50-95)     Pose(P          R      mAP"
     ]
    },
    {
     "name": "stdout",
     "output_type": "stream",
     "text": [
      "                   all        185        185          1      0.999      0.995      0.947      0.989      0.989       0.99      0.845\n"
     ]
    },
    {
     "name": "stderr",
     "output_type": "stream",
     "text": [
      "\n"
     ]
    },
    {
     "name": "stdout",
     "output_type": "stream",
     "text": [
      "\n",
      "      Epoch    GPU_mem   box_loss  pose_loss  kobj_loss   cls_loss   dfl_loss  Instances       Size\n"
     ]
    },
    {
     "name": "stderr",
     "output_type": "stream",
     "text": [
      "      45/50         0G     0.3607     0.7329     0.3378     0.2675     0.8201          2        640: 100%|██████████| 4\n",
      "                 Class     Images  Instances      Box(P          R      mAP50  mAP50-95)     Pose(P          R      mAP"
     ]
    },
    {
     "name": "stdout",
     "output_type": "stream",
     "text": [
      "                   all        185        185          1      0.999      0.995      0.955      0.989      0.988      0.991       0.86\n"
     ]
    },
    {
     "name": "stderr",
     "output_type": "stream",
     "text": [
      "\n"
     ]
    },
    {
     "name": "stdout",
     "output_type": "stream",
     "text": [
      "\n",
      "      Epoch    GPU_mem   box_loss  pose_loss  kobj_loss   cls_loss   dfl_loss  Instances       Size\n"
     ]
    },
    {
     "name": "stderr",
     "output_type": "stream",
     "text": [
      "      46/50         0G     0.3421     0.6689     0.3327     0.2569     0.8164          2        640: 100%|██████████| 4\n",
      "                 Class     Images  Instances      Box(P          R      mAP50  mAP50-95)     Pose(P          R      mAP"
     ]
    },
    {
     "name": "stdout",
     "output_type": "stream",
     "text": [
      "                   all        185        185      0.999          1      0.995       0.94      0.993      0.995      0.995      0.858\n"
     ]
    },
    {
     "name": "stderr",
     "output_type": "stream",
     "text": [
      "\n"
     ]
    },
    {
     "name": "stdout",
     "output_type": "stream",
     "text": [
      "\n",
      "      Epoch    GPU_mem   box_loss  pose_loss  kobj_loss   cls_loss   dfl_loss  Instances       Size\n"
     ]
    },
    {
     "name": "stderr",
     "output_type": "stream",
     "text": [
      "      47/50         0G     0.3337     0.6474     0.3314      0.252     0.8057          2        640: 100%|██████████| 4\n",
      "                 Class     Images  Instances      Box(P          R      mAP50  mAP50-95)     Pose(P          R      mAP"
     ]
    },
    {
     "name": "stdout",
     "output_type": "stream",
     "text": [
      "                   all        185        185      0.999          1      0.995      0.962      0.994      0.995      0.995      0.875\n"
     ]
    },
    {
     "name": "stderr",
     "output_type": "stream",
     "text": [
      "\n"
     ]
    },
    {
     "name": "stdout",
     "output_type": "stream",
     "text": [
      "\n",
      "      Epoch    GPU_mem   box_loss  pose_loss  kobj_loss   cls_loss   dfl_loss  Instances       Size\n"
     ]
    },
    {
     "name": "stderr",
     "output_type": "stream",
     "text": [
      "      48/50         0G     0.3346     0.6349     0.3314      0.246     0.8078          2        640: 100%|██████████| 4\n",
      "                 Class     Images  Instances      Box(P          R      mAP50  mAP50-95)     Pose(P          R      mAP"
     ]
    },
    {
     "name": "stdout",
     "output_type": "stream",
     "text": [
      "                   all        185        185      0.999          1      0.995      0.959      0.988      0.989      0.991       0.87\n"
     ]
    },
    {
     "name": "stderr",
     "output_type": "stream",
     "text": [
      "\n"
     ]
    },
    {
     "name": "stdout",
     "output_type": "stream",
     "text": [
      "\n",
      "      Epoch    GPU_mem   box_loss  pose_loss  kobj_loss   cls_loss   dfl_loss  Instances       Size\n"
     ]
    },
    {
     "name": "stderr",
     "output_type": "stream",
     "text": [
      "      49/50         0G     0.3243      0.627     0.3322     0.2466      0.817          2        640: 100%|██████████| 4\n",
      "                 Class     Images  Instances      Box(P          R      mAP50  mAP50-95)     Pose(P          R      mAP"
     ]
    },
    {
     "name": "stdout",
     "output_type": "stream",
     "text": [
      "                   all        185        185      0.999          1      0.995      0.961      0.988      0.989      0.991      0.879\n"
     ]
    },
    {
     "name": "stderr",
     "output_type": "stream",
     "text": [
      "\n"
     ]
    },
    {
     "name": "stdout",
     "output_type": "stream",
     "text": [
      "\n",
      "      Epoch    GPU_mem   box_loss  pose_loss  kobj_loss   cls_loss   dfl_loss  Instances       Size\n"
     ]
    },
    {
     "name": "stderr",
     "output_type": "stream",
     "text": [
      "      50/50         0G     0.3143     0.5987     0.3288     0.2369     0.8011          2        640: 100%|██████████| 4\n",
      "                 Class     Images  Instances      Box(P          R      mAP50  mAP50-95)     Pose(P          R      mAP"
     ]
    },
    {
     "name": "stdout",
     "output_type": "stream",
     "text": [
      "                   all        185        185      0.998          1      0.995      0.967      0.993      0.995      0.995      0.881\n"
     ]
    },
    {
     "name": "stderr",
     "output_type": "stream",
     "text": [
      "\n"
     ]
    },
    {
     "name": "stdout",
     "output_type": "stream",
     "text": [
      "\n",
      "50 epochs completed in 4.232 hours.\n",
      "Optimizer stripped from runs\\pose\\train22\\weights\\last.pt, 6.7MB\n",
      "Optimizer stripped from runs\\pose\\train22\\weights\\best.pt, 6.7MB\n",
      "\n",
      "Validating runs\\pose\\train22\\weights\\best.pt...\n",
      "Ultralytics YOLOv8.0.231 🚀 Python-3.8.18 torch-2.1.2+cpu CPU (Intel Core(TM) i7-7700K 4.20GHz)\n",
      "YOLOv8n-pose summary (fused): 187 layers, 3209267 parameters, 0 gradients, 8.8 GFLOPs\n"
     ]
    },
    {
     "name": "stderr",
     "output_type": "stream",
     "text": [
      "                 Class     Images  Instances      Box(P          R      mAP50  mAP50-95)     Pose(P          R      mAP\n"
     ]
    },
    {
     "name": "stdout",
     "output_type": "stream",
     "text": [
      "                   all        185        185      0.998          1      0.995      0.966      0.993      0.995      0.995      0.881\n",
      "                  Spot        185        185      0.998          1      0.995      0.966      0.993      0.995      0.995      0.881\n",
      "Speed: 0.8ms preprocess, 60.1ms inference, 0.0ms loss, 0.4ms postprocess per image\n",
      "Results saved to \u001b[1mruns\\pose\\train22\u001b[0m\n"
     ]
    },
    {
     "data": {
      "text/plain": [
       "ultralytics.utils.metrics.PoseMetrics object with attributes:\n",
       "\n",
       "ap_class_index: array([0])\n",
       "box: ultralytics.utils.metrics.Metric object\n",
       "confusion_matrix: <ultralytics.utils.metrics.ConfusionMatrix object at 0x000001D9592C5430>\n",
       "curves: ['Precision-Recall(B)', 'F1-Confidence(B)', 'Precision-Confidence(B)', 'Recall-Confidence(B)', 'Precision-Recall(P)', 'F1-Confidence(P)', 'Precision-Confidence(P)', 'Recall-Confidence(P)']\n",
       "curves_results: [[array([          0,    0.001001,    0.002002,    0.003003,    0.004004,    0.005005,    0.006006,    0.007007,    0.008008,    0.009009,     0.01001,    0.011011,    0.012012,    0.013013,    0.014014,    0.015015,    0.016016,    0.017017,    0.018018,    0.019019,     0.02002,    0.021021,    0.022022,    0.023023,\n",
       "          0.024024,    0.025025,    0.026026,    0.027027,    0.028028,    0.029029,     0.03003,    0.031031,    0.032032,    0.033033,    0.034034,    0.035035,    0.036036,    0.037037,    0.038038,    0.039039,     0.04004,    0.041041,    0.042042,    0.043043,    0.044044,    0.045045,    0.046046,    0.047047,\n",
       "          0.048048,    0.049049,     0.05005,    0.051051,    0.052052,    0.053053,    0.054054,    0.055055,    0.056056,    0.057057,    0.058058,    0.059059,     0.06006,    0.061061,    0.062062,    0.063063,    0.064064,    0.065065,    0.066066,    0.067067,    0.068068,    0.069069,     0.07007,    0.071071,\n",
       "          0.072072,    0.073073,    0.074074,    0.075075,    0.076076,    0.077077,    0.078078,    0.079079,     0.08008,    0.081081,    0.082082,    0.083083,    0.084084,    0.085085,    0.086086,    0.087087,    0.088088,    0.089089,     0.09009,    0.091091,    0.092092,    0.093093,    0.094094,    0.095095,\n",
       "          0.096096,    0.097097,    0.098098,    0.099099,      0.1001,      0.1011,      0.1021,      0.1031,      0.1041,     0.10511,     0.10611,     0.10711,     0.10811,     0.10911,     0.11011,     0.11111,     0.11211,     0.11311,     0.11411,     0.11512,     0.11612,     0.11712,     0.11812,     0.11912,\n",
       "           0.12012,     0.12112,     0.12212,     0.12312,     0.12412,     0.12513,     0.12613,     0.12713,     0.12813,     0.12913,     0.13013,     0.13113,     0.13213,     0.13313,     0.13413,     0.13514,     0.13614,     0.13714,     0.13814,     0.13914,     0.14014,     0.14114,     0.14214,     0.14314,\n",
       "           0.14414,     0.14515,     0.14615,     0.14715,     0.14815,     0.14915,     0.15015,     0.15115,     0.15215,     0.15315,     0.15415,     0.15516,     0.15616,     0.15716,     0.15816,     0.15916,     0.16016,     0.16116,     0.16216,     0.16316,     0.16416,     0.16517,     0.16617,     0.16717,\n",
       "           0.16817,     0.16917,     0.17017,     0.17117,     0.17217,     0.17317,     0.17417,     0.17518,     0.17618,     0.17718,     0.17818,     0.17918,     0.18018,     0.18118,     0.18218,     0.18318,     0.18418,     0.18519,     0.18619,     0.18719,     0.18819,     0.18919,     0.19019,     0.19119,\n",
       "           0.19219,     0.19319,     0.19419,      0.1952,      0.1962,      0.1972,      0.1982,      0.1992,      0.2002,      0.2012,      0.2022,      0.2032,      0.2042,     0.20521,     0.20621,     0.20721,     0.20821,     0.20921,     0.21021,     0.21121,     0.21221,     0.21321,     0.21421,     0.21522,\n",
       "           0.21622,     0.21722,     0.21822,     0.21922,     0.22022,     0.22122,     0.22222,     0.22322,     0.22422,     0.22523,     0.22623,     0.22723,     0.22823,     0.22923,     0.23023,     0.23123,     0.23223,     0.23323,     0.23423,     0.23524,     0.23624,     0.23724,     0.23824,     0.23924,\n",
       "           0.24024,     0.24124,     0.24224,     0.24324,     0.24424,     0.24525,     0.24625,     0.24725,     0.24825,     0.24925,     0.25025,     0.25125,     0.25225,     0.25325,     0.25425,     0.25526,     0.25626,     0.25726,     0.25826,     0.25926,     0.26026,     0.26126,     0.26226,     0.26326,\n",
       "           0.26426,     0.26527,     0.26627,     0.26727,     0.26827,     0.26927,     0.27027,     0.27127,     0.27227,     0.27327,     0.27427,     0.27528,     0.27628,     0.27728,     0.27828,     0.27928,     0.28028,     0.28128,     0.28228,     0.28328,     0.28428,     0.28529,     0.28629,     0.28729,\n",
       "           0.28829,     0.28929,     0.29029,     0.29129,     0.29229,     0.29329,     0.29429,      0.2953,      0.2963,      0.2973,      0.2983,      0.2993,      0.3003,      0.3013,      0.3023,      0.3033,      0.3043,     0.30531,     0.30631,     0.30731,     0.30831,     0.30931,     0.31031,     0.31131,\n",
       "           0.31231,     0.31331,     0.31431,     0.31532,     0.31632,     0.31732,     0.31832,     0.31932,     0.32032,     0.32132,     0.32232,     0.32332,     0.32432,     0.32533,     0.32633,     0.32733,     0.32833,     0.32933,     0.33033,     0.33133,     0.33233,     0.33333,     0.33433,     0.33534,\n",
       "           0.33634,     0.33734,     0.33834,     0.33934,     0.34034,     0.34134,     0.34234,     0.34334,     0.34434,     0.34535,     0.34635,     0.34735,     0.34835,     0.34935,     0.35035,     0.35135,     0.35235,     0.35335,     0.35435,     0.35536,     0.35636,     0.35736,     0.35836,     0.35936,\n",
       "           0.36036,     0.36136,     0.36236,     0.36336,     0.36436,     0.36537,     0.36637,     0.36737,     0.36837,     0.36937,     0.37037,     0.37137,     0.37237,     0.37337,     0.37437,     0.37538,     0.37638,     0.37738,     0.37838,     0.37938,     0.38038,     0.38138,     0.38238,     0.38338,\n",
       "           0.38438,     0.38539,     0.38639,     0.38739,     0.38839,     0.38939,     0.39039,     0.39139,     0.39239,     0.39339,     0.39439,      0.3954,      0.3964,      0.3974,      0.3984,      0.3994,      0.4004,      0.4014,      0.4024,      0.4034,      0.4044,     0.40541,     0.40641,     0.40741,\n",
       "           0.40841,     0.40941,     0.41041,     0.41141,     0.41241,     0.41341,     0.41441,     0.41542,     0.41642,     0.41742,     0.41842,     0.41942,     0.42042,     0.42142,     0.42242,     0.42342,     0.42442,     0.42543,     0.42643,     0.42743,     0.42843,     0.42943,     0.43043,     0.43143,\n",
       "           0.43243,     0.43343,     0.43443,     0.43544,     0.43644,     0.43744,     0.43844,     0.43944,     0.44044,     0.44144,     0.44244,     0.44344,     0.44444,     0.44545,     0.44645,     0.44745,     0.44845,     0.44945,     0.45045,     0.45145,     0.45245,     0.45345,     0.45445,     0.45546,\n",
       "           0.45646,     0.45746,     0.45846,     0.45946,     0.46046,     0.46146,     0.46246,     0.46346,     0.46446,     0.46547,     0.46647,     0.46747,     0.46847,     0.46947,     0.47047,     0.47147,     0.47247,     0.47347,     0.47447,     0.47548,     0.47648,     0.47748,     0.47848,     0.47948,\n",
       "           0.48048,     0.48148,     0.48248,     0.48348,     0.48448,     0.48549,     0.48649,     0.48749,     0.48849,     0.48949,     0.49049,     0.49149,     0.49249,     0.49349,     0.49449,      0.4955,      0.4965,      0.4975,      0.4985,      0.4995,      0.5005,      0.5015,      0.5025,      0.5035,\n",
       "            0.5045,     0.50551,     0.50651,     0.50751,     0.50851,     0.50951,     0.51051,     0.51151,     0.51251,     0.51351,     0.51451,     0.51552,     0.51652,     0.51752,     0.51852,     0.51952,     0.52052,     0.52152,     0.52252,     0.52352,     0.52452,     0.52553,     0.52653,     0.52753,\n",
       "           0.52853,     0.52953,     0.53053,     0.53153,     0.53253,     0.53353,     0.53453,     0.53554,     0.53654,     0.53754,     0.53854,     0.53954,     0.54054,     0.54154,     0.54254,     0.54354,     0.54454,     0.54555,     0.54655,     0.54755,     0.54855,     0.54955,     0.55055,     0.55155,\n",
       "           0.55255,     0.55355,     0.55455,     0.55556,     0.55656,     0.55756,     0.55856,     0.55956,     0.56056,     0.56156,     0.56256,     0.56356,     0.56456,     0.56557,     0.56657,     0.56757,     0.56857,     0.56957,     0.57057,     0.57157,     0.57257,     0.57357,     0.57457,     0.57558,\n",
       "           0.57658,     0.57758,     0.57858,     0.57958,     0.58058,     0.58158,     0.58258,     0.58358,     0.58458,     0.58559,     0.58659,     0.58759,     0.58859,     0.58959,     0.59059,     0.59159,     0.59259,     0.59359,     0.59459,      0.5956,      0.5966,      0.5976,      0.5986,      0.5996,\n",
       "            0.6006,      0.6016,      0.6026,      0.6036,      0.6046,     0.60561,     0.60661,     0.60761,     0.60861,     0.60961,     0.61061,     0.61161,     0.61261,     0.61361,     0.61461,     0.61562,     0.61662,     0.61762,     0.61862,     0.61962,     0.62062,     0.62162,     0.62262,     0.62362,\n",
       "           0.62462,     0.62563,     0.62663,     0.62763,     0.62863,     0.62963,     0.63063,     0.63163,     0.63263,     0.63363,     0.63463,     0.63564,     0.63664,     0.63764,     0.63864,     0.63964,     0.64064,     0.64164,     0.64264,     0.64364,     0.64464,     0.64565,     0.64665,     0.64765,\n",
       "           0.64865,     0.64965,     0.65065,     0.65165,     0.65265,     0.65365,     0.65465,     0.65566,     0.65666,     0.65766,     0.65866,     0.65966,     0.66066,     0.66166,     0.66266,     0.66366,     0.66466,     0.66567,     0.66667,     0.66767,     0.66867,     0.66967,     0.67067,     0.67167,\n",
       "           0.67267,     0.67367,     0.67467,     0.67568,     0.67668,     0.67768,     0.67868,     0.67968,     0.68068,     0.68168,     0.68268,     0.68368,     0.68468,     0.68569,     0.68669,     0.68769,     0.68869,     0.68969,     0.69069,     0.69169,     0.69269,     0.69369,     0.69469,      0.6957,\n",
       "            0.6967,      0.6977,      0.6987,      0.6997,      0.7007,      0.7017,      0.7027,      0.7037,      0.7047,     0.70571,     0.70671,     0.70771,     0.70871,     0.70971,     0.71071,     0.71171,     0.71271,     0.71371,     0.71471,     0.71572,     0.71672,     0.71772,     0.71872,     0.71972,\n",
       "           0.72072,     0.72172,     0.72272,     0.72372,     0.72472,     0.72573,     0.72673,     0.72773,     0.72873,     0.72973,     0.73073,     0.73173,     0.73273,     0.73373,     0.73473,     0.73574,     0.73674,     0.73774,     0.73874,     0.73974,     0.74074,     0.74174,     0.74274,     0.74374,\n",
       "           0.74474,     0.74575,     0.74675,     0.74775,     0.74875,     0.74975,     0.75075,     0.75175,     0.75275,     0.75375,     0.75475,     0.75576,     0.75676,     0.75776,     0.75876,     0.75976,     0.76076,     0.76176,     0.76276,     0.76376,     0.76476,     0.76577,     0.76677,     0.76777,\n",
       "           0.76877,     0.76977,     0.77077,     0.77177,     0.77277,     0.77377,     0.77477,     0.77578,     0.77678,     0.77778,     0.77878,     0.77978,     0.78078,     0.78178,     0.78278,     0.78378,     0.78478,     0.78579,     0.78679,     0.78779,     0.78879,     0.78979,     0.79079,     0.79179,\n",
       "           0.79279,     0.79379,     0.79479,      0.7958,      0.7968,      0.7978,      0.7988,      0.7998,      0.8008,      0.8018,      0.8028,      0.8038,      0.8048,     0.80581,     0.80681,     0.80781,     0.80881,     0.80981,     0.81081,     0.81181,     0.81281,     0.81381,     0.81481,     0.81582,\n",
       "           0.81682,     0.81782,     0.81882,     0.81982,     0.82082,     0.82182,     0.82282,     0.82382,     0.82482,     0.82583,     0.82683,     0.82783,     0.82883,     0.82983,     0.83083,     0.83183,     0.83283,     0.83383,     0.83483,     0.83584,     0.83684,     0.83784,     0.83884,     0.83984,\n",
       "           0.84084,     0.84184,     0.84284,     0.84384,     0.84484,     0.84585,     0.84685,     0.84785,     0.84885,     0.84985,     0.85085,     0.85185,     0.85285,     0.85385,     0.85485,     0.85586,     0.85686,     0.85786,     0.85886,     0.85986,     0.86086,     0.86186,     0.86286,     0.86386,\n",
       "           0.86486,     0.86587,     0.86687,     0.86787,     0.86887,     0.86987,     0.87087,     0.87187,     0.87287,     0.87387,     0.87487,     0.87588,     0.87688,     0.87788,     0.87888,     0.87988,     0.88088,     0.88188,     0.88288,     0.88388,     0.88488,     0.88589,     0.88689,     0.88789,\n",
       "           0.88889,     0.88989,     0.89089,     0.89189,     0.89289,     0.89389,     0.89489,      0.8959,      0.8969,      0.8979,      0.8989,      0.8999,      0.9009,      0.9019,      0.9029,      0.9039,      0.9049,     0.90591,     0.90691,     0.90791,     0.90891,     0.90991,     0.91091,     0.91191,\n",
       "           0.91291,     0.91391,     0.91491,     0.91592,     0.91692,     0.91792,     0.91892,     0.91992,     0.92092,     0.92192,     0.92292,     0.92392,     0.92492,     0.92593,     0.92693,     0.92793,     0.92893,     0.92993,     0.93093,     0.93193,     0.93293,     0.93393,     0.93493,     0.93594,\n",
       "           0.93694,     0.93794,     0.93894,     0.93994,     0.94094,     0.94194,     0.94294,     0.94394,     0.94494,     0.94595,     0.94695,     0.94795,     0.94895,     0.94995,     0.95095,     0.95195,     0.95295,     0.95395,     0.95495,     0.95596,     0.95696,     0.95796,     0.95896,     0.95996,\n",
       "           0.96096,     0.96196,     0.96296,     0.96396,     0.96496,     0.96597,     0.96697,     0.96797,     0.96897,     0.96997,     0.97097,     0.97197,     0.97297,     0.97397,     0.97497,     0.97598,     0.97698,     0.97798,     0.97898,     0.97998,     0.98098,     0.98198,     0.98298,     0.98398,\n",
       "           0.98498,     0.98599,     0.98699,     0.98799,     0.98899,     0.98999,     0.99099,     0.99199,     0.99299,     0.99399,     0.99499,       0.996,       0.997,       0.998,       0.999,           1]), array([[          1,           1,           1,           1,           1,           1,           1,           1,           1,           1,           1,           1,           1,           1,           1,           1,           1,           1,           1,           1,           1,           1,           1,\n",
       "                  1,           1,           1,           1,           1,           1,           1,           1,           1,           1,           1,           1,           1,           1,           1,           1,           1,           1,           1,           1,           1,           1,           1,\n",
       "                  1,           1,           1,           1,           1,           1,           1,           1,           1,           1,           1,           1,           1,           1,           1,           1,           1,           1,           1,           1,           1,           1,           1,\n",
       "                  1,           1,           1,           1,           1,           1,           1,           1,           1,           1,           1,           1,           1,           1,           1,           1,           1,           1,           1,           1,           1,           1,           1,\n",
       "                  1,           1,           1,           1,           1,           1,           1,           1,           1,           1,           1,           1,           1,           1,           1,           1,           1,           1,           1,           1,           1,           1,           1,\n",
       "                  1,           1,           1,           1,           1,           1,           1,           1,           1,           1,           1,           1,           1,           1,           1,           1,           1,           1,           1,           1,           1,           1,           1,\n",
       "                  1,           1,           1,           1,           1,           1,           1,           1,           1,           1,           1,           1,           1,           1,           1,           1,           1,           1,           1,           1,           1,           1,           1,\n",
       "                  1,           1,           1,           1,           1,           1,           1,           1,           1,           1,           1,           1,           1,           1,           1,           1,           1,           1,           1,           1,           1,           1,           1,\n",
       "                  1,           1,           1,           1,           1,           1,           1,           1,           1,           1,           1,           1,           1,           1,           1,           1,           1,           1,           1,           1,           1,           1,           1,\n",
       "                  1,           1,           1,           1,           1,           1,           1,           1,           1,           1,           1,           1,           1,           1,           1,           1,           1,           1,           1,           1,           1,           1,           1,\n",
       "                  1,           1,           1,           1,           1,           1,           1,           1,           1,           1,           1,           1,           1,           1,           1,           1,           1,           1,           1,           1,           1,           1,           1,\n",
       "                  1,           1,           1,           1,           1,           1,           1,           1,           1,           1,           1,           1,           1,           1,           1,           1,           1,           1,           1,           1,           1,           1,           1,\n",
       "                  1,           1,           1,           1,           1,           1,           1,           1,           1,           1,           1,           1,           1,           1,           1,           1,           1,           1,           1,           1,           1,           1,           1,\n",
       "                  1,           1,           1,           1,           1,           1,           1,           1,           1,           1,           1,           1,           1,           1,           1,           1,           1,           1,           1,           1,           1,           1,           1,\n",
       "                  1,           1,           1,           1,           1,           1,           1,           1,           1,           1,           1,           1,           1,           1,           1,           1,           1,           1,           1,           1,           1,           1,           1,\n",
       "                  1,           1,           1,           1,           1,           1,           1,           1,           1,           1,           1,           1,           1,           1,           1,           1,           1,           1,           1,           1,           1,           1,           1,\n",
       "                  1,           1,           1,           1,           1,           1,           1,           1,           1,           1,           1,           1,           1,           1,           1,           1,           1,           1,           1,           1,           1,           1,           1,\n",
       "                  1,           1,           1,           1,           1,           1,           1,           1,           1,           1,           1,           1,           1,           1,           1,           1,           1,           1,           1,           1,           1,           1,           1,\n",
       "                  1,           1,           1,           1,           1,           1,           1,           1,           1,           1,           1,           1,           1,           1,           1,           1,           1,           1,           1,           1,           1,           1,           1,\n",
       "                  1,           1,           1,           1,           1,           1,           1,           1,           1,           1,           1,           1,           1,           1,           1,           1,           1,           1,           1,           1,           1,           1,           1,\n",
       "                  1,           1,           1,           1,           1,           1,           1,           1,           1,           1,           1,           1,           1,           1,           1,           1,           1,           1,           1,           1,           1,           1,           1,\n",
       "                  1,           1,           1,           1,           1,           1,           1,           1,           1,           1,           1,           1,           1,           1,           1,           1,           1,           1,           1,           1,           1,           1,           1,\n",
       "                  1,           1,           1,           1,           1,           1,           1,           1,           1,           1,           1,           1,           1,           1,           1,           1,           1,           1,           1,           1,           1,           1,           1,\n",
       "                  1,           1,           1,           1,           1,           1,           1,           1,           1,           1,           1,           1,           1,           1,           1,           1,           1,           1,           1,           1,           1,           1,           1,\n",
       "                  1,           1,           1,           1,           1,           1,           1,           1,           1,           1,           1,           1,           1,           1,           1,           1,           1,           1,           1,           1,           1,           1,           1,\n",
       "                  1,           1,           1,           1,           1,           1,           1,           1,           1,           1,           1,           1,           1,           1,           1,           1,           1,           1,           1,           1,           1,           1,           1,\n",
       "                  1,           1,           1,           1,           1,           1,           1,           1,           1,           1,           1,           1,           1,           1,           1,           1,           1,           1,           1,           1,           1,           1,           1,\n",
       "                  1,           1,           1,           1,           1,           1,           1,           1,           1,           1,           1,           1,           1,           1,           1,           1,           1,           1,           1,           1,           1,           1,           1,\n",
       "                  1,           1,           1,           1,           1,           1,           1,           1,           1,           1,           1,           1,           1,           1,           1,           1,           1,           1,           1,           1,           1,           1,           1,\n",
       "                  1,           1,           1,           1,           1,           1,           1,           1,           1,           1,           1,           1,           1,           1,           1,           1,           1,           1,           1,           1,           1,           1,           1,\n",
       "                  1,           1,           1,           1,           1,           1,           1,           1,           1,           1,           1,           1,           1,           1,           1,           1,           1,           1,           1,           1,           1,           1,           1,\n",
       "                  1,           1,           1,           1,           1,           1,           1,           1,           1,           1,           1,           1,           1,           1,           1,           1,           1,           1,           1,           1,           1,           1,           1,\n",
       "                  1,           1,           1,           1,           1,           1,           1,           1,           1,           1,           1,           1,           1,           1,           1,           1,           1,           1,           1,           1,           1,           1,           1,\n",
       "                  1,           1,           1,           1,           1,           1,           1,           1,           1,           1,           1,           1,           1,           1,           1,           1,           1,           1,           1,           1,           1,           1,           1,\n",
       "                  1,           1,           1,           1,           1,           1,           1,           1,           1,           1,           1,           1,           1,           1,           1,           1,           1,           1,           1,           1,           1,           1,           1,\n",
       "                  1,           1,           1,           1,           1,           1,           1,           1,           1,           1,           1,           1,           1,           1,           1,           1,           1,           1,           1,           1,           1,           1,           1,\n",
       "                  1,           1,           1,           1,           1,           1,           1,           1,           1,           1,           1,           1,           1,           1,           1,           1,           1,           1,           1,           1,           1,           1,           1,\n",
       "                  1,           1,           1,           1,           1,           1,           1,           1,           1,           1,           1,           1,           1,           1,           1,           1,           1,           1,           1,           1,           1,           1,           1,\n",
       "                  1,           1,           1,           1,           1,           1,           1,           1,           1,           1,           1,           1,           1,           1,           1,           1,           1,           1,           1,           1,           1,           1,           1,\n",
       "                  1,           1,           1,           1,           1,           1,           1,           1,           1,           1,           1,           1,           1,           1,           1,           1,           1,           1,           1,           1,           1,           1,           1,\n",
       "                  1,           1,           1,           1,           1,           1,           1,           1,           1,           1,           1,           1,           1,           1,           1,           1,           1,           1,           1,           1,           1,           1,           1,\n",
       "                  1,           1,           1,           1,           1,           1,           1,           1,           1,           1,           1,           1,           1,           1,           1,           1,           1,           1,           1,           1,           1,           1,           1,\n",
       "                  1,           1,           1,           1,           1,           1,           1,           1,           1,           1,           1,           1,           1,           1,           1,           1,           1,           1,           1,           1,           1,           1,           1,\n",
       "                  1,           1,           1,           1,           1,           1,           1,           1,           1,           1,           0]]), 'Recall', 'Precision'], [array([          0,    0.001001,    0.002002,    0.003003,    0.004004,    0.005005,    0.006006,    0.007007,    0.008008,    0.009009,     0.01001,    0.011011,    0.012012,    0.013013,    0.014014,    0.015015,    0.016016,    0.017017,    0.018018,    0.019019,     0.02002,    0.021021,    0.022022,    0.023023,\n",
       "          0.024024,    0.025025,    0.026026,    0.027027,    0.028028,    0.029029,     0.03003,    0.031031,    0.032032,    0.033033,    0.034034,    0.035035,    0.036036,    0.037037,    0.038038,    0.039039,     0.04004,    0.041041,    0.042042,    0.043043,    0.044044,    0.045045,    0.046046,    0.047047,\n",
       "          0.048048,    0.049049,     0.05005,    0.051051,    0.052052,    0.053053,    0.054054,    0.055055,    0.056056,    0.057057,    0.058058,    0.059059,     0.06006,    0.061061,    0.062062,    0.063063,    0.064064,    0.065065,    0.066066,    0.067067,    0.068068,    0.069069,     0.07007,    0.071071,\n",
       "          0.072072,    0.073073,    0.074074,    0.075075,    0.076076,    0.077077,    0.078078,    0.079079,     0.08008,    0.081081,    0.082082,    0.083083,    0.084084,    0.085085,    0.086086,    0.087087,    0.088088,    0.089089,     0.09009,    0.091091,    0.092092,    0.093093,    0.094094,    0.095095,\n",
       "          0.096096,    0.097097,    0.098098,    0.099099,      0.1001,      0.1011,      0.1021,      0.1031,      0.1041,     0.10511,     0.10611,     0.10711,     0.10811,     0.10911,     0.11011,     0.11111,     0.11211,     0.11311,     0.11411,     0.11512,     0.11612,     0.11712,     0.11812,     0.11912,\n",
       "           0.12012,     0.12112,     0.12212,     0.12312,     0.12412,     0.12513,     0.12613,     0.12713,     0.12813,     0.12913,     0.13013,     0.13113,     0.13213,     0.13313,     0.13413,     0.13514,     0.13614,     0.13714,     0.13814,     0.13914,     0.14014,     0.14114,     0.14214,     0.14314,\n",
       "           0.14414,     0.14515,     0.14615,     0.14715,     0.14815,     0.14915,     0.15015,     0.15115,     0.15215,     0.15315,     0.15415,     0.15516,     0.15616,     0.15716,     0.15816,     0.15916,     0.16016,     0.16116,     0.16216,     0.16316,     0.16416,     0.16517,     0.16617,     0.16717,\n",
       "           0.16817,     0.16917,     0.17017,     0.17117,     0.17217,     0.17317,     0.17417,     0.17518,     0.17618,     0.17718,     0.17818,     0.17918,     0.18018,     0.18118,     0.18218,     0.18318,     0.18418,     0.18519,     0.18619,     0.18719,     0.18819,     0.18919,     0.19019,     0.19119,\n",
       "           0.19219,     0.19319,     0.19419,      0.1952,      0.1962,      0.1972,      0.1982,      0.1992,      0.2002,      0.2012,      0.2022,      0.2032,      0.2042,     0.20521,     0.20621,     0.20721,     0.20821,     0.20921,     0.21021,     0.21121,     0.21221,     0.21321,     0.21421,     0.21522,\n",
       "           0.21622,     0.21722,     0.21822,     0.21922,     0.22022,     0.22122,     0.22222,     0.22322,     0.22422,     0.22523,     0.22623,     0.22723,     0.22823,     0.22923,     0.23023,     0.23123,     0.23223,     0.23323,     0.23423,     0.23524,     0.23624,     0.23724,     0.23824,     0.23924,\n",
       "           0.24024,     0.24124,     0.24224,     0.24324,     0.24424,     0.24525,     0.24625,     0.24725,     0.24825,     0.24925,     0.25025,     0.25125,     0.25225,     0.25325,     0.25425,     0.25526,     0.25626,     0.25726,     0.25826,     0.25926,     0.26026,     0.26126,     0.26226,     0.26326,\n",
       "           0.26426,     0.26527,     0.26627,     0.26727,     0.26827,     0.26927,     0.27027,     0.27127,     0.27227,     0.27327,     0.27427,     0.27528,     0.27628,     0.27728,     0.27828,     0.27928,     0.28028,     0.28128,     0.28228,     0.28328,     0.28428,     0.28529,     0.28629,     0.28729,\n",
       "           0.28829,     0.28929,     0.29029,     0.29129,     0.29229,     0.29329,     0.29429,      0.2953,      0.2963,      0.2973,      0.2983,      0.2993,      0.3003,      0.3013,      0.3023,      0.3033,      0.3043,     0.30531,     0.30631,     0.30731,     0.30831,     0.30931,     0.31031,     0.31131,\n",
       "           0.31231,     0.31331,     0.31431,     0.31532,     0.31632,     0.31732,     0.31832,     0.31932,     0.32032,     0.32132,     0.32232,     0.32332,     0.32432,     0.32533,     0.32633,     0.32733,     0.32833,     0.32933,     0.33033,     0.33133,     0.33233,     0.33333,     0.33433,     0.33534,\n",
       "           0.33634,     0.33734,     0.33834,     0.33934,     0.34034,     0.34134,     0.34234,     0.34334,     0.34434,     0.34535,     0.34635,     0.34735,     0.34835,     0.34935,     0.35035,     0.35135,     0.35235,     0.35335,     0.35435,     0.35536,     0.35636,     0.35736,     0.35836,     0.35936,\n",
       "           0.36036,     0.36136,     0.36236,     0.36336,     0.36436,     0.36537,     0.36637,     0.36737,     0.36837,     0.36937,     0.37037,     0.37137,     0.37237,     0.37337,     0.37437,     0.37538,     0.37638,     0.37738,     0.37838,     0.37938,     0.38038,     0.38138,     0.38238,     0.38338,\n",
       "           0.38438,     0.38539,     0.38639,     0.38739,     0.38839,     0.38939,     0.39039,     0.39139,     0.39239,     0.39339,     0.39439,      0.3954,      0.3964,      0.3974,      0.3984,      0.3994,      0.4004,      0.4014,      0.4024,      0.4034,      0.4044,     0.40541,     0.40641,     0.40741,\n",
       "           0.40841,     0.40941,     0.41041,     0.41141,     0.41241,     0.41341,     0.41441,     0.41542,     0.41642,     0.41742,     0.41842,     0.41942,     0.42042,     0.42142,     0.42242,     0.42342,     0.42442,     0.42543,     0.42643,     0.42743,     0.42843,     0.42943,     0.43043,     0.43143,\n",
       "           0.43243,     0.43343,     0.43443,     0.43544,     0.43644,     0.43744,     0.43844,     0.43944,     0.44044,     0.44144,     0.44244,     0.44344,     0.44444,     0.44545,     0.44645,     0.44745,     0.44845,     0.44945,     0.45045,     0.45145,     0.45245,     0.45345,     0.45445,     0.45546,\n",
       "           0.45646,     0.45746,     0.45846,     0.45946,     0.46046,     0.46146,     0.46246,     0.46346,     0.46446,     0.46547,     0.46647,     0.46747,     0.46847,     0.46947,     0.47047,     0.47147,     0.47247,     0.47347,     0.47447,     0.47548,     0.47648,     0.47748,     0.47848,     0.47948,\n",
       "           0.48048,     0.48148,     0.48248,     0.48348,     0.48448,     0.48549,     0.48649,     0.48749,     0.48849,     0.48949,     0.49049,     0.49149,     0.49249,     0.49349,     0.49449,      0.4955,      0.4965,      0.4975,      0.4985,      0.4995,      0.5005,      0.5015,      0.5025,      0.5035,\n",
       "            0.5045,     0.50551,     0.50651,     0.50751,     0.50851,     0.50951,     0.51051,     0.51151,     0.51251,     0.51351,     0.51451,     0.51552,     0.51652,     0.51752,     0.51852,     0.51952,     0.52052,     0.52152,     0.52252,     0.52352,     0.52452,     0.52553,     0.52653,     0.52753,\n",
       "           0.52853,     0.52953,     0.53053,     0.53153,     0.53253,     0.53353,     0.53453,     0.53554,     0.53654,     0.53754,     0.53854,     0.53954,     0.54054,     0.54154,     0.54254,     0.54354,     0.54454,     0.54555,     0.54655,     0.54755,     0.54855,     0.54955,     0.55055,     0.55155,\n",
       "           0.55255,     0.55355,     0.55455,     0.55556,     0.55656,     0.55756,     0.55856,     0.55956,     0.56056,     0.56156,     0.56256,     0.56356,     0.56456,     0.56557,     0.56657,     0.56757,     0.56857,     0.56957,     0.57057,     0.57157,     0.57257,     0.57357,     0.57457,     0.57558,\n",
       "           0.57658,     0.57758,     0.57858,     0.57958,     0.58058,     0.58158,     0.58258,     0.58358,     0.58458,     0.58559,     0.58659,     0.58759,     0.58859,     0.58959,     0.59059,     0.59159,     0.59259,     0.59359,     0.59459,      0.5956,      0.5966,      0.5976,      0.5986,      0.5996,\n",
       "            0.6006,      0.6016,      0.6026,      0.6036,      0.6046,     0.60561,     0.60661,     0.60761,     0.60861,     0.60961,     0.61061,     0.61161,     0.61261,     0.61361,     0.61461,     0.61562,     0.61662,     0.61762,     0.61862,     0.61962,     0.62062,     0.62162,     0.62262,     0.62362,\n",
       "           0.62462,     0.62563,     0.62663,     0.62763,     0.62863,     0.62963,     0.63063,     0.63163,     0.63263,     0.63363,     0.63463,     0.63564,     0.63664,     0.63764,     0.63864,     0.63964,     0.64064,     0.64164,     0.64264,     0.64364,     0.64464,     0.64565,     0.64665,     0.64765,\n",
       "           0.64865,     0.64965,     0.65065,     0.65165,     0.65265,     0.65365,     0.65465,     0.65566,     0.65666,     0.65766,     0.65866,     0.65966,     0.66066,     0.66166,     0.66266,     0.66366,     0.66466,     0.66567,     0.66667,     0.66767,     0.66867,     0.66967,     0.67067,     0.67167,\n",
       "           0.67267,     0.67367,     0.67467,     0.67568,     0.67668,     0.67768,     0.67868,     0.67968,     0.68068,     0.68168,     0.68268,     0.68368,     0.68468,     0.68569,     0.68669,     0.68769,     0.68869,     0.68969,     0.69069,     0.69169,     0.69269,     0.69369,     0.69469,      0.6957,\n",
       "            0.6967,      0.6977,      0.6987,      0.6997,      0.7007,      0.7017,      0.7027,      0.7037,      0.7047,     0.70571,     0.70671,     0.70771,     0.70871,     0.70971,     0.71071,     0.71171,     0.71271,     0.71371,     0.71471,     0.71572,     0.71672,     0.71772,     0.71872,     0.71972,\n",
       "           0.72072,     0.72172,     0.72272,     0.72372,     0.72472,     0.72573,     0.72673,     0.72773,     0.72873,     0.72973,     0.73073,     0.73173,     0.73273,     0.73373,     0.73473,     0.73574,     0.73674,     0.73774,     0.73874,     0.73974,     0.74074,     0.74174,     0.74274,     0.74374,\n",
       "           0.74474,     0.74575,     0.74675,     0.74775,     0.74875,     0.74975,     0.75075,     0.75175,     0.75275,     0.75375,     0.75475,     0.75576,     0.75676,     0.75776,     0.75876,     0.75976,     0.76076,     0.76176,     0.76276,     0.76376,     0.76476,     0.76577,     0.76677,     0.76777,\n",
       "           0.76877,     0.76977,     0.77077,     0.77177,     0.77277,     0.77377,     0.77477,     0.77578,     0.77678,     0.77778,     0.77878,     0.77978,     0.78078,     0.78178,     0.78278,     0.78378,     0.78478,     0.78579,     0.78679,     0.78779,     0.78879,     0.78979,     0.79079,     0.79179,\n",
       "           0.79279,     0.79379,     0.79479,      0.7958,      0.7968,      0.7978,      0.7988,      0.7998,      0.8008,      0.8018,      0.8028,      0.8038,      0.8048,     0.80581,     0.80681,     0.80781,     0.80881,     0.80981,     0.81081,     0.81181,     0.81281,     0.81381,     0.81481,     0.81582,\n",
       "           0.81682,     0.81782,     0.81882,     0.81982,     0.82082,     0.82182,     0.82282,     0.82382,     0.82482,     0.82583,     0.82683,     0.82783,     0.82883,     0.82983,     0.83083,     0.83183,     0.83283,     0.83383,     0.83483,     0.83584,     0.83684,     0.83784,     0.83884,     0.83984,\n",
       "           0.84084,     0.84184,     0.84284,     0.84384,     0.84484,     0.84585,     0.84685,     0.84785,     0.84885,     0.84985,     0.85085,     0.85185,     0.85285,     0.85385,     0.85485,     0.85586,     0.85686,     0.85786,     0.85886,     0.85986,     0.86086,     0.86186,     0.86286,     0.86386,\n",
       "           0.86486,     0.86587,     0.86687,     0.86787,     0.86887,     0.86987,     0.87087,     0.87187,     0.87287,     0.87387,     0.87487,     0.87588,     0.87688,     0.87788,     0.87888,     0.87988,     0.88088,     0.88188,     0.88288,     0.88388,     0.88488,     0.88589,     0.88689,     0.88789,\n",
       "           0.88889,     0.88989,     0.89089,     0.89189,     0.89289,     0.89389,     0.89489,      0.8959,      0.8969,      0.8979,      0.8989,      0.8999,      0.9009,      0.9019,      0.9029,      0.9039,      0.9049,     0.90591,     0.90691,     0.90791,     0.90891,     0.90991,     0.91091,     0.91191,\n",
       "           0.91291,     0.91391,     0.91491,     0.91592,     0.91692,     0.91792,     0.91892,     0.91992,     0.92092,     0.92192,     0.92292,     0.92392,     0.92492,     0.92593,     0.92693,     0.92793,     0.92893,     0.92993,     0.93093,     0.93193,     0.93293,     0.93393,     0.93493,     0.93594,\n",
       "           0.93694,     0.93794,     0.93894,     0.93994,     0.94094,     0.94194,     0.94294,     0.94394,     0.94494,     0.94595,     0.94695,     0.94795,     0.94895,     0.94995,     0.95095,     0.95195,     0.95295,     0.95395,     0.95495,     0.95596,     0.95696,     0.95796,     0.95896,     0.95996,\n",
       "           0.96096,     0.96196,     0.96296,     0.96396,     0.96496,     0.96597,     0.96697,     0.96797,     0.96897,     0.96997,     0.97097,     0.97197,     0.97297,     0.97397,     0.97497,     0.97598,     0.97698,     0.97798,     0.97898,     0.97998,     0.98098,     0.98198,     0.98298,     0.98398,\n",
       "           0.98498,     0.98599,     0.98699,     0.98799,     0.98899,     0.98999,     0.99099,     0.99199,     0.99299,     0.99399,     0.99499,       0.996,       0.997,       0.998,       0.999,           1]), array([[    0.84475,     0.84475,     0.92423,     0.95276,     0.96191,     0.96671,     0.97331,     0.98226,     0.98698,     0.98835,     0.99047,     0.99243,     0.99321,     0.99398,     0.99462,     0.99463,     0.99463,     0.99464,     0.99464,     0.99465,     0.99465,     0.99465,     0.99466,\n",
       "            0.99466,     0.99467,     0.99467,     0.99468,     0.99468,     0.99468,     0.99469,     0.99469,      0.9947,      0.9947,     0.99471,     0.99471,     0.99471,     0.99472,     0.99472,     0.99473,     0.99473,     0.99474,     0.99474,     0.99474,     0.99475,     0.99475,     0.99476,\n",
       "            0.99476,     0.99477,     0.99477,     0.99478,     0.99478,     0.99478,     0.99479,     0.99479,      0.9948,      0.9948,     0.99481,     0.99481,     0.99481,     0.99482,     0.99482,     0.99483,     0.99483,     0.99484,     0.99484,     0.99484,     0.99485,     0.99485,     0.99486,\n",
       "            0.99486,     0.99487,     0.99487,     0.99487,     0.99488,     0.99488,     0.99489,     0.99489,      0.9949,      0.9949,      0.9949,     0.99491,     0.99491,     0.99492,     0.99492,     0.99493,     0.99493,     0.99493,     0.99494,     0.99494,     0.99495,     0.99495,     0.99496,\n",
       "            0.99496,     0.99496,     0.99497,     0.99497,     0.99498,     0.99498,     0.99499,     0.99499,     0.99499,       0.995,       0.995,     0.99501,     0.99501,     0.99502,     0.99502,     0.99502,     0.99503,     0.99503,     0.99504,     0.99504,     0.99505,     0.99505,     0.99505,\n",
       "            0.99506,     0.99506,     0.99507,     0.99507,     0.99508,     0.99508,     0.99508,     0.99509,     0.99509,      0.9951,      0.9951,     0.99511,     0.99511,     0.99511,     0.99512,     0.99512,     0.99513,     0.99513,     0.99514,     0.99514,     0.99515,     0.99515,     0.99515,\n",
       "            0.99516,     0.99516,     0.99517,     0.99517,     0.99518,     0.99518,     0.99518,     0.99519,     0.99519,      0.9952,      0.9952,     0.99521,     0.99521,     0.99521,     0.99522,     0.99522,     0.99523,     0.99523,     0.99524,     0.99524,     0.99524,     0.99525,     0.99525,\n",
       "            0.99526,     0.99526,     0.99527,     0.99527,     0.99527,     0.99528,     0.99528,     0.99529,     0.99529,      0.9953,      0.9953,      0.9953,     0.99531,     0.99531,     0.99532,     0.99532,     0.99533,     0.99533,     0.99533,     0.99534,     0.99534,     0.99535,     0.99535,\n",
       "            0.99536,     0.99536,     0.99536,     0.99537,     0.99537,     0.99538,     0.99538,     0.99539,     0.99539,     0.99539,      0.9954,      0.9954,     0.99541,     0.99541,     0.99542,     0.99542,     0.99542,     0.99543,     0.99543,     0.99544,     0.99544,     0.99545,     0.99545,\n",
       "            0.99545,     0.99546,     0.99546,     0.99547,     0.99547,     0.99548,     0.99548,     0.99548,     0.99549,     0.99549,      0.9955,      0.9955,     0.99551,     0.99551,     0.99551,     0.99552,     0.99552,     0.99553,     0.99553,     0.99554,     0.99554,     0.99554,     0.99555,\n",
       "            0.99555,     0.99556,     0.99556,     0.99557,     0.99557,     0.99557,     0.99558,     0.99558,     0.99559,     0.99559,      0.9956,      0.9956,     0.99561,     0.99561,     0.99561,     0.99562,     0.99562,     0.99563,     0.99563,     0.99564,     0.99564,     0.99564,     0.99565,\n",
       "            0.99565,     0.99566,     0.99566,     0.99567,     0.99567,     0.99567,     0.99568,     0.99568,     0.99569,     0.99569,      0.9957,      0.9957,      0.9957,     0.99571,     0.99571,     0.99572,     0.99572,     0.99573,     0.99573,     0.99573,     0.99574,     0.99574,     0.99575,\n",
       "            0.99575,     0.99576,     0.99576,     0.99576,     0.99577,     0.99577,     0.99578,     0.99578,     0.99579,     0.99579,     0.99579,      0.9958,      0.9958,     0.99581,     0.99581,     0.99582,     0.99582,     0.99582,     0.99583,     0.99583,     0.99584,     0.99584,     0.99585,\n",
       "            0.99585,     0.99585,     0.99586,     0.99586,     0.99587,     0.99587,     0.99588,     0.99588,     0.99588,     0.99589,     0.99589,      0.9959,      0.9959,     0.99591,     0.99591,     0.99591,     0.99592,     0.99592,     0.99593,     0.99593,     0.99594,     0.99594,     0.99594,\n",
       "            0.99595,     0.99595,     0.99596,     0.99596,     0.99597,     0.99597,     0.99597,     0.99598,     0.99598,     0.99599,     0.99599,       0.996,       0.996,       0.996,     0.99601,     0.99601,     0.99602,     0.99602,     0.99603,     0.99603,     0.99603,     0.99604,     0.99604,\n",
       "            0.99605,     0.99605,     0.99606,     0.99606,     0.99606,     0.99607,     0.99607,     0.99608,     0.99608,     0.99609,     0.99609,     0.99609,      0.9961,      0.9961,     0.99611,     0.99611,     0.99612,     0.99612,     0.99612,     0.99613,     0.99613,     0.99614,     0.99614,\n",
       "            0.99615,     0.99615,     0.99615,     0.99616,     0.99616,     0.99617,     0.99617,     0.99618,     0.99618,     0.99618,     0.99619,     0.99619,      0.9962,      0.9962,     0.99621,     0.99621,     0.99621,     0.99622,     0.99622,     0.99623,     0.99623,     0.99624,     0.99624,\n",
       "            0.99624,     0.99625,     0.99625,     0.99626,     0.99626,     0.99627,     0.99627,     0.99627,     0.99628,     0.99628,     0.99629,     0.99629,      0.9963,      0.9963,      0.9963,     0.99631,     0.99631,     0.99632,     0.99632,     0.99633,     0.99633,     0.99633,     0.99634,\n",
       "            0.99634,     0.99635,     0.99635,     0.99636,     0.99636,     0.99636,     0.99637,     0.99637,     0.99638,     0.99638,     0.99639,     0.99639,      0.9964,      0.9964,      0.9964,     0.99641,     0.99641,     0.99642,     0.99642,     0.99643,     0.99643,     0.99643,     0.99644,\n",
       "            0.99644,     0.99645,     0.99645,     0.99646,     0.99646,     0.99646,     0.99647,     0.99647,     0.99648,     0.99648,     0.99649,     0.99649,     0.99649,      0.9965,      0.9965,     0.99651,     0.99651,     0.99652,     0.99652,     0.99652,     0.99653,     0.99653,     0.99654,\n",
       "            0.99654,     0.99655,     0.99655,     0.99655,     0.99656,     0.99656,     0.99657,     0.99657,     0.99658,     0.99658,     0.99658,     0.99659,     0.99659,      0.9966,      0.9966,     0.99661,     0.99661,     0.99661,     0.99662,     0.99662,     0.99663,     0.99663,     0.99664,\n",
       "            0.99664,     0.99664,     0.99665,     0.99665,     0.99666,     0.99666,     0.99667,     0.99667,     0.99667,     0.99668,     0.99668,     0.99669,     0.99669,      0.9967,      0.9967,      0.9967,     0.99671,     0.99671,     0.99672,     0.99672,     0.99673,     0.99673,     0.99673,\n",
       "            0.99674,     0.99674,     0.99675,     0.99675,     0.99676,     0.99676,     0.99676,     0.99677,     0.99677,     0.99678,     0.99678,     0.99679,     0.99679,     0.99679,      0.9968,      0.9968,     0.99681,     0.99681,     0.99682,     0.99682,     0.99682,     0.99683,     0.99683,\n",
       "            0.99684,     0.99684,     0.99685,     0.99685,     0.99685,     0.99686,     0.99686,     0.99687,     0.99687,     0.99688,     0.99688,     0.99688,     0.99689,     0.99689,      0.9969,      0.9969,     0.99691,     0.99691,     0.99691,     0.99692,     0.99692,     0.99693,     0.99693,\n",
       "            0.99694,     0.99694,     0.99694,     0.99695,     0.99695,     0.99696,     0.99696,     0.99697,     0.99697,     0.99697,     0.99698,     0.99698,     0.99699,     0.99699,       0.997,       0.997,       0.997,     0.99701,     0.99701,     0.99702,     0.99702,     0.99703,     0.99703,\n",
       "            0.99703,     0.99704,     0.99704,     0.99705,     0.99705,     0.99706,     0.99706,     0.99706,     0.99707,     0.99707,     0.99708,     0.99708,     0.99709,     0.99709,     0.99709,      0.9971,      0.9971,     0.99711,     0.99711,     0.99712,     0.99712,     0.99712,     0.99713,\n",
       "            0.99713,     0.99714,     0.99714,     0.99715,     0.99715,     0.99715,     0.99716,     0.99716,     0.99717,     0.99717,     0.99718,     0.99718,     0.99718,     0.99719,     0.99719,      0.9972,      0.9972,     0.99721,     0.99721,     0.99721,     0.99722,     0.99722,     0.99723,\n",
       "            0.99723,     0.99724,     0.99724,     0.99724,     0.99725,     0.99725,     0.99726,     0.99726,     0.99727,     0.99727,     0.99727,     0.99728,     0.99728,     0.99729,     0.99729,      0.9973,      0.9973,      0.9973,     0.99732,     0.99734,     0.99736,     0.99737,     0.99739,\n",
       "            0.99741,     0.99743,     0.99745,     0.99746,     0.99748,      0.9975,     0.99752,     0.99754,     0.99755,     0.99757,     0.99759,     0.99761,     0.99763,     0.99764,     0.99766,     0.99768,      0.9977,     0.99772,     0.99773,     0.99775,     0.99777,     0.99779,     0.99781,\n",
       "            0.99782,     0.99784,     0.99786,     0.99788,      0.9979,     0.99791,     0.99793,     0.99795,     0.99797,     0.99799,     0.99801,     0.99802,     0.99804,     0.99806,     0.99808,      0.9981,     0.99811,     0.99813,     0.99815,     0.99817,     0.99819,      0.9982,     0.99822,\n",
       "            0.99824,     0.99826,     0.99828,     0.99829,     0.99831,     0.99833,     0.99835,     0.99837,     0.99838,      0.9984,     0.99842,     0.99844,     0.99846,     0.99847,     0.99849,     0.99851,     0.99853,     0.99855,     0.99856,     0.99858,      0.9986,     0.99862,     0.99864,\n",
       "            0.99865,     0.99867,     0.99869,     0.99871,     0.99873,     0.99874,     0.99876,     0.99878,      0.9988,     0.99882,     0.99883,     0.99885,     0.99887,     0.99889,     0.99891,     0.99892,     0.99894,     0.99896,     0.99898,       0.999,     0.99901,     0.99903,     0.99905,\n",
       "            0.99907,     0.99909,      0.9991,     0.99912,     0.99914,     0.99916,     0.99918,      0.9992,     0.99921,     0.99923,     0.99925,     0.99927,     0.99929,      0.9993,     0.99932,     0.99934,     0.99936,     0.99938,     0.99939,     0.99941,     0.99943,     0.99945,     0.99947,\n",
       "            0.99948,      0.9995,     0.99952,     0.99954,     0.99956,     0.99957,     0.99959,     0.99961,     0.99963,     0.99964,     0.99966,     0.99968,      0.9997,     0.99972,     0.99973,     0.99975,     0.99977,     0.99979,     0.99981,     0.99982,     0.99984,     0.99986,     0.99988,\n",
       "             0.9999,     0.99991,     0.99993,     0.99995,     0.99997,     0.99999,     0.99965,     0.99827,     0.99728,     0.99724,      0.9972,     0.99716,     0.99713,     0.99709,     0.99705,     0.99701,     0.99697,     0.99693,      0.9969,     0.99686,     0.99682,     0.99678,     0.99674,\n",
       "             0.9967,     0.99667,     0.99663,     0.99659,     0.99655,     0.99651,     0.99647,     0.99644,      0.9964,     0.99636,     0.99632,     0.99628,     0.99624,     0.99621,     0.99617,     0.99613,     0.99609,     0.99605,     0.99601,     0.99598,     0.99594,      0.9959,     0.99586,\n",
       "            0.99582,     0.99578,     0.99575,     0.99571,     0.99567,     0.99563,     0.99559,     0.99555,     0.99552,     0.99548,     0.99544,      0.9954,     0.99536,     0.99532,     0.99528,     0.99525,     0.99521,     0.99517,     0.99513,     0.99509,     0.99505,     0.99502,     0.99498,\n",
       "            0.99494,      0.9949,     0.99486,     0.99482,     0.99479,     0.99475,     0.99471,     0.99467,     0.99463,     0.99459,     0.99452,     0.99434,     0.99417,     0.99399,     0.99382,     0.99364,     0.99347,     0.99329,     0.99312,     0.99295,     0.99277,      0.9926,     0.99242,\n",
       "            0.99225,     0.99207,      0.9919,     0.99166,      0.9914,     0.99113,     0.99086,     0.99059,     0.99032,     0.99005,     0.98978,     0.98951,     0.98924,     0.98787,     0.98328,     0.98266,     0.98204,     0.98143,     0.98081,     0.97496,     0.97283,     0.97164,     0.97081,\n",
       "            0.96999,      0.9688,     0.96635,     0.96307,     0.96211,     0.96115,     0.95709,      0.9553,     0.95069,     0.94826,     0.94552,     0.94397,     0.94179,     0.93788,     0.93377,     0.92325,     0.92101,     0.91963,     0.91824,     0.91734,     0.91649,     0.91563,     0.91312,\n",
       "            0.91039,     0.90875,     0.90244,     0.89426,     0.89069,      0.8844,        0.87,     0.85378,     0.84011,     0.83343,     0.80331,     0.77832,     0.76975,     0.75466,     0.73345,     0.71393,      0.6721,     0.65569,     0.63459,     0.61594,     0.58866,     0.55634,     0.51352,\n",
       "            0.48195,     0.45444,     0.42343,      0.3766,      0.3437,     0.31552,     0.26292,     0.25069,     0.24159,       0.216,     0.18784,     0.17073,     0.14173,     0.11645,    0.090198,    0.083029,    0.061126,    0.052504,    0.048586,    0.044652,    0.031262,    0.023126,    0.015268,\n",
       "                  0,           0,           0,           0,           0,           0,           0,           0,           0,           0,           0,           0,           0,           0,           0,           0,           0,           0,           0,           0,           0,           0,           0,\n",
       "                  0,           0,           0,           0,           0,           0,           0,           0,           0,           0,           0]]), 'Confidence', 'F1'], [array([          0,    0.001001,    0.002002,    0.003003,    0.004004,    0.005005,    0.006006,    0.007007,    0.008008,    0.009009,     0.01001,    0.011011,    0.012012,    0.013013,    0.014014,    0.015015,    0.016016,    0.017017,    0.018018,    0.019019,     0.02002,    0.021021,    0.022022,    0.023023,\n",
       "          0.024024,    0.025025,    0.026026,    0.027027,    0.028028,    0.029029,     0.03003,    0.031031,    0.032032,    0.033033,    0.034034,    0.035035,    0.036036,    0.037037,    0.038038,    0.039039,     0.04004,    0.041041,    0.042042,    0.043043,    0.044044,    0.045045,    0.046046,    0.047047,\n",
       "          0.048048,    0.049049,     0.05005,    0.051051,    0.052052,    0.053053,    0.054054,    0.055055,    0.056056,    0.057057,    0.058058,    0.059059,     0.06006,    0.061061,    0.062062,    0.063063,    0.064064,    0.065065,    0.066066,    0.067067,    0.068068,    0.069069,     0.07007,    0.071071,\n",
       "          0.072072,    0.073073,    0.074074,    0.075075,    0.076076,    0.077077,    0.078078,    0.079079,     0.08008,    0.081081,    0.082082,    0.083083,    0.084084,    0.085085,    0.086086,    0.087087,    0.088088,    0.089089,     0.09009,    0.091091,    0.092092,    0.093093,    0.094094,    0.095095,\n",
       "          0.096096,    0.097097,    0.098098,    0.099099,      0.1001,      0.1011,      0.1021,      0.1031,      0.1041,     0.10511,     0.10611,     0.10711,     0.10811,     0.10911,     0.11011,     0.11111,     0.11211,     0.11311,     0.11411,     0.11512,     0.11612,     0.11712,     0.11812,     0.11912,\n",
       "           0.12012,     0.12112,     0.12212,     0.12312,     0.12412,     0.12513,     0.12613,     0.12713,     0.12813,     0.12913,     0.13013,     0.13113,     0.13213,     0.13313,     0.13413,     0.13514,     0.13614,     0.13714,     0.13814,     0.13914,     0.14014,     0.14114,     0.14214,     0.14314,\n",
       "           0.14414,     0.14515,     0.14615,     0.14715,     0.14815,     0.14915,     0.15015,     0.15115,     0.15215,     0.15315,     0.15415,     0.15516,     0.15616,     0.15716,     0.15816,     0.15916,     0.16016,     0.16116,     0.16216,     0.16316,     0.16416,     0.16517,     0.16617,     0.16717,\n",
       "           0.16817,     0.16917,     0.17017,     0.17117,     0.17217,     0.17317,     0.17417,     0.17518,     0.17618,     0.17718,     0.17818,     0.17918,     0.18018,     0.18118,     0.18218,     0.18318,     0.18418,     0.18519,     0.18619,     0.18719,     0.18819,     0.18919,     0.19019,     0.19119,\n",
       "           0.19219,     0.19319,     0.19419,      0.1952,      0.1962,      0.1972,      0.1982,      0.1992,      0.2002,      0.2012,      0.2022,      0.2032,      0.2042,     0.20521,     0.20621,     0.20721,     0.20821,     0.20921,     0.21021,     0.21121,     0.21221,     0.21321,     0.21421,     0.21522,\n",
       "           0.21622,     0.21722,     0.21822,     0.21922,     0.22022,     0.22122,     0.22222,     0.22322,     0.22422,     0.22523,     0.22623,     0.22723,     0.22823,     0.22923,     0.23023,     0.23123,     0.23223,     0.23323,     0.23423,     0.23524,     0.23624,     0.23724,     0.23824,     0.23924,\n",
       "           0.24024,     0.24124,     0.24224,     0.24324,     0.24424,     0.24525,     0.24625,     0.24725,     0.24825,     0.24925,     0.25025,     0.25125,     0.25225,     0.25325,     0.25425,     0.25526,     0.25626,     0.25726,     0.25826,     0.25926,     0.26026,     0.26126,     0.26226,     0.26326,\n",
       "           0.26426,     0.26527,     0.26627,     0.26727,     0.26827,     0.26927,     0.27027,     0.27127,     0.27227,     0.27327,     0.27427,     0.27528,     0.27628,     0.27728,     0.27828,     0.27928,     0.28028,     0.28128,     0.28228,     0.28328,     0.28428,     0.28529,     0.28629,     0.28729,\n",
       "           0.28829,     0.28929,     0.29029,     0.29129,     0.29229,     0.29329,     0.29429,      0.2953,      0.2963,      0.2973,      0.2983,      0.2993,      0.3003,      0.3013,      0.3023,      0.3033,      0.3043,     0.30531,     0.30631,     0.30731,     0.30831,     0.30931,     0.31031,     0.31131,\n",
       "           0.31231,     0.31331,     0.31431,     0.31532,     0.31632,     0.31732,     0.31832,     0.31932,     0.32032,     0.32132,     0.32232,     0.32332,     0.32432,     0.32533,     0.32633,     0.32733,     0.32833,     0.32933,     0.33033,     0.33133,     0.33233,     0.33333,     0.33433,     0.33534,\n",
       "           0.33634,     0.33734,     0.33834,     0.33934,     0.34034,     0.34134,     0.34234,     0.34334,     0.34434,     0.34535,     0.34635,     0.34735,     0.34835,     0.34935,     0.35035,     0.35135,     0.35235,     0.35335,     0.35435,     0.35536,     0.35636,     0.35736,     0.35836,     0.35936,\n",
       "           0.36036,     0.36136,     0.36236,     0.36336,     0.36436,     0.36537,     0.36637,     0.36737,     0.36837,     0.36937,     0.37037,     0.37137,     0.37237,     0.37337,     0.37437,     0.37538,     0.37638,     0.37738,     0.37838,     0.37938,     0.38038,     0.38138,     0.38238,     0.38338,\n",
       "           0.38438,     0.38539,     0.38639,     0.38739,     0.38839,     0.38939,     0.39039,     0.39139,     0.39239,     0.39339,     0.39439,      0.3954,      0.3964,      0.3974,      0.3984,      0.3994,      0.4004,      0.4014,      0.4024,      0.4034,      0.4044,     0.40541,     0.40641,     0.40741,\n",
       "           0.40841,     0.40941,     0.41041,     0.41141,     0.41241,     0.41341,     0.41441,     0.41542,     0.41642,     0.41742,     0.41842,     0.41942,     0.42042,     0.42142,     0.42242,     0.42342,     0.42442,     0.42543,     0.42643,     0.42743,     0.42843,     0.42943,     0.43043,     0.43143,\n",
       "           0.43243,     0.43343,     0.43443,     0.43544,     0.43644,     0.43744,     0.43844,     0.43944,     0.44044,     0.44144,     0.44244,     0.44344,     0.44444,     0.44545,     0.44645,     0.44745,     0.44845,     0.44945,     0.45045,     0.45145,     0.45245,     0.45345,     0.45445,     0.45546,\n",
       "           0.45646,     0.45746,     0.45846,     0.45946,     0.46046,     0.46146,     0.46246,     0.46346,     0.46446,     0.46547,     0.46647,     0.46747,     0.46847,     0.46947,     0.47047,     0.47147,     0.47247,     0.47347,     0.47447,     0.47548,     0.47648,     0.47748,     0.47848,     0.47948,\n",
       "           0.48048,     0.48148,     0.48248,     0.48348,     0.48448,     0.48549,     0.48649,     0.48749,     0.48849,     0.48949,     0.49049,     0.49149,     0.49249,     0.49349,     0.49449,      0.4955,      0.4965,      0.4975,      0.4985,      0.4995,      0.5005,      0.5015,      0.5025,      0.5035,\n",
       "            0.5045,     0.50551,     0.50651,     0.50751,     0.50851,     0.50951,     0.51051,     0.51151,     0.51251,     0.51351,     0.51451,     0.51552,     0.51652,     0.51752,     0.51852,     0.51952,     0.52052,     0.52152,     0.52252,     0.52352,     0.52452,     0.52553,     0.52653,     0.52753,\n",
       "           0.52853,     0.52953,     0.53053,     0.53153,     0.53253,     0.53353,     0.53453,     0.53554,     0.53654,     0.53754,     0.53854,     0.53954,     0.54054,     0.54154,     0.54254,     0.54354,     0.54454,     0.54555,     0.54655,     0.54755,     0.54855,     0.54955,     0.55055,     0.55155,\n",
       "           0.55255,     0.55355,     0.55455,     0.55556,     0.55656,     0.55756,     0.55856,     0.55956,     0.56056,     0.56156,     0.56256,     0.56356,     0.56456,     0.56557,     0.56657,     0.56757,     0.56857,     0.56957,     0.57057,     0.57157,     0.57257,     0.57357,     0.57457,     0.57558,\n",
       "           0.57658,     0.57758,     0.57858,     0.57958,     0.58058,     0.58158,     0.58258,     0.58358,     0.58458,     0.58559,     0.58659,     0.58759,     0.58859,     0.58959,     0.59059,     0.59159,     0.59259,     0.59359,     0.59459,      0.5956,      0.5966,      0.5976,      0.5986,      0.5996,\n",
       "            0.6006,      0.6016,      0.6026,      0.6036,      0.6046,     0.60561,     0.60661,     0.60761,     0.60861,     0.60961,     0.61061,     0.61161,     0.61261,     0.61361,     0.61461,     0.61562,     0.61662,     0.61762,     0.61862,     0.61962,     0.62062,     0.62162,     0.62262,     0.62362,\n",
       "           0.62462,     0.62563,     0.62663,     0.62763,     0.62863,     0.62963,     0.63063,     0.63163,     0.63263,     0.63363,     0.63463,     0.63564,     0.63664,     0.63764,     0.63864,     0.63964,     0.64064,     0.64164,     0.64264,     0.64364,     0.64464,     0.64565,     0.64665,     0.64765,\n",
       "           0.64865,     0.64965,     0.65065,     0.65165,     0.65265,     0.65365,     0.65465,     0.65566,     0.65666,     0.65766,     0.65866,     0.65966,     0.66066,     0.66166,     0.66266,     0.66366,     0.66466,     0.66567,     0.66667,     0.66767,     0.66867,     0.66967,     0.67067,     0.67167,\n",
       "           0.67267,     0.67367,     0.67467,     0.67568,     0.67668,     0.67768,     0.67868,     0.67968,     0.68068,     0.68168,     0.68268,     0.68368,     0.68468,     0.68569,     0.68669,     0.68769,     0.68869,     0.68969,     0.69069,     0.69169,     0.69269,     0.69369,     0.69469,      0.6957,\n",
       "            0.6967,      0.6977,      0.6987,      0.6997,      0.7007,      0.7017,      0.7027,      0.7037,      0.7047,     0.70571,     0.70671,     0.70771,     0.70871,     0.70971,     0.71071,     0.71171,     0.71271,     0.71371,     0.71471,     0.71572,     0.71672,     0.71772,     0.71872,     0.71972,\n",
       "           0.72072,     0.72172,     0.72272,     0.72372,     0.72472,     0.72573,     0.72673,     0.72773,     0.72873,     0.72973,     0.73073,     0.73173,     0.73273,     0.73373,     0.73473,     0.73574,     0.73674,     0.73774,     0.73874,     0.73974,     0.74074,     0.74174,     0.74274,     0.74374,\n",
       "           0.74474,     0.74575,     0.74675,     0.74775,     0.74875,     0.74975,     0.75075,     0.75175,     0.75275,     0.75375,     0.75475,     0.75576,     0.75676,     0.75776,     0.75876,     0.75976,     0.76076,     0.76176,     0.76276,     0.76376,     0.76476,     0.76577,     0.76677,     0.76777,\n",
       "           0.76877,     0.76977,     0.77077,     0.77177,     0.77277,     0.77377,     0.77477,     0.77578,     0.77678,     0.77778,     0.77878,     0.77978,     0.78078,     0.78178,     0.78278,     0.78378,     0.78478,     0.78579,     0.78679,     0.78779,     0.78879,     0.78979,     0.79079,     0.79179,\n",
       "           0.79279,     0.79379,     0.79479,      0.7958,      0.7968,      0.7978,      0.7988,      0.7998,      0.8008,      0.8018,      0.8028,      0.8038,      0.8048,     0.80581,     0.80681,     0.80781,     0.80881,     0.80981,     0.81081,     0.81181,     0.81281,     0.81381,     0.81481,     0.81582,\n",
       "           0.81682,     0.81782,     0.81882,     0.81982,     0.82082,     0.82182,     0.82282,     0.82382,     0.82482,     0.82583,     0.82683,     0.82783,     0.82883,     0.82983,     0.83083,     0.83183,     0.83283,     0.83383,     0.83483,     0.83584,     0.83684,     0.83784,     0.83884,     0.83984,\n",
       "           0.84084,     0.84184,     0.84284,     0.84384,     0.84484,     0.84585,     0.84685,     0.84785,     0.84885,     0.84985,     0.85085,     0.85185,     0.85285,     0.85385,     0.85485,     0.85586,     0.85686,     0.85786,     0.85886,     0.85986,     0.86086,     0.86186,     0.86286,     0.86386,\n",
       "           0.86486,     0.86587,     0.86687,     0.86787,     0.86887,     0.86987,     0.87087,     0.87187,     0.87287,     0.87387,     0.87487,     0.87588,     0.87688,     0.87788,     0.87888,     0.87988,     0.88088,     0.88188,     0.88288,     0.88388,     0.88488,     0.88589,     0.88689,     0.88789,\n",
       "           0.88889,     0.88989,     0.89089,     0.89189,     0.89289,     0.89389,     0.89489,      0.8959,      0.8969,      0.8979,      0.8989,      0.8999,      0.9009,      0.9019,      0.9029,      0.9039,      0.9049,     0.90591,     0.90691,     0.90791,     0.90891,     0.90991,     0.91091,     0.91191,\n",
       "           0.91291,     0.91391,     0.91491,     0.91592,     0.91692,     0.91792,     0.91892,     0.91992,     0.92092,     0.92192,     0.92292,     0.92392,     0.92492,     0.92593,     0.92693,     0.92793,     0.92893,     0.92993,     0.93093,     0.93193,     0.93293,     0.93393,     0.93493,     0.93594,\n",
       "           0.93694,     0.93794,     0.93894,     0.93994,     0.94094,     0.94194,     0.94294,     0.94394,     0.94494,     0.94595,     0.94695,     0.94795,     0.94895,     0.94995,     0.95095,     0.95195,     0.95295,     0.95395,     0.95495,     0.95596,     0.95696,     0.95796,     0.95896,     0.95996,\n",
       "           0.96096,     0.96196,     0.96296,     0.96396,     0.96496,     0.96597,     0.96697,     0.96797,     0.96897,     0.96997,     0.97097,     0.97197,     0.97297,     0.97397,     0.97497,     0.97598,     0.97698,     0.97798,     0.97898,     0.97998,     0.98098,     0.98198,     0.98298,     0.98398,\n",
       "           0.98498,     0.98599,     0.98699,     0.98799,     0.98899,     0.98999,     0.99099,     0.99199,     0.99299,     0.99399,     0.99499,       0.996,       0.997,       0.998,       0.999,           1]), array([[    0.73123,     0.73123,     0.85913,     0.90978,     0.92662,     0.93556,       0.948,     0.96515,      0.9743,     0.97697,     0.98113,     0.98498,      0.9865,     0.98803,     0.98931,     0.98931,     0.98932,     0.98933,     0.98934,     0.98935,     0.98936,     0.98937,     0.98937,\n",
       "            0.98938,     0.98939,      0.9894,     0.98941,     0.98942,     0.98943,     0.98943,     0.98944,     0.98945,     0.98946,     0.98947,     0.98948,     0.98949,     0.98949,      0.9895,     0.98951,     0.98952,     0.98953,     0.98954,     0.98954,     0.98955,     0.98956,     0.98957,\n",
       "            0.98958,     0.98959,      0.9896,      0.9896,     0.98961,     0.98962,     0.98963,     0.98964,     0.98965,     0.98966,     0.98966,     0.98967,     0.98968,     0.98969,      0.9897,     0.98971,     0.98972,     0.98972,     0.98973,     0.98974,     0.98975,     0.98976,     0.98977,\n",
       "            0.98977,     0.98978,     0.98979,      0.9898,     0.98981,     0.98982,     0.98983,     0.98983,     0.98984,     0.98985,     0.98986,     0.98987,     0.98988,     0.98989,     0.98989,      0.9899,     0.98991,     0.98992,     0.98993,     0.98994,     0.98995,     0.98995,     0.98996,\n",
       "            0.98997,     0.98998,     0.98999,        0.99,        0.99,     0.99001,     0.99002,     0.99003,     0.99004,     0.99005,     0.99006,     0.99006,     0.99007,     0.99008,     0.99009,      0.9901,     0.99011,     0.99012,     0.99012,     0.99013,     0.99014,     0.99015,     0.99016,\n",
       "            0.99017,     0.99018,     0.99018,     0.99019,      0.9902,     0.99021,     0.99022,     0.99023,     0.99023,     0.99024,     0.99025,     0.99026,     0.99027,     0.99028,     0.99029,     0.99029,      0.9903,     0.99031,     0.99032,     0.99033,     0.99034,     0.99035,     0.99035,\n",
       "            0.99036,     0.99037,     0.99038,     0.99039,      0.9904,     0.99041,     0.99041,     0.99042,     0.99043,     0.99044,     0.99045,     0.99046,     0.99046,     0.99047,     0.99048,     0.99049,      0.9905,     0.99051,     0.99052,     0.99052,     0.99053,     0.99054,     0.99055,\n",
       "            0.99056,     0.99057,     0.99058,     0.99058,     0.99059,      0.9906,     0.99061,     0.99062,     0.99063,     0.99064,     0.99064,     0.99065,     0.99066,     0.99067,     0.99068,     0.99069,     0.99069,      0.9907,     0.99071,     0.99072,     0.99073,     0.99074,     0.99075,\n",
       "            0.99075,     0.99076,     0.99077,     0.99078,     0.99079,      0.9908,     0.99081,     0.99081,     0.99082,     0.99083,     0.99084,     0.99085,     0.99086,     0.99087,     0.99087,     0.99088,     0.99089,      0.9909,     0.99091,     0.99092,     0.99092,     0.99093,     0.99094,\n",
       "            0.99095,     0.99096,     0.99097,     0.99098,     0.99098,     0.99099,       0.991,     0.99101,     0.99102,     0.99103,     0.99104,     0.99104,     0.99105,     0.99106,     0.99107,     0.99108,     0.99109,      0.9911,      0.9911,     0.99111,     0.99112,     0.99113,     0.99114,\n",
       "            0.99115,     0.99115,     0.99116,     0.99117,     0.99118,     0.99119,      0.9912,     0.99121,     0.99121,     0.99122,     0.99123,     0.99124,     0.99125,     0.99126,     0.99127,     0.99127,     0.99128,     0.99129,      0.9913,     0.99131,     0.99132,     0.99133,     0.99133,\n",
       "            0.99134,     0.99135,     0.99136,     0.99137,     0.99138,     0.99138,     0.99139,      0.9914,     0.99141,     0.99142,     0.99143,     0.99144,     0.99144,     0.99145,     0.99146,     0.99147,     0.99148,     0.99149,      0.9915,      0.9915,     0.99151,     0.99152,     0.99153,\n",
       "            0.99154,     0.99155,     0.99156,     0.99156,     0.99157,     0.99158,     0.99159,      0.9916,     0.99161,     0.99161,     0.99162,     0.99163,     0.99164,     0.99165,     0.99166,     0.99167,     0.99167,     0.99168,     0.99169,      0.9917,     0.99171,     0.99172,     0.99173,\n",
       "            0.99173,     0.99174,     0.99175,     0.99176,     0.99177,     0.99178,     0.99179,     0.99179,      0.9918,     0.99181,     0.99182,     0.99183,     0.99184,     0.99184,     0.99185,     0.99186,     0.99187,     0.99188,     0.99189,      0.9919,      0.9919,     0.99191,     0.99192,\n",
       "            0.99193,     0.99194,     0.99195,     0.99196,     0.99196,     0.99197,     0.99198,     0.99199,       0.992,     0.99201,     0.99202,     0.99202,     0.99203,     0.99204,     0.99205,     0.99206,     0.99207,     0.99207,     0.99208,     0.99209,      0.9921,     0.99211,     0.99212,\n",
       "            0.99213,     0.99213,     0.99214,     0.99215,     0.99216,     0.99217,     0.99218,     0.99219,     0.99219,      0.9922,     0.99221,     0.99222,     0.99223,     0.99224,     0.99225,     0.99225,     0.99226,     0.99227,     0.99228,     0.99229,      0.9923,      0.9923,     0.99231,\n",
       "            0.99232,     0.99233,     0.99234,     0.99235,     0.99236,     0.99236,     0.99237,     0.99238,     0.99239,      0.9924,     0.99241,     0.99242,     0.99242,     0.99243,     0.99244,     0.99245,     0.99246,     0.99247,     0.99248,     0.99248,     0.99249,      0.9925,     0.99251,\n",
       "            0.99252,     0.99253,     0.99253,     0.99254,     0.99255,     0.99256,     0.99257,     0.99258,     0.99259,     0.99259,      0.9926,     0.99261,     0.99262,     0.99263,     0.99264,     0.99265,     0.99265,     0.99266,     0.99267,     0.99268,     0.99269,      0.9927,     0.99271,\n",
       "            0.99271,     0.99272,     0.99273,     0.99274,     0.99275,     0.99276,     0.99276,     0.99277,     0.99278,     0.99279,      0.9928,     0.99281,     0.99282,     0.99282,     0.99283,     0.99284,     0.99285,     0.99286,     0.99287,     0.99288,     0.99288,     0.99289,      0.9929,\n",
       "            0.99291,     0.99292,     0.99293,     0.99294,     0.99294,     0.99295,     0.99296,     0.99297,     0.99298,     0.99299,     0.99299,       0.993,     0.99301,     0.99302,     0.99303,     0.99304,     0.99305,     0.99305,     0.99306,     0.99307,     0.99308,     0.99309,      0.9931,\n",
       "            0.99311,     0.99311,     0.99312,     0.99313,     0.99314,     0.99315,     0.99316,     0.99317,     0.99317,     0.99318,     0.99319,      0.9932,     0.99321,     0.99322,     0.99322,     0.99323,     0.99324,     0.99325,     0.99326,     0.99327,     0.99328,     0.99328,     0.99329,\n",
       "             0.9933,     0.99331,     0.99332,     0.99333,     0.99334,     0.99334,     0.99335,     0.99336,     0.99337,     0.99338,     0.99339,      0.9934,      0.9934,     0.99341,     0.99342,     0.99343,     0.99344,     0.99345,     0.99345,     0.99346,     0.99347,     0.99348,     0.99349,\n",
       "             0.9935,     0.99351,     0.99351,     0.99352,     0.99353,     0.99354,     0.99355,     0.99356,     0.99357,     0.99357,     0.99358,     0.99359,      0.9936,     0.99361,     0.99362,     0.99363,     0.99363,     0.99364,     0.99365,     0.99366,     0.99367,     0.99368,     0.99368,\n",
       "            0.99369,      0.9937,     0.99371,     0.99372,     0.99373,     0.99374,     0.99374,     0.99375,     0.99376,     0.99377,     0.99378,     0.99379,      0.9938,      0.9938,     0.99381,     0.99382,     0.99383,     0.99384,     0.99385,     0.99386,     0.99386,     0.99387,     0.99388,\n",
       "            0.99389,      0.9939,     0.99391,     0.99391,     0.99392,     0.99393,     0.99394,     0.99395,     0.99396,     0.99397,     0.99397,     0.99398,     0.99399,       0.994,     0.99401,     0.99402,     0.99403,     0.99403,     0.99404,     0.99405,     0.99406,     0.99407,     0.99408,\n",
       "            0.99409,     0.99409,      0.9941,     0.99411,     0.99412,     0.99413,     0.99414,     0.99414,     0.99415,     0.99416,     0.99417,     0.99418,     0.99419,      0.9942,      0.9942,     0.99421,     0.99422,     0.99423,     0.99424,     0.99425,     0.99426,     0.99426,     0.99427,\n",
       "            0.99428,     0.99429,      0.9943,     0.99431,     0.99432,     0.99432,     0.99433,     0.99434,     0.99435,     0.99436,     0.99437,     0.99437,     0.99438,     0.99439,      0.9944,     0.99441,     0.99442,     0.99443,     0.99443,     0.99444,     0.99445,     0.99446,     0.99447,\n",
       "            0.99448,     0.99449,     0.99449,      0.9945,     0.99451,     0.99452,     0.99453,     0.99454,     0.99455,     0.99455,     0.99456,     0.99457,     0.99458,     0.99459,      0.9946,      0.9946,     0.99461,     0.99462,     0.99465,     0.99469,     0.99472,     0.99476,      0.9948,\n",
       "            0.99483,     0.99487,      0.9949,     0.99494,     0.99498,     0.99501,     0.99505,     0.99508,     0.99512,     0.99516,     0.99519,     0.99523,     0.99526,      0.9953,     0.99534,     0.99537,     0.99541,     0.99544,     0.99548,     0.99552,     0.99555,     0.99559,     0.99562,\n",
       "            0.99566,     0.99569,     0.99573,     0.99577,      0.9958,     0.99584,     0.99587,     0.99591,     0.99595,     0.99598,     0.99602,     0.99605,     0.99609,     0.99613,     0.99616,      0.9962,     0.99623,     0.99627,     0.99631,     0.99634,     0.99638,     0.99641,     0.99645,\n",
       "            0.99649,     0.99652,     0.99656,     0.99659,     0.99663,     0.99667,      0.9967,     0.99674,     0.99677,     0.99681,     0.99685,     0.99688,     0.99692,     0.99695,     0.99699,     0.99703,     0.99706,      0.9971,     0.99713,     0.99717,      0.9972,     0.99724,     0.99728,\n",
       "            0.99731,     0.99735,     0.99738,     0.99742,     0.99746,     0.99749,     0.99753,     0.99756,      0.9976,     0.99764,     0.99767,     0.99771,     0.99774,     0.99778,     0.99782,     0.99785,     0.99789,     0.99792,     0.99796,       0.998,     0.99803,     0.99807,      0.9981,\n",
       "            0.99814,     0.99818,     0.99821,     0.99825,     0.99828,     0.99832,     0.99836,     0.99839,     0.99843,     0.99846,      0.9985,     0.99854,     0.99857,     0.99861,     0.99864,     0.99868,     0.99871,     0.99875,     0.99879,     0.99882,     0.99886,     0.99889,     0.99893,\n",
       "            0.99897,       0.999,     0.99904,     0.99907,     0.99911,     0.99915,     0.99918,     0.99922,     0.99925,     0.99929,     0.99933,     0.99936,      0.9994,     0.99943,     0.99947,     0.99951,     0.99954,     0.99958,     0.99961,     0.99965,     0.99969,     0.99972,     0.99976,\n",
       "            0.99979,     0.99983,     0.99987,      0.9999,     0.99994,     0.99997,           1,           1,           1,           1,           1,           1,           1,           1,           1,           1,           1,           1,           1,           1,           1,           1,           1,\n",
       "                  1,           1,           1,           1,           1,           1,           1,           1,           1,           1,           1,           1,           1,           1,           1,           1,           1,           1,           1,           1,           1,           1,           1,\n",
       "                  1,           1,           1,           1,           1,           1,           1,           1,           1,           1,           1,           1,           1,           1,           1,           1,           1,           1,           1,           1,           1,           1,           1,\n",
       "                  1,           1,           1,           1,           1,           1,           1,           1,           1,           1,           1,           1,           1,           1,           1,           1,           1,           1,           1,           1,           1,           1,           1,\n",
       "                  1,           1,           1,           1,           1,           1,           1,           1,           1,           1,           1,           1,           1,           1,           1,           1,           1,           1,           1,           1,           1,           1,           1,\n",
       "                  1,           1,           1,           1,           1,           1,           1,           1,           1,           1,           1,           1,           1,           1,           1,           1,           1,           1,           1,           1,           1,           1,           1,\n",
       "                  1,           1,           1,           1,           1,           1,           1,           1,           1,           1,           1,           1,           1,           1,           1,           1,           1,           1,           1,           1,           1,           1,           1,\n",
       "                  1,           1,           1,           1,           1,           1,           1,           1,           1,           1,           1,           1,           1,           1,           1,           1,           1,           1,           1,           1,           1,           1,           1,\n",
       "                  1,           1,           1,           1,           1,           1,           1,           1,           1,           1,           1,           1,           1,           1,           1,           1,           1,           1,           1,           1,           1,           1,           1,\n",
       "                  1,           1,           1,           1,           1,           1,           1,           1,           1,           1,           1]]), 'Confidence', 'Precision'], [array([          0,    0.001001,    0.002002,    0.003003,    0.004004,    0.005005,    0.006006,    0.007007,    0.008008,    0.009009,     0.01001,    0.011011,    0.012012,    0.013013,    0.014014,    0.015015,    0.016016,    0.017017,    0.018018,    0.019019,     0.02002,    0.021021,    0.022022,    0.023023,\n",
       "          0.024024,    0.025025,    0.026026,    0.027027,    0.028028,    0.029029,     0.03003,    0.031031,    0.032032,    0.033033,    0.034034,    0.035035,    0.036036,    0.037037,    0.038038,    0.039039,     0.04004,    0.041041,    0.042042,    0.043043,    0.044044,    0.045045,    0.046046,    0.047047,\n",
       "          0.048048,    0.049049,     0.05005,    0.051051,    0.052052,    0.053053,    0.054054,    0.055055,    0.056056,    0.057057,    0.058058,    0.059059,     0.06006,    0.061061,    0.062062,    0.063063,    0.064064,    0.065065,    0.066066,    0.067067,    0.068068,    0.069069,     0.07007,    0.071071,\n",
       "          0.072072,    0.073073,    0.074074,    0.075075,    0.076076,    0.077077,    0.078078,    0.079079,     0.08008,    0.081081,    0.082082,    0.083083,    0.084084,    0.085085,    0.086086,    0.087087,    0.088088,    0.089089,     0.09009,    0.091091,    0.092092,    0.093093,    0.094094,    0.095095,\n",
       "          0.096096,    0.097097,    0.098098,    0.099099,      0.1001,      0.1011,      0.1021,      0.1031,      0.1041,     0.10511,     0.10611,     0.10711,     0.10811,     0.10911,     0.11011,     0.11111,     0.11211,     0.11311,     0.11411,     0.11512,     0.11612,     0.11712,     0.11812,     0.11912,\n",
       "           0.12012,     0.12112,     0.12212,     0.12312,     0.12412,     0.12513,     0.12613,     0.12713,     0.12813,     0.12913,     0.13013,     0.13113,     0.13213,     0.13313,     0.13413,     0.13514,     0.13614,     0.13714,     0.13814,     0.13914,     0.14014,     0.14114,     0.14214,     0.14314,\n",
       "           0.14414,     0.14515,     0.14615,     0.14715,     0.14815,     0.14915,     0.15015,     0.15115,     0.15215,     0.15315,     0.15415,     0.15516,     0.15616,     0.15716,     0.15816,     0.15916,     0.16016,     0.16116,     0.16216,     0.16316,     0.16416,     0.16517,     0.16617,     0.16717,\n",
       "           0.16817,     0.16917,     0.17017,     0.17117,     0.17217,     0.17317,     0.17417,     0.17518,     0.17618,     0.17718,     0.17818,     0.17918,     0.18018,     0.18118,     0.18218,     0.18318,     0.18418,     0.18519,     0.18619,     0.18719,     0.18819,     0.18919,     0.19019,     0.19119,\n",
       "           0.19219,     0.19319,     0.19419,      0.1952,      0.1962,      0.1972,      0.1982,      0.1992,      0.2002,      0.2012,      0.2022,      0.2032,      0.2042,     0.20521,     0.20621,     0.20721,     0.20821,     0.20921,     0.21021,     0.21121,     0.21221,     0.21321,     0.21421,     0.21522,\n",
       "           0.21622,     0.21722,     0.21822,     0.21922,     0.22022,     0.22122,     0.22222,     0.22322,     0.22422,     0.22523,     0.22623,     0.22723,     0.22823,     0.22923,     0.23023,     0.23123,     0.23223,     0.23323,     0.23423,     0.23524,     0.23624,     0.23724,     0.23824,     0.23924,\n",
       "           0.24024,     0.24124,     0.24224,     0.24324,     0.24424,     0.24525,     0.24625,     0.24725,     0.24825,     0.24925,     0.25025,     0.25125,     0.25225,     0.25325,     0.25425,     0.25526,     0.25626,     0.25726,     0.25826,     0.25926,     0.26026,     0.26126,     0.26226,     0.26326,\n",
       "           0.26426,     0.26527,     0.26627,     0.26727,     0.26827,     0.26927,     0.27027,     0.27127,     0.27227,     0.27327,     0.27427,     0.27528,     0.27628,     0.27728,     0.27828,     0.27928,     0.28028,     0.28128,     0.28228,     0.28328,     0.28428,     0.28529,     0.28629,     0.28729,\n",
       "           0.28829,     0.28929,     0.29029,     0.29129,     0.29229,     0.29329,     0.29429,      0.2953,      0.2963,      0.2973,      0.2983,      0.2993,      0.3003,      0.3013,      0.3023,      0.3033,      0.3043,     0.30531,     0.30631,     0.30731,     0.30831,     0.30931,     0.31031,     0.31131,\n",
       "           0.31231,     0.31331,     0.31431,     0.31532,     0.31632,     0.31732,     0.31832,     0.31932,     0.32032,     0.32132,     0.32232,     0.32332,     0.32432,     0.32533,     0.32633,     0.32733,     0.32833,     0.32933,     0.33033,     0.33133,     0.33233,     0.33333,     0.33433,     0.33534,\n",
       "           0.33634,     0.33734,     0.33834,     0.33934,     0.34034,     0.34134,     0.34234,     0.34334,     0.34434,     0.34535,     0.34635,     0.34735,     0.34835,     0.34935,     0.35035,     0.35135,     0.35235,     0.35335,     0.35435,     0.35536,     0.35636,     0.35736,     0.35836,     0.35936,\n",
       "           0.36036,     0.36136,     0.36236,     0.36336,     0.36436,     0.36537,     0.36637,     0.36737,     0.36837,     0.36937,     0.37037,     0.37137,     0.37237,     0.37337,     0.37437,     0.37538,     0.37638,     0.37738,     0.37838,     0.37938,     0.38038,     0.38138,     0.38238,     0.38338,\n",
       "           0.38438,     0.38539,     0.38639,     0.38739,     0.38839,     0.38939,     0.39039,     0.39139,     0.39239,     0.39339,     0.39439,      0.3954,      0.3964,      0.3974,      0.3984,      0.3994,      0.4004,      0.4014,      0.4024,      0.4034,      0.4044,     0.40541,     0.40641,     0.40741,\n",
       "           0.40841,     0.40941,     0.41041,     0.41141,     0.41241,     0.41341,     0.41441,     0.41542,     0.41642,     0.41742,     0.41842,     0.41942,     0.42042,     0.42142,     0.42242,     0.42342,     0.42442,     0.42543,     0.42643,     0.42743,     0.42843,     0.42943,     0.43043,     0.43143,\n",
       "           0.43243,     0.43343,     0.43443,     0.43544,     0.43644,     0.43744,     0.43844,     0.43944,     0.44044,     0.44144,     0.44244,     0.44344,     0.44444,     0.44545,     0.44645,     0.44745,     0.44845,     0.44945,     0.45045,     0.45145,     0.45245,     0.45345,     0.45445,     0.45546,\n",
       "           0.45646,     0.45746,     0.45846,     0.45946,     0.46046,     0.46146,     0.46246,     0.46346,     0.46446,     0.46547,     0.46647,     0.46747,     0.46847,     0.46947,     0.47047,     0.47147,     0.47247,     0.47347,     0.47447,     0.47548,     0.47648,     0.47748,     0.47848,     0.47948,\n",
       "           0.48048,     0.48148,     0.48248,     0.48348,     0.48448,     0.48549,     0.48649,     0.48749,     0.48849,     0.48949,     0.49049,     0.49149,     0.49249,     0.49349,     0.49449,      0.4955,      0.4965,      0.4975,      0.4985,      0.4995,      0.5005,      0.5015,      0.5025,      0.5035,\n",
       "            0.5045,     0.50551,     0.50651,     0.50751,     0.50851,     0.50951,     0.51051,     0.51151,     0.51251,     0.51351,     0.51451,     0.51552,     0.51652,     0.51752,     0.51852,     0.51952,     0.52052,     0.52152,     0.52252,     0.52352,     0.52452,     0.52553,     0.52653,     0.52753,\n",
       "           0.52853,     0.52953,     0.53053,     0.53153,     0.53253,     0.53353,     0.53453,     0.53554,     0.53654,     0.53754,     0.53854,     0.53954,     0.54054,     0.54154,     0.54254,     0.54354,     0.54454,     0.54555,     0.54655,     0.54755,     0.54855,     0.54955,     0.55055,     0.55155,\n",
       "           0.55255,     0.55355,     0.55455,     0.55556,     0.55656,     0.55756,     0.55856,     0.55956,     0.56056,     0.56156,     0.56256,     0.56356,     0.56456,     0.56557,     0.56657,     0.56757,     0.56857,     0.56957,     0.57057,     0.57157,     0.57257,     0.57357,     0.57457,     0.57558,\n",
       "           0.57658,     0.57758,     0.57858,     0.57958,     0.58058,     0.58158,     0.58258,     0.58358,     0.58458,     0.58559,     0.58659,     0.58759,     0.58859,     0.58959,     0.59059,     0.59159,     0.59259,     0.59359,     0.59459,      0.5956,      0.5966,      0.5976,      0.5986,      0.5996,\n",
       "            0.6006,      0.6016,      0.6026,      0.6036,      0.6046,     0.60561,     0.60661,     0.60761,     0.60861,     0.60961,     0.61061,     0.61161,     0.61261,     0.61361,     0.61461,     0.61562,     0.61662,     0.61762,     0.61862,     0.61962,     0.62062,     0.62162,     0.62262,     0.62362,\n",
       "           0.62462,     0.62563,     0.62663,     0.62763,     0.62863,     0.62963,     0.63063,     0.63163,     0.63263,     0.63363,     0.63463,     0.63564,     0.63664,     0.63764,     0.63864,     0.63964,     0.64064,     0.64164,     0.64264,     0.64364,     0.64464,     0.64565,     0.64665,     0.64765,\n",
       "           0.64865,     0.64965,     0.65065,     0.65165,     0.65265,     0.65365,     0.65465,     0.65566,     0.65666,     0.65766,     0.65866,     0.65966,     0.66066,     0.66166,     0.66266,     0.66366,     0.66466,     0.66567,     0.66667,     0.66767,     0.66867,     0.66967,     0.67067,     0.67167,\n",
       "           0.67267,     0.67367,     0.67467,     0.67568,     0.67668,     0.67768,     0.67868,     0.67968,     0.68068,     0.68168,     0.68268,     0.68368,     0.68468,     0.68569,     0.68669,     0.68769,     0.68869,     0.68969,     0.69069,     0.69169,     0.69269,     0.69369,     0.69469,      0.6957,\n",
       "            0.6967,      0.6977,      0.6987,      0.6997,      0.7007,      0.7017,      0.7027,      0.7037,      0.7047,     0.70571,     0.70671,     0.70771,     0.70871,     0.70971,     0.71071,     0.71171,     0.71271,     0.71371,     0.71471,     0.71572,     0.71672,     0.71772,     0.71872,     0.71972,\n",
       "           0.72072,     0.72172,     0.72272,     0.72372,     0.72472,     0.72573,     0.72673,     0.72773,     0.72873,     0.72973,     0.73073,     0.73173,     0.73273,     0.73373,     0.73473,     0.73574,     0.73674,     0.73774,     0.73874,     0.73974,     0.74074,     0.74174,     0.74274,     0.74374,\n",
       "           0.74474,     0.74575,     0.74675,     0.74775,     0.74875,     0.74975,     0.75075,     0.75175,     0.75275,     0.75375,     0.75475,     0.75576,     0.75676,     0.75776,     0.75876,     0.75976,     0.76076,     0.76176,     0.76276,     0.76376,     0.76476,     0.76577,     0.76677,     0.76777,\n",
       "           0.76877,     0.76977,     0.77077,     0.77177,     0.77277,     0.77377,     0.77477,     0.77578,     0.77678,     0.77778,     0.77878,     0.77978,     0.78078,     0.78178,     0.78278,     0.78378,     0.78478,     0.78579,     0.78679,     0.78779,     0.78879,     0.78979,     0.79079,     0.79179,\n",
       "           0.79279,     0.79379,     0.79479,      0.7958,      0.7968,      0.7978,      0.7988,      0.7998,      0.8008,      0.8018,      0.8028,      0.8038,      0.8048,     0.80581,     0.80681,     0.80781,     0.80881,     0.80981,     0.81081,     0.81181,     0.81281,     0.81381,     0.81481,     0.81582,\n",
       "           0.81682,     0.81782,     0.81882,     0.81982,     0.82082,     0.82182,     0.82282,     0.82382,     0.82482,     0.82583,     0.82683,     0.82783,     0.82883,     0.82983,     0.83083,     0.83183,     0.83283,     0.83383,     0.83483,     0.83584,     0.83684,     0.83784,     0.83884,     0.83984,\n",
       "           0.84084,     0.84184,     0.84284,     0.84384,     0.84484,     0.84585,     0.84685,     0.84785,     0.84885,     0.84985,     0.85085,     0.85185,     0.85285,     0.85385,     0.85485,     0.85586,     0.85686,     0.85786,     0.85886,     0.85986,     0.86086,     0.86186,     0.86286,     0.86386,\n",
       "           0.86486,     0.86587,     0.86687,     0.86787,     0.86887,     0.86987,     0.87087,     0.87187,     0.87287,     0.87387,     0.87487,     0.87588,     0.87688,     0.87788,     0.87888,     0.87988,     0.88088,     0.88188,     0.88288,     0.88388,     0.88488,     0.88589,     0.88689,     0.88789,\n",
       "           0.88889,     0.88989,     0.89089,     0.89189,     0.89289,     0.89389,     0.89489,      0.8959,      0.8969,      0.8979,      0.8989,      0.8999,      0.9009,      0.9019,      0.9029,      0.9039,      0.9049,     0.90591,     0.90691,     0.90791,     0.90891,     0.90991,     0.91091,     0.91191,\n",
       "           0.91291,     0.91391,     0.91491,     0.91592,     0.91692,     0.91792,     0.91892,     0.91992,     0.92092,     0.92192,     0.92292,     0.92392,     0.92492,     0.92593,     0.92693,     0.92793,     0.92893,     0.92993,     0.93093,     0.93193,     0.93293,     0.93393,     0.93493,     0.93594,\n",
       "           0.93694,     0.93794,     0.93894,     0.93994,     0.94094,     0.94194,     0.94294,     0.94394,     0.94494,     0.94595,     0.94695,     0.94795,     0.94895,     0.94995,     0.95095,     0.95195,     0.95295,     0.95395,     0.95495,     0.95596,     0.95696,     0.95796,     0.95896,     0.95996,\n",
       "           0.96096,     0.96196,     0.96296,     0.96396,     0.96496,     0.96597,     0.96697,     0.96797,     0.96897,     0.96997,     0.97097,     0.97197,     0.97297,     0.97397,     0.97497,     0.97598,     0.97698,     0.97798,     0.97898,     0.97998,     0.98098,     0.98198,     0.98298,     0.98398,\n",
       "           0.98498,     0.98599,     0.98699,     0.98799,     0.98899,     0.98999,     0.99099,     0.99199,     0.99299,     0.99399,     0.99499,       0.996,       0.997,       0.998,       0.999,           1]), array([[          1,           1,           1,           1,           1,           1,           1,           1,           1,           1,           1,           1,           1,           1,           1,           1,           1,           1,           1,           1,           1,           1,           1,\n",
       "                  1,           1,           1,           1,           1,           1,           1,           1,           1,           1,           1,           1,           1,           1,           1,           1,           1,           1,           1,           1,           1,           1,           1,\n",
       "                  1,           1,           1,           1,           1,           1,           1,           1,           1,           1,           1,           1,           1,           1,           1,           1,           1,           1,           1,           1,           1,           1,           1,\n",
       "                  1,           1,           1,           1,           1,           1,           1,           1,           1,           1,           1,           1,           1,           1,           1,           1,           1,           1,           1,           1,           1,           1,           1,\n",
       "                  1,           1,           1,           1,           1,           1,           1,           1,           1,           1,           1,           1,           1,           1,           1,           1,           1,           1,           1,           1,           1,           1,           1,\n",
       "                  1,           1,           1,           1,           1,           1,           1,           1,           1,           1,           1,           1,           1,           1,           1,           1,           1,           1,           1,           1,           1,           1,           1,\n",
       "                  1,           1,           1,           1,           1,           1,           1,           1,           1,           1,           1,           1,           1,           1,           1,           1,           1,           1,           1,           1,           1,           1,           1,\n",
       "                  1,           1,           1,           1,           1,           1,           1,           1,           1,           1,           1,           1,           1,           1,           1,           1,           1,           1,           1,           1,           1,           1,           1,\n",
       "                  1,           1,           1,           1,           1,           1,           1,           1,           1,           1,           1,           1,           1,           1,           1,           1,           1,           1,           1,           1,           1,           1,           1,\n",
       "                  1,           1,           1,           1,           1,           1,           1,           1,           1,           1,           1,           1,           1,           1,           1,           1,           1,           1,           1,           1,           1,           1,           1,\n",
       "                  1,           1,           1,           1,           1,           1,           1,           1,           1,           1,           1,           1,           1,           1,           1,           1,           1,           1,           1,           1,           1,           1,           1,\n",
       "                  1,           1,           1,           1,           1,           1,           1,           1,           1,           1,           1,           1,           1,           1,           1,           1,           1,           1,           1,           1,           1,           1,           1,\n",
       "                  1,           1,           1,           1,           1,           1,           1,           1,           1,           1,           1,           1,           1,           1,           1,           1,           1,           1,           1,           1,           1,           1,           1,\n",
       "                  1,           1,           1,           1,           1,           1,           1,           1,           1,           1,           1,           1,           1,           1,           1,           1,           1,           1,           1,           1,           1,           1,           1,\n",
       "                  1,           1,           1,           1,           1,           1,           1,           1,           1,           1,           1,           1,           1,           1,           1,           1,           1,           1,           1,           1,           1,           1,           1,\n",
       "                  1,           1,           1,           1,           1,           1,           1,           1,           1,           1,           1,           1,           1,           1,           1,           1,           1,           1,           1,           1,           1,           1,           1,\n",
       "                  1,           1,           1,           1,           1,           1,           1,           1,           1,           1,           1,           1,           1,           1,           1,           1,           1,           1,           1,           1,           1,           1,           1,\n",
       "                  1,           1,           1,           1,           1,           1,           1,           1,           1,           1,           1,           1,           1,           1,           1,           1,           1,           1,           1,           1,           1,           1,           1,\n",
       "                  1,           1,           1,           1,           1,           1,           1,           1,           1,           1,           1,           1,           1,           1,           1,           1,           1,           1,           1,           1,           1,           1,           1,\n",
       "                  1,           1,           1,           1,           1,           1,           1,           1,           1,           1,           1,           1,           1,           1,           1,           1,           1,           1,           1,           1,           1,           1,           1,\n",
       "                  1,           1,           1,           1,           1,           1,           1,           1,           1,           1,           1,           1,           1,           1,           1,           1,           1,           1,           1,           1,           1,           1,           1,\n",
       "                  1,           1,           1,           1,           1,           1,           1,           1,           1,           1,           1,           1,           1,           1,           1,           1,           1,           1,           1,           1,           1,           1,           1,\n",
       "                  1,           1,           1,           1,           1,           1,           1,           1,           1,           1,           1,           1,           1,           1,           1,           1,           1,           1,           1,           1,           1,           1,           1,\n",
       "                  1,           1,           1,           1,           1,           1,           1,           1,           1,           1,           1,           1,           1,           1,           1,           1,           1,           1,           1,           1,           1,           1,           1,\n",
       "                  1,           1,           1,           1,           1,           1,           1,           1,           1,           1,           1,           1,           1,           1,           1,           1,           1,           1,           1,           1,           1,           1,           1,\n",
       "                  1,           1,           1,           1,           1,           1,           1,           1,           1,           1,           1,           1,           1,           1,           1,           1,           1,           1,           1,           1,           1,           1,           1,\n",
       "                  1,           1,           1,           1,           1,           1,           1,           1,           1,           1,           1,           1,           1,           1,           1,           1,           1,           1,           1,           1,           1,           1,           1,\n",
       "                  1,           1,           1,           1,           1,           1,           1,           1,           1,           1,           1,           1,           1,           1,           1,           1,           1,           1,           1,           1,           1,           1,           1,\n",
       "                  1,           1,           1,           1,           1,           1,           1,           1,           1,           1,           1,           1,           1,           1,           1,           1,           1,           1,           1,           1,           1,           1,           1,\n",
       "                  1,           1,           1,           1,           1,           1,           1,           1,           1,           1,           1,           1,           1,           1,           1,           1,           1,           1,           1,           1,           1,           1,           1,\n",
       "                  1,           1,           1,           1,           1,           1,           1,           1,           1,           1,           1,           1,           1,           1,           1,           1,           1,           1,           1,           1,           1,           1,           1,\n",
       "                  1,           1,           1,           1,           1,           1,           1,           1,           1,           1,           1,           1,           1,           1,           1,           1,           1,           1,           1,           1,           1,           1,           1,\n",
       "                  1,           1,           1,           1,           1,           1,           1,           1,           1,           1,           1,           1,           1,           1,           1,           1,           1,           1,           1,           1,           1,           1,           1,\n",
       "                  1,           1,           1,           1,           1,           1,           1,           1,           1,           1,           1,           1,           1,           1,           1,           1,           1,           1,           1,           1,           1,           1,           1,\n",
       "                  1,           1,           1,           1,           1,           1,     0.99929,     0.99654,     0.99457,      0.9945,     0.99442,     0.99434,     0.99427,     0.99419,     0.99412,     0.99404,     0.99396,     0.99389,     0.99381,     0.99373,     0.99366,     0.99358,     0.99351,\n",
       "            0.99343,     0.99335,     0.99328,      0.9932,     0.99313,     0.99305,     0.99297,      0.9929,     0.99282,     0.99275,     0.99267,     0.99259,     0.99252,     0.99244,     0.99236,     0.99229,     0.99221,     0.99214,     0.99206,     0.99198,     0.99191,     0.99183,     0.99176,\n",
       "            0.99168,      0.9916,     0.99153,     0.99145,     0.99138,      0.9913,     0.99122,     0.99115,     0.99107,     0.99099,     0.99092,     0.99084,     0.99077,     0.99069,     0.99061,     0.99054,     0.99046,     0.99039,     0.99031,     0.99023,     0.99016,     0.99008,        0.99,\n",
       "            0.98993,     0.98985,     0.98978,      0.9897,     0.98962,     0.98955,     0.98947,      0.9894,     0.98932,     0.98924,     0.98909,     0.98875,      0.9884,     0.98806,     0.98771,     0.98737,     0.98702,     0.98668,     0.98633,     0.98599,     0.98565,      0.9853,     0.98496,\n",
       "            0.98461,     0.98427,     0.98392,     0.98347,     0.98294,     0.98241,     0.98188,     0.98135,     0.98082,     0.98029,     0.97976,     0.97924,     0.97871,     0.97603,      0.9671,     0.96591,     0.96472,     0.96353,     0.96234,     0.95115,     0.94711,     0.94484,     0.94328,\n",
       "            0.94173,     0.93949,     0.93488,     0.92877,     0.92699,     0.92521,     0.91772,     0.91442,     0.90601,     0.90161,     0.89666,     0.89389,     0.88998,     0.88303,     0.87577,     0.85745,     0.85359,     0.85122,     0.84884,     0.84731,     0.84585,     0.84439,     0.84012,\n",
       "            0.83552,     0.83277,     0.82222,     0.80874,     0.80293,     0.79275,      0.7699,     0.74486,      0.7243,     0.71443,     0.67128,     0.63708,     0.62568,     0.60598,      0.5791,     0.55513,     0.50613,     0.48775,     0.46476,     0.44502,     0.41709,     0.38536,     0.34546,\n",
       "            0.31748,     0.29403,     0.26857,     0.23198,     0.20751,     0.18731,     0.15136,     0.14331,     0.13739,     0.12108,     0.10366,    0.093331,    0.076272,    0.061825,    0.047229,    0.043312,    0.031526,     0.02696,    0.024898,    0.022836,    0.015879,    0.011698,   0.0076927,\n",
       "                  0,           0,           0,           0,           0,           0,           0,           0,           0,           0,           0,           0,           0,           0,           0,           0,           0,           0,           0,           0,           0,           0,           0,\n",
       "                  0,           0,           0,           0,           0,           0,           0,           0,           0,           0,           0]]), 'Confidence', 'Recall'], [array([          0,    0.001001,    0.002002,    0.003003,    0.004004,    0.005005,    0.006006,    0.007007,    0.008008,    0.009009,     0.01001,    0.011011,    0.012012,    0.013013,    0.014014,    0.015015,    0.016016,    0.017017,    0.018018,    0.019019,     0.02002,    0.021021,    0.022022,    0.023023,\n",
       "          0.024024,    0.025025,    0.026026,    0.027027,    0.028028,    0.029029,     0.03003,    0.031031,    0.032032,    0.033033,    0.034034,    0.035035,    0.036036,    0.037037,    0.038038,    0.039039,     0.04004,    0.041041,    0.042042,    0.043043,    0.044044,    0.045045,    0.046046,    0.047047,\n",
       "          0.048048,    0.049049,     0.05005,    0.051051,    0.052052,    0.053053,    0.054054,    0.055055,    0.056056,    0.057057,    0.058058,    0.059059,     0.06006,    0.061061,    0.062062,    0.063063,    0.064064,    0.065065,    0.066066,    0.067067,    0.068068,    0.069069,     0.07007,    0.071071,\n",
       "          0.072072,    0.073073,    0.074074,    0.075075,    0.076076,    0.077077,    0.078078,    0.079079,     0.08008,    0.081081,    0.082082,    0.083083,    0.084084,    0.085085,    0.086086,    0.087087,    0.088088,    0.089089,     0.09009,    0.091091,    0.092092,    0.093093,    0.094094,    0.095095,\n",
       "          0.096096,    0.097097,    0.098098,    0.099099,      0.1001,      0.1011,      0.1021,      0.1031,      0.1041,     0.10511,     0.10611,     0.10711,     0.10811,     0.10911,     0.11011,     0.11111,     0.11211,     0.11311,     0.11411,     0.11512,     0.11612,     0.11712,     0.11812,     0.11912,\n",
       "           0.12012,     0.12112,     0.12212,     0.12312,     0.12412,     0.12513,     0.12613,     0.12713,     0.12813,     0.12913,     0.13013,     0.13113,     0.13213,     0.13313,     0.13413,     0.13514,     0.13614,     0.13714,     0.13814,     0.13914,     0.14014,     0.14114,     0.14214,     0.14314,\n",
       "           0.14414,     0.14515,     0.14615,     0.14715,     0.14815,     0.14915,     0.15015,     0.15115,     0.15215,     0.15315,     0.15415,     0.15516,     0.15616,     0.15716,     0.15816,     0.15916,     0.16016,     0.16116,     0.16216,     0.16316,     0.16416,     0.16517,     0.16617,     0.16717,\n",
       "           0.16817,     0.16917,     0.17017,     0.17117,     0.17217,     0.17317,     0.17417,     0.17518,     0.17618,     0.17718,     0.17818,     0.17918,     0.18018,     0.18118,     0.18218,     0.18318,     0.18418,     0.18519,     0.18619,     0.18719,     0.18819,     0.18919,     0.19019,     0.19119,\n",
       "           0.19219,     0.19319,     0.19419,      0.1952,      0.1962,      0.1972,      0.1982,      0.1992,      0.2002,      0.2012,      0.2022,      0.2032,      0.2042,     0.20521,     0.20621,     0.20721,     0.20821,     0.20921,     0.21021,     0.21121,     0.21221,     0.21321,     0.21421,     0.21522,\n",
       "           0.21622,     0.21722,     0.21822,     0.21922,     0.22022,     0.22122,     0.22222,     0.22322,     0.22422,     0.22523,     0.22623,     0.22723,     0.22823,     0.22923,     0.23023,     0.23123,     0.23223,     0.23323,     0.23423,     0.23524,     0.23624,     0.23724,     0.23824,     0.23924,\n",
       "           0.24024,     0.24124,     0.24224,     0.24324,     0.24424,     0.24525,     0.24625,     0.24725,     0.24825,     0.24925,     0.25025,     0.25125,     0.25225,     0.25325,     0.25425,     0.25526,     0.25626,     0.25726,     0.25826,     0.25926,     0.26026,     0.26126,     0.26226,     0.26326,\n",
       "           0.26426,     0.26527,     0.26627,     0.26727,     0.26827,     0.26927,     0.27027,     0.27127,     0.27227,     0.27327,     0.27427,     0.27528,     0.27628,     0.27728,     0.27828,     0.27928,     0.28028,     0.28128,     0.28228,     0.28328,     0.28428,     0.28529,     0.28629,     0.28729,\n",
       "           0.28829,     0.28929,     0.29029,     0.29129,     0.29229,     0.29329,     0.29429,      0.2953,      0.2963,      0.2973,      0.2983,      0.2993,      0.3003,      0.3013,      0.3023,      0.3033,      0.3043,     0.30531,     0.30631,     0.30731,     0.30831,     0.30931,     0.31031,     0.31131,\n",
       "           0.31231,     0.31331,     0.31431,     0.31532,     0.31632,     0.31732,     0.31832,     0.31932,     0.32032,     0.32132,     0.32232,     0.32332,     0.32432,     0.32533,     0.32633,     0.32733,     0.32833,     0.32933,     0.33033,     0.33133,     0.33233,     0.33333,     0.33433,     0.33534,\n",
       "           0.33634,     0.33734,     0.33834,     0.33934,     0.34034,     0.34134,     0.34234,     0.34334,     0.34434,     0.34535,     0.34635,     0.34735,     0.34835,     0.34935,     0.35035,     0.35135,     0.35235,     0.35335,     0.35435,     0.35536,     0.35636,     0.35736,     0.35836,     0.35936,\n",
       "           0.36036,     0.36136,     0.36236,     0.36336,     0.36436,     0.36537,     0.36637,     0.36737,     0.36837,     0.36937,     0.37037,     0.37137,     0.37237,     0.37337,     0.37437,     0.37538,     0.37638,     0.37738,     0.37838,     0.37938,     0.38038,     0.38138,     0.38238,     0.38338,\n",
       "           0.38438,     0.38539,     0.38639,     0.38739,     0.38839,     0.38939,     0.39039,     0.39139,     0.39239,     0.39339,     0.39439,      0.3954,      0.3964,      0.3974,      0.3984,      0.3994,      0.4004,      0.4014,      0.4024,      0.4034,      0.4044,     0.40541,     0.40641,     0.40741,\n",
       "           0.40841,     0.40941,     0.41041,     0.41141,     0.41241,     0.41341,     0.41441,     0.41542,     0.41642,     0.41742,     0.41842,     0.41942,     0.42042,     0.42142,     0.42242,     0.42342,     0.42442,     0.42543,     0.42643,     0.42743,     0.42843,     0.42943,     0.43043,     0.43143,\n",
       "           0.43243,     0.43343,     0.43443,     0.43544,     0.43644,     0.43744,     0.43844,     0.43944,     0.44044,     0.44144,     0.44244,     0.44344,     0.44444,     0.44545,     0.44645,     0.44745,     0.44845,     0.44945,     0.45045,     0.45145,     0.45245,     0.45345,     0.45445,     0.45546,\n",
       "           0.45646,     0.45746,     0.45846,     0.45946,     0.46046,     0.46146,     0.46246,     0.46346,     0.46446,     0.46547,     0.46647,     0.46747,     0.46847,     0.46947,     0.47047,     0.47147,     0.47247,     0.47347,     0.47447,     0.47548,     0.47648,     0.47748,     0.47848,     0.47948,\n",
       "           0.48048,     0.48148,     0.48248,     0.48348,     0.48448,     0.48549,     0.48649,     0.48749,     0.48849,     0.48949,     0.49049,     0.49149,     0.49249,     0.49349,     0.49449,      0.4955,      0.4965,      0.4975,      0.4985,      0.4995,      0.5005,      0.5015,      0.5025,      0.5035,\n",
       "            0.5045,     0.50551,     0.50651,     0.50751,     0.50851,     0.50951,     0.51051,     0.51151,     0.51251,     0.51351,     0.51451,     0.51552,     0.51652,     0.51752,     0.51852,     0.51952,     0.52052,     0.52152,     0.52252,     0.52352,     0.52452,     0.52553,     0.52653,     0.52753,\n",
       "           0.52853,     0.52953,     0.53053,     0.53153,     0.53253,     0.53353,     0.53453,     0.53554,     0.53654,     0.53754,     0.53854,     0.53954,     0.54054,     0.54154,     0.54254,     0.54354,     0.54454,     0.54555,     0.54655,     0.54755,     0.54855,     0.54955,     0.55055,     0.55155,\n",
       "           0.55255,     0.55355,     0.55455,     0.55556,     0.55656,     0.55756,     0.55856,     0.55956,     0.56056,     0.56156,     0.56256,     0.56356,     0.56456,     0.56557,     0.56657,     0.56757,     0.56857,     0.56957,     0.57057,     0.57157,     0.57257,     0.57357,     0.57457,     0.57558,\n",
       "           0.57658,     0.57758,     0.57858,     0.57958,     0.58058,     0.58158,     0.58258,     0.58358,     0.58458,     0.58559,     0.58659,     0.58759,     0.58859,     0.58959,     0.59059,     0.59159,     0.59259,     0.59359,     0.59459,      0.5956,      0.5966,      0.5976,      0.5986,      0.5996,\n",
       "            0.6006,      0.6016,      0.6026,      0.6036,      0.6046,     0.60561,     0.60661,     0.60761,     0.60861,     0.60961,     0.61061,     0.61161,     0.61261,     0.61361,     0.61461,     0.61562,     0.61662,     0.61762,     0.61862,     0.61962,     0.62062,     0.62162,     0.62262,     0.62362,\n",
       "           0.62462,     0.62563,     0.62663,     0.62763,     0.62863,     0.62963,     0.63063,     0.63163,     0.63263,     0.63363,     0.63463,     0.63564,     0.63664,     0.63764,     0.63864,     0.63964,     0.64064,     0.64164,     0.64264,     0.64364,     0.64464,     0.64565,     0.64665,     0.64765,\n",
       "           0.64865,     0.64965,     0.65065,     0.65165,     0.65265,     0.65365,     0.65465,     0.65566,     0.65666,     0.65766,     0.65866,     0.65966,     0.66066,     0.66166,     0.66266,     0.66366,     0.66466,     0.66567,     0.66667,     0.66767,     0.66867,     0.66967,     0.67067,     0.67167,\n",
       "           0.67267,     0.67367,     0.67467,     0.67568,     0.67668,     0.67768,     0.67868,     0.67968,     0.68068,     0.68168,     0.68268,     0.68368,     0.68468,     0.68569,     0.68669,     0.68769,     0.68869,     0.68969,     0.69069,     0.69169,     0.69269,     0.69369,     0.69469,      0.6957,\n",
       "            0.6967,      0.6977,      0.6987,      0.6997,      0.7007,      0.7017,      0.7027,      0.7037,      0.7047,     0.70571,     0.70671,     0.70771,     0.70871,     0.70971,     0.71071,     0.71171,     0.71271,     0.71371,     0.71471,     0.71572,     0.71672,     0.71772,     0.71872,     0.71972,\n",
       "           0.72072,     0.72172,     0.72272,     0.72372,     0.72472,     0.72573,     0.72673,     0.72773,     0.72873,     0.72973,     0.73073,     0.73173,     0.73273,     0.73373,     0.73473,     0.73574,     0.73674,     0.73774,     0.73874,     0.73974,     0.74074,     0.74174,     0.74274,     0.74374,\n",
       "           0.74474,     0.74575,     0.74675,     0.74775,     0.74875,     0.74975,     0.75075,     0.75175,     0.75275,     0.75375,     0.75475,     0.75576,     0.75676,     0.75776,     0.75876,     0.75976,     0.76076,     0.76176,     0.76276,     0.76376,     0.76476,     0.76577,     0.76677,     0.76777,\n",
       "           0.76877,     0.76977,     0.77077,     0.77177,     0.77277,     0.77377,     0.77477,     0.77578,     0.77678,     0.77778,     0.77878,     0.77978,     0.78078,     0.78178,     0.78278,     0.78378,     0.78478,     0.78579,     0.78679,     0.78779,     0.78879,     0.78979,     0.79079,     0.79179,\n",
       "           0.79279,     0.79379,     0.79479,      0.7958,      0.7968,      0.7978,      0.7988,      0.7998,      0.8008,      0.8018,      0.8028,      0.8038,      0.8048,     0.80581,     0.80681,     0.80781,     0.80881,     0.80981,     0.81081,     0.81181,     0.81281,     0.81381,     0.81481,     0.81582,\n",
       "           0.81682,     0.81782,     0.81882,     0.81982,     0.82082,     0.82182,     0.82282,     0.82382,     0.82482,     0.82583,     0.82683,     0.82783,     0.82883,     0.82983,     0.83083,     0.83183,     0.83283,     0.83383,     0.83483,     0.83584,     0.83684,     0.83784,     0.83884,     0.83984,\n",
       "           0.84084,     0.84184,     0.84284,     0.84384,     0.84484,     0.84585,     0.84685,     0.84785,     0.84885,     0.84985,     0.85085,     0.85185,     0.85285,     0.85385,     0.85485,     0.85586,     0.85686,     0.85786,     0.85886,     0.85986,     0.86086,     0.86186,     0.86286,     0.86386,\n",
       "           0.86486,     0.86587,     0.86687,     0.86787,     0.86887,     0.86987,     0.87087,     0.87187,     0.87287,     0.87387,     0.87487,     0.87588,     0.87688,     0.87788,     0.87888,     0.87988,     0.88088,     0.88188,     0.88288,     0.88388,     0.88488,     0.88589,     0.88689,     0.88789,\n",
       "           0.88889,     0.88989,     0.89089,     0.89189,     0.89289,     0.89389,     0.89489,      0.8959,      0.8969,      0.8979,      0.8989,      0.8999,      0.9009,      0.9019,      0.9029,      0.9039,      0.9049,     0.90591,     0.90691,     0.90791,     0.90891,     0.90991,     0.91091,     0.91191,\n",
       "           0.91291,     0.91391,     0.91491,     0.91592,     0.91692,     0.91792,     0.91892,     0.91992,     0.92092,     0.92192,     0.92292,     0.92392,     0.92492,     0.92593,     0.92693,     0.92793,     0.92893,     0.92993,     0.93093,     0.93193,     0.93293,     0.93393,     0.93493,     0.93594,\n",
       "           0.93694,     0.93794,     0.93894,     0.93994,     0.94094,     0.94194,     0.94294,     0.94394,     0.94494,     0.94595,     0.94695,     0.94795,     0.94895,     0.94995,     0.95095,     0.95195,     0.95295,     0.95395,     0.95495,     0.95596,     0.95696,     0.95796,     0.95896,     0.95996,\n",
       "           0.96096,     0.96196,     0.96296,     0.96396,     0.96496,     0.96597,     0.96697,     0.96797,     0.96897,     0.96997,     0.97097,     0.97197,     0.97297,     0.97397,     0.97497,     0.97598,     0.97698,     0.97798,     0.97898,     0.97998,     0.98098,     0.98198,     0.98298,     0.98398,\n",
       "           0.98498,     0.98599,     0.98699,     0.98799,     0.98899,     0.98999,     0.99099,     0.99199,     0.99299,     0.99399,     0.99499,       0.996,       0.997,       0.998,       0.999,           1]), array([[          1,           1,           1,           1,           1,           1,           1,           1,           1,           1,           1,           1,           1,           1,           1,           1,           1,           1,           1,           1,           1,           1,           1,\n",
       "                  1,           1,           1,           1,           1,           1,           1,           1,           1,           1,           1,           1,           1,           1,           1,           1,           1,           1,           1,           1,           1,           1,           1,\n",
       "                  1,           1,           1,           1,           1,           1,           1,           1,           1,           1,           1,           1,           1,           1,           1,           1,           1,           1,           1,           1,           1,           1,           1,\n",
       "                  1,           1,           1,           1,           1,           1,           1,           1,           1,           1,           1,           1,           1,           1,           1,           1,           1,           1,           1,           1,           1,           1,           1,\n",
       "                  1,           1,           1,           1,           1,           1,           1,           1,           1,           1,           1,           1,           1,           1,           1,           1,           1,           1,           1,           1,           1,           1,           1,\n",
       "                  1,           1,           1,           1,           1,           1,           1,           1,           1,           1,           1,           1,           1,           1,           1,           1,           1,           1,           1,           1,           1,           1,           1,\n",
       "                  1,           1,           1,           1,           1,           1,           1,           1,           1,           1,           1,           1,           1,           1,           1,           1,           1,           1,           1,           1,           1,           1,           1,\n",
       "                  1,           1,           1,           1,           1,           1,           1,           1,           1,           1,           1,           1,           1,           1,           1,           1,           1,           1,           1,           1,           1,           1,           1,\n",
       "                  1,           1,           1,           1,           1,           1,           1,           1,           1,           1,           1,           1,           1,           1,           1,           1,           1,           1,           1,           1,           1,           1,           1,\n",
       "                  1,           1,           1,           1,           1,           1,           1,           1,           1,           1,           1,           1,           1,           1,           1,           1,           1,           1,           1,           1,           1,           1,           1,\n",
       "                  1,           1,           1,           1,           1,           1,           1,           1,           1,           1,           1,           1,           1,           1,           1,           1,           1,           1,           1,           1,           1,           1,           1,\n",
       "                  1,           1,           1,           1,           1,           1,           1,           1,           1,           1,           1,           1,           1,           1,           1,           1,           1,           1,           1,           1,           1,           1,           1,\n",
       "                  1,           1,           1,           1,           1,           1,           1,           1,           1,           1,           1,           1,           1,           1,           1,           1,           1,           1,           1,           1,           1,           1,           1,\n",
       "                  1,           1,           1,           1,           1,           1,           1,           1,           1,           1,           1,           1,           1,           1,           1,           1,           1,           1,           1,           1,           1,           1,           1,\n",
       "                  1,           1,           1,           1,           1,           1,           1,           1,           1,           1,           1,           1,           1,           1,           1,           1,           1,           1,           1,           1,           1,           1,           1,\n",
       "                  1,           1,           1,           1,           1,           1,           1,           1,           1,           1,           1,           1,           1,           1,           1,           1,           1,           1,           1,           1,           1,           1,           1,\n",
       "                  1,           1,           1,           1,           1,           1,           1,           1,           1,           1,           1,           1,           1,           1,           1,           1,           1,           1,           1,           1,           1,           1,           1,\n",
       "                  1,           1,           1,           1,           1,           1,           1,           1,           1,           1,           1,           1,           1,           1,           1,           1,           1,           1,           1,           1,           1,           1,           1,\n",
       "                  1,           1,           1,           1,           1,           1,           1,           1,           1,           1,           1,           1,           1,           1,           1,           1,           1,           1,           1,           1,           1,           1,           1,\n",
       "                  1,           1,           1,           1,           1,           1,           1,           1,           1,           1,           1,           1,           1,           1,           1,           1,           1,           1,           1,           1,           1,           1,           1,\n",
       "                  1,           1,           1,           1,           1,           1,           1,           1,           1,           1,           1,           1,           1,           1,           1,           1,           1,           1,           1,           1,           1,           1,           1,\n",
       "                  1,           1,           1,           1,           1,           1,           1,           1,           1,           1,           1,           1,           1,           1,           1,           1,           1,           1,           1,           1,           1,           1,           1,\n",
       "                  1,           1,           1,           1,           1,           1,           1,           1,           1,           1,           1,           1,           1,           1,           1,           1,           1,           1,           1,           1,           1,           1,           1,\n",
       "                  1,           1,           1,           1,           1,           1,           1,           1,           1,           1,           1,           1,           1,           1,           1,           1,           1,           1,           1,           1,           1,           1,           1,\n",
       "                  1,           1,           1,           1,           1,           1,           1,           1,           1,           1,           1,           1,           1,           1,           1,           1,           1,           1,           1,           1,           1,           1,           1,\n",
       "                  1,           1,           1,           1,           1,           1,           1,           1,           1,           1,           1,           1,           1,           1,           1,           1,           1,           1,           1,           1,           1,           1,           1,\n",
       "                  1,           1,           1,           1,           1,           1,           1,           1,           1,           1,           1,           1,           1,           1,           1,           1,           1,           1,           1,           1,           1,           1,           1,\n",
       "                  1,           1,           1,           1,           1,           1,           1,           1,           1,           1,           1,           1,           1,           1,           1,           1,           1,           1,           1,           1,           1,           1,           1,\n",
       "                  1,           1,           1,           1,           1,           1,           1,           1,           1,           1,           1,           1,           1,           1,           1,           1,           1,           1,           1,           1,           1,           1,           1,\n",
       "                  1,           1,           1,           1,           1,           1,           1,           1,           1,           1,           1,           1,           1,           1,           1,           1,           1,           1,           1,           1,           1,           1,           1,\n",
       "                  1,           1,           1,           1,           1,           1,           1,           1,           1,           1,           1,           1,           1,           1,           1,           1,           1,           1,           1,           1,           1,           1,           1,\n",
       "                  1,           1,           1,           1,           1,           1,           1,           1,           1,           1,           1,           1,           1,           1,           1,           1,           1,           1,           1,           1,           1,           1,           1,\n",
       "                  1,           1,           1,           1,           1,           1,           1,           1,           1,           1,           1,           1,           1,           1,           1,           1,           1,           1,           1,           1,           1,           1,           1,\n",
       "                  1,           1,           1,           1,           1,           1,           1,           1,           1,           1,           1,           1,           1,           1,           1,           1,           1,           1,           1,           1,           1,           1,           1,\n",
       "                  1,           1,           1,           1,           1,           1,           1,           1,           1,           1,           1,           1,           1,           1,           1,           1,           1,           1,           1,           1,           1,           1,           1,\n",
       "                  1,           1,           1,           1,           1,           1,           1,           1,           1,           1,           1,           1,           1,           1,           1,           1,           1,           1,           1,           1,           1,           1,           1,\n",
       "                  1,           1,           1,           1,           1,           1,           1,           1,           1,           1,           1,           1,           1,           1,           1,           1,           1,           1,           1,           1,           1,           1,           1,\n",
       "                  1,           1,           1,           1,           1,           1,           1,           1,           1,           1,           1,           1,           1,           1,           1,           1,           1,           1,           1,           1,           1,           1,           1,\n",
       "                  1,           1,           1,           1,           1,           1,           1,           1,           1,           1,           1,           1,           1,           1,           1,           1,           1,           1,           1,           1,           1,           1,           1,\n",
       "                  1,           1,           1,           1,           1,           1,           1,           1,           1,           1,           1,           1,           1,           1,           1,           1,           1,           1,           1,           1,           1,           1,           1,\n",
       "                  1,           1,           1,           1,           1,           1,           1,           1,           1,           1,           1,           1,           1,           1,           1,           1,           1,           1,           1,           1,           1,           1,           1,\n",
       "                  1,           1,           1,           1,           1,           1,           1,           1,           1,           1,           1,           1,           1,           1,           1,           1,           1,           1,           1,           1,           1,           1,           1,\n",
       "                  1,           1,           1,           1,           1,           1,           1,     0.99459,     0.99459,     0.99459,     0.99459,     0.99459,     0.99459,     0.99459,     0.99459,     0.99459,     0.99459,     0.99459,     0.99459,     0.99459,     0.99459,     0.99459,     0.99459,\n",
       "            0.99459,     0.99459,     0.99459,     0.99459,     0.99459,      0.6734,     0.53872,     0.40404,     0.26936,     0.13468,           0]]), 'Recall', 'Precision'], [array([          0,    0.001001,    0.002002,    0.003003,    0.004004,    0.005005,    0.006006,    0.007007,    0.008008,    0.009009,     0.01001,    0.011011,    0.012012,    0.013013,    0.014014,    0.015015,    0.016016,    0.017017,    0.018018,    0.019019,     0.02002,    0.021021,    0.022022,    0.023023,\n",
       "          0.024024,    0.025025,    0.026026,    0.027027,    0.028028,    0.029029,     0.03003,    0.031031,    0.032032,    0.033033,    0.034034,    0.035035,    0.036036,    0.037037,    0.038038,    0.039039,     0.04004,    0.041041,    0.042042,    0.043043,    0.044044,    0.045045,    0.046046,    0.047047,\n",
       "          0.048048,    0.049049,     0.05005,    0.051051,    0.052052,    0.053053,    0.054054,    0.055055,    0.056056,    0.057057,    0.058058,    0.059059,     0.06006,    0.061061,    0.062062,    0.063063,    0.064064,    0.065065,    0.066066,    0.067067,    0.068068,    0.069069,     0.07007,    0.071071,\n",
       "          0.072072,    0.073073,    0.074074,    0.075075,    0.076076,    0.077077,    0.078078,    0.079079,     0.08008,    0.081081,    0.082082,    0.083083,    0.084084,    0.085085,    0.086086,    0.087087,    0.088088,    0.089089,     0.09009,    0.091091,    0.092092,    0.093093,    0.094094,    0.095095,\n",
       "          0.096096,    0.097097,    0.098098,    0.099099,      0.1001,      0.1011,      0.1021,      0.1031,      0.1041,     0.10511,     0.10611,     0.10711,     0.10811,     0.10911,     0.11011,     0.11111,     0.11211,     0.11311,     0.11411,     0.11512,     0.11612,     0.11712,     0.11812,     0.11912,\n",
       "           0.12012,     0.12112,     0.12212,     0.12312,     0.12412,     0.12513,     0.12613,     0.12713,     0.12813,     0.12913,     0.13013,     0.13113,     0.13213,     0.13313,     0.13413,     0.13514,     0.13614,     0.13714,     0.13814,     0.13914,     0.14014,     0.14114,     0.14214,     0.14314,\n",
       "           0.14414,     0.14515,     0.14615,     0.14715,     0.14815,     0.14915,     0.15015,     0.15115,     0.15215,     0.15315,     0.15415,     0.15516,     0.15616,     0.15716,     0.15816,     0.15916,     0.16016,     0.16116,     0.16216,     0.16316,     0.16416,     0.16517,     0.16617,     0.16717,\n",
       "           0.16817,     0.16917,     0.17017,     0.17117,     0.17217,     0.17317,     0.17417,     0.17518,     0.17618,     0.17718,     0.17818,     0.17918,     0.18018,     0.18118,     0.18218,     0.18318,     0.18418,     0.18519,     0.18619,     0.18719,     0.18819,     0.18919,     0.19019,     0.19119,\n",
       "           0.19219,     0.19319,     0.19419,      0.1952,      0.1962,      0.1972,      0.1982,      0.1992,      0.2002,      0.2012,      0.2022,      0.2032,      0.2042,     0.20521,     0.20621,     0.20721,     0.20821,     0.20921,     0.21021,     0.21121,     0.21221,     0.21321,     0.21421,     0.21522,\n",
       "           0.21622,     0.21722,     0.21822,     0.21922,     0.22022,     0.22122,     0.22222,     0.22322,     0.22422,     0.22523,     0.22623,     0.22723,     0.22823,     0.22923,     0.23023,     0.23123,     0.23223,     0.23323,     0.23423,     0.23524,     0.23624,     0.23724,     0.23824,     0.23924,\n",
       "           0.24024,     0.24124,     0.24224,     0.24324,     0.24424,     0.24525,     0.24625,     0.24725,     0.24825,     0.24925,     0.25025,     0.25125,     0.25225,     0.25325,     0.25425,     0.25526,     0.25626,     0.25726,     0.25826,     0.25926,     0.26026,     0.26126,     0.26226,     0.26326,\n",
       "           0.26426,     0.26527,     0.26627,     0.26727,     0.26827,     0.26927,     0.27027,     0.27127,     0.27227,     0.27327,     0.27427,     0.27528,     0.27628,     0.27728,     0.27828,     0.27928,     0.28028,     0.28128,     0.28228,     0.28328,     0.28428,     0.28529,     0.28629,     0.28729,\n",
       "           0.28829,     0.28929,     0.29029,     0.29129,     0.29229,     0.29329,     0.29429,      0.2953,      0.2963,      0.2973,      0.2983,      0.2993,      0.3003,      0.3013,      0.3023,      0.3033,      0.3043,     0.30531,     0.30631,     0.30731,     0.30831,     0.30931,     0.31031,     0.31131,\n",
       "           0.31231,     0.31331,     0.31431,     0.31532,     0.31632,     0.31732,     0.31832,     0.31932,     0.32032,     0.32132,     0.32232,     0.32332,     0.32432,     0.32533,     0.32633,     0.32733,     0.32833,     0.32933,     0.33033,     0.33133,     0.33233,     0.33333,     0.33433,     0.33534,\n",
       "           0.33634,     0.33734,     0.33834,     0.33934,     0.34034,     0.34134,     0.34234,     0.34334,     0.34434,     0.34535,     0.34635,     0.34735,     0.34835,     0.34935,     0.35035,     0.35135,     0.35235,     0.35335,     0.35435,     0.35536,     0.35636,     0.35736,     0.35836,     0.35936,\n",
       "           0.36036,     0.36136,     0.36236,     0.36336,     0.36436,     0.36537,     0.36637,     0.36737,     0.36837,     0.36937,     0.37037,     0.37137,     0.37237,     0.37337,     0.37437,     0.37538,     0.37638,     0.37738,     0.37838,     0.37938,     0.38038,     0.38138,     0.38238,     0.38338,\n",
       "           0.38438,     0.38539,     0.38639,     0.38739,     0.38839,     0.38939,     0.39039,     0.39139,     0.39239,     0.39339,     0.39439,      0.3954,      0.3964,      0.3974,      0.3984,      0.3994,      0.4004,      0.4014,      0.4024,      0.4034,      0.4044,     0.40541,     0.40641,     0.40741,\n",
       "           0.40841,     0.40941,     0.41041,     0.41141,     0.41241,     0.41341,     0.41441,     0.41542,     0.41642,     0.41742,     0.41842,     0.41942,     0.42042,     0.42142,     0.42242,     0.42342,     0.42442,     0.42543,     0.42643,     0.42743,     0.42843,     0.42943,     0.43043,     0.43143,\n",
       "           0.43243,     0.43343,     0.43443,     0.43544,     0.43644,     0.43744,     0.43844,     0.43944,     0.44044,     0.44144,     0.44244,     0.44344,     0.44444,     0.44545,     0.44645,     0.44745,     0.44845,     0.44945,     0.45045,     0.45145,     0.45245,     0.45345,     0.45445,     0.45546,\n",
       "           0.45646,     0.45746,     0.45846,     0.45946,     0.46046,     0.46146,     0.46246,     0.46346,     0.46446,     0.46547,     0.46647,     0.46747,     0.46847,     0.46947,     0.47047,     0.47147,     0.47247,     0.47347,     0.47447,     0.47548,     0.47648,     0.47748,     0.47848,     0.47948,\n",
       "           0.48048,     0.48148,     0.48248,     0.48348,     0.48448,     0.48549,     0.48649,     0.48749,     0.48849,     0.48949,     0.49049,     0.49149,     0.49249,     0.49349,     0.49449,      0.4955,      0.4965,      0.4975,      0.4985,      0.4995,      0.5005,      0.5015,      0.5025,      0.5035,\n",
       "            0.5045,     0.50551,     0.50651,     0.50751,     0.50851,     0.50951,     0.51051,     0.51151,     0.51251,     0.51351,     0.51451,     0.51552,     0.51652,     0.51752,     0.51852,     0.51952,     0.52052,     0.52152,     0.52252,     0.52352,     0.52452,     0.52553,     0.52653,     0.52753,\n",
       "           0.52853,     0.52953,     0.53053,     0.53153,     0.53253,     0.53353,     0.53453,     0.53554,     0.53654,     0.53754,     0.53854,     0.53954,     0.54054,     0.54154,     0.54254,     0.54354,     0.54454,     0.54555,     0.54655,     0.54755,     0.54855,     0.54955,     0.55055,     0.55155,\n",
       "           0.55255,     0.55355,     0.55455,     0.55556,     0.55656,     0.55756,     0.55856,     0.55956,     0.56056,     0.56156,     0.56256,     0.56356,     0.56456,     0.56557,     0.56657,     0.56757,     0.56857,     0.56957,     0.57057,     0.57157,     0.57257,     0.57357,     0.57457,     0.57558,\n",
       "           0.57658,     0.57758,     0.57858,     0.57958,     0.58058,     0.58158,     0.58258,     0.58358,     0.58458,     0.58559,     0.58659,     0.58759,     0.58859,     0.58959,     0.59059,     0.59159,     0.59259,     0.59359,     0.59459,      0.5956,      0.5966,      0.5976,      0.5986,      0.5996,\n",
       "            0.6006,      0.6016,      0.6026,      0.6036,      0.6046,     0.60561,     0.60661,     0.60761,     0.60861,     0.60961,     0.61061,     0.61161,     0.61261,     0.61361,     0.61461,     0.61562,     0.61662,     0.61762,     0.61862,     0.61962,     0.62062,     0.62162,     0.62262,     0.62362,\n",
       "           0.62462,     0.62563,     0.62663,     0.62763,     0.62863,     0.62963,     0.63063,     0.63163,     0.63263,     0.63363,     0.63463,     0.63564,     0.63664,     0.63764,     0.63864,     0.63964,     0.64064,     0.64164,     0.64264,     0.64364,     0.64464,     0.64565,     0.64665,     0.64765,\n",
       "           0.64865,     0.64965,     0.65065,     0.65165,     0.65265,     0.65365,     0.65465,     0.65566,     0.65666,     0.65766,     0.65866,     0.65966,     0.66066,     0.66166,     0.66266,     0.66366,     0.66466,     0.66567,     0.66667,     0.66767,     0.66867,     0.66967,     0.67067,     0.67167,\n",
       "           0.67267,     0.67367,     0.67467,     0.67568,     0.67668,     0.67768,     0.67868,     0.67968,     0.68068,     0.68168,     0.68268,     0.68368,     0.68468,     0.68569,     0.68669,     0.68769,     0.68869,     0.68969,     0.69069,     0.69169,     0.69269,     0.69369,     0.69469,      0.6957,\n",
       "            0.6967,      0.6977,      0.6987,      0.6997,      0.7007,      0.7017,      0.7027,      0.7037,      0.7047,     0.70571,     0.70671,     0.70771,     0.70871,     0.70971,     0.71071,     0.71171,     0.71271,     0.71371,     0.71471,     0.71572,     0.71672,     0.71772,     0.71872,     0.71972,\n",
       "           0.72072,     0.72172,     0.72272,     0.72372,     0.72472,     0.72573,     0.72673,     0.72773,     0.72873,     0.72973,     0.73073,     0.73173,     0.73273,     0.73373,     0.73473,     0.73574,     0.73674,     0.73774,     0.73874,     0.73974,     0.74074,     0.74174,     0.74274,     0.74374,\n",
       "           0.74474,     0.74575,     0.74675,     0.74775,     0.74875,     0.74975,     0.75075,     0.75175,     0.75275,     0.75375,     0.75475,     0.75576,     0.75676,     0.75776,     0.75876,     0.75976,     0.76076,     0.76176,     0.76276,     0.76376,     0.76476,     0.76577,     0.76677,     0.76777,\n",
       "           0.76877,     0.76977,     0.77077,     0.77177,     0.77277,     0.77377,     0.77477,     0.77578,     0.77678,     0.77778,     0.77878,     0.77978,     0.78078,     0.78178,     0.78278,     0.78378,     0.78478,     0.78579,     0.78679,     0.78779,     0.78879,     0.78979,     0.79079,     0.79179,\n",
       "           0.79279,     0.79379,     0.79479,      0.7958,      0.7968,      0.7978,      0.7988,      0.7998,      0.8008,      0.8018,      0.8028,      0.8038,      0.8048,     0.80581,     0.80681,     0.80781,     0.80881,     0.80981,     0.81081,     0.81181,     0.81281,     0.81381,     0.81481,     0.81582,\n",
       "           0.81682,     0.81782,     0.81882,     0.81982,     0.82082,     0.82182,     0.82282,     0.82382,     0.82482,     0.82583,     0.82683,     0.82783,     0.82883,     0.82983,     0.83083,     0.83183,     0.83283,     0.83383,     0.83483,     0.83584,     0.83684,     0.83784,     0.83884,     0.83984,\n",
       "           0.84084,     0.84184,     0.84284,     0.84384,     0.84484,     0.84585,     0.84685,     0.84785,     0.84885,     0.84985,     0.85085,     0.85185,     0.85285,     0.85385,     0.85485,     0.85586,     0.85686,     0.85786,     0.85886,     0.85986,     0.86086,     0.86186,     0.86286,     0.86386,\n",
       "           0.86486,     0.86587,     0.86687,     0.86787,     0.86887,     0.86987,     0.87087,     0.87187,     0.87287,     0.87387,     0.87487,     0.87588,     0.87688,     0.87788,     0.87888,     0.87988,     0.88088,     0.88188,     0.88288,     0.88388,     0.88488,     0.88589,     0.88689,     0.88789,\n",
       "           0.88889,     0.88989,     0.89089,     0.89189,     0.89289,     0.89389,     0.89489,      0.8959,      0.8969,      0.8979,      0.8989,      0.8999,      0.9009,      0.9019,      0.9029,      0.9039,      0.9049,     0.90591,     0.90691,     0.90791,     0.90891,     0.90991,     0.91091,     0.91191,\n",
       "           0.91291,     0.91391,     0.91491,     0.91592,     0.91692,     0.91792,     0.91892,     0.91992,     0.92092,     0.92192,     0.92292,     0.92392,     0.92492,     0.92593,     0.92693,     0.92793,     0.92893,     0.92993,     0.93093,     0.93193,     0.93293,     0.93393,     0.93493,     0.93594,\n",
       "           0.93694,     0.93794,     0.93894,     0.93994,     0.94094,     0.94194,     0.94294,     0.94394,     0.94494,     0.94595,     0.94695,     0.94795,     0.94895,     0.94995,     0.95095,     0.95195,     0.95295,     0.95395,     0.95495,     0.95596,     0.95696,     0.95796,     0.95896,     0.95996,\n",
       "           0.96096,     0.96196,     0.96296,     0.96396,     0.96496,     0.96597,     0.96697,     0.96797,     0.96897,     0.96997,     0.97097,     0.97197,     0.97297,     0.97397,     0.97497,     0.97598,     0.97698,     0.97798,     0.97898,     0.97998,     0.98098,     0.98198,     0.98298,     0.98398,\n",
       "           0.98498,     0.98599,     0.98699,     0.98799,     0.98899,     0.98999,     0.99099,     0.99199,     0.99299,     0.99399,     0.99499,       0.996,       0.997,       0.998,       0.999,           1]), array([[    0.84018,     0.84018,     0.91923,     0.94761,     0.95671,     0.96148,     0.96804,     0.97695,     0.98165,     0.98301,     0.98512,     0.98707,     0.98784,      0.9886,     0.98925,     0.98925,     0.98926,     0.98926,     0.98927,     0.98927,     0.98927,     0.98928,     0.98928,\n",
       "            0.98929,     0.98929,      0.9893,      0.9893,      0.9893,     0.98931,     0.98931,     0.98932,     0.98932,     0.98933,     0.98933,     0.98933,     0.98934,     0.98934,     0.98935,     0.98935,     0.98936,     0.98936,     0.98936,     0.98937,     0.98937,     0.98938,     0.98938,\n",
       "            0.98939,     0.98939,     0.98939,      0.9894,      0.9894,     0.98941,     0.98941,     0.98941,     0.98942,     0.98942,     0.98943,     0.98943,     0.98944,     0.98944,     0.98944,     0.98945,     0.98945,     0.98946,     0.98946,     0.98947,     0.98947,     0.98947,     0.98948,\n",
       "            0.98948,     0.98949,     0.98949,      0.9895,      0.9895,      0.9895,     0.98951,     0.98951,     0.98952,     0.98952,     0.98953,     0.98953,     0.98953,     0.98954,     0.98954,     0.98955,     0.98955,     0.98956,     0.98956,     0.98956,     0.98957,     0.98957,     0.98958,\n",
       "            0.98958,     0.98959,     0.98959,     0.98959,      0.9896,      0.9896,     0.98961,     0.98961,     0.98962,     0.98962,     0.98962,     0.98963,     0.98963,     0.98964,     0.98964,     0.98965,     0.98965,     0.98965,     0.98966,     0.98966,     0.98967,     0.98967,     0.98968,\n",
       "            0.98968,     0.98968,     0.98969,     0.98969,      0.9897,      0.9897,     0.98971,     0.98971,     0.98971,     0.98972,     0.98972,     0.98973,     0.98973,     0.98974,     0.98974,     0.98974,     0.98975,     0.98975,     0.98976,     0.98976,     0.98977,     0.98977,     0.98977,\n",
       "            0.98978,     0.98978,     0.98979,     0.98979,      0.9898,      0.9898,      0.9898,     0.98981,     0.98981,     0.98982,     0.98982,     0.98983,     0.98983,     0.98983,     0.98984,     0.98984,     0.98985,     0.98985,     0.98986,     0.98986,     0.98986,     0.98987,     0.98987,\n",
       "            0.98988,     0.98988,     0.98989,     0.98989,     0.98989,      0.9899,      0.9899,     0.98991,     0.98991,     0.98992,     0.98992,     0.98992,     0.98993,     0.98993,     0.98994,     0.98994,     0.98995,     0.98995,     0.98995,     0.98996,     0.98996,     0.98997,     0.98997,\n",
       "            0.98998,     0.98998,     0.98998,     0.98999,     0.98999,        0.99,        0.99,     0.99001,     0.99001,     0.99001,     0.99002,     0.99002,     0.99003,     0.99003,     0.99004,     0.99004,     0.99004,     0.99005,     0.99005,     0.99006,     0.99006,     0.99007,     0.99007,\n",
       "            0.99007,     0.99008,     0.99008,     0.99009,     0.99009,      0.9901,      0.9901,      0.9901,     0.99011,     0.99011,     0.99012,     0.99012,     0.99013,     0.99013,     0.99013,     0.99014,     0.99014,     0.99015,     0.99015,     0.99015,     0.99016,     0.99016,     0.99017,\n",
       "            0.99017,     0.99018,     0.99018,     0.99018,     0.99019,     0.99019,      0.9902,      0.9902,     0.99021,     0.99021,     0.99021,     0.99022,     0.99022,     0.99023,     0.99023,     0.99024,     0.99024,     0.99024,     0.99025,     0.99025,     0.99026,     0.99026,     0.99027,\n",
       "            0.99027,     0.99027,     0.99028,     0.99028,     0.99029,     0.99029,      0.9903,      0.9903,      0.9903,     0.99031,     0.99031,     0.99032,     0.99032,     0.99033,     0.99033,     0.99033,     0.99034,     0.99034,     0.99035,     0.99035,     0.99036,     0.99036,     0.99036,\n",
       "            0.99037,     0.99037,     0.99038,     0.99038,     0.99039,     0.99039,     0.99039,      0.9904,      0.9904,     0.99041,     0.99041,     0.99042,     0.99042,     0.99042,     0.99043,     0.99043,     0.99044,     0.99044,     0.99045,     0.99045,     0.99045,     0.99046,     0.99046,\n",
       "            0.99047,     0.99047,     0.99048,     0.99048,     0.99048,     0.99049,     0.99049,      0.9905,      0.9905,     0.99051,     0.99051,     0.99051,     0.99052,     0.99052,     0.99053,     0.99053,     0.99054,     0.99054,     0.99054,     0.99055,     0.99055,     0.99056,     0.99056,\n",
       "            0.99057,     0.99057,     0.99057,     0.99058,     0.99058,     0.99059,     0.99059,      0.9906,      0.9906,      0.9906,     0.99061,     0.99061,     0.99062,     0.99062,     0.99062,     0.99063,     0.99063,     0.99064,     0.99064,     0.99065,     0.99065,     0.99065,     0.99066,\n",
       "            0.99066,     0.99067,     0.99067,     0.99068,     0.99068,     0.99068,     0.99069,     0.99069,      0.9907,      0.9907,     0.99071,     0.99071,     0.99071,     0.99072,     0.99072,     0.99073,     0.99073,     0.99074,     0.99074,     0.99074,     0.99075,     0.99075,     0.99076,\n",
       "            0.99076,     0.99077,     0.99077,     0.99077,     0.99078,     0.99078,     0.99079,     0.99079,      0.9908,      0.9908,      0.9908,     0.99081,     0.99081,     0.99082,     0.99082,     0.99083,     0.99083,     0.99083,     0.99084,     0.99084,     0.99085,     0.99085,     0.99086,\n",
       "            0.99086,     0.99086,     0.99087,     0.99087,     0.99088,     0.99088,     0.99089,     0.99089,     0.99089,      0.9909,      0.9909,     0.99091,     0.99091,     0.99092,     0.99092,     0.99092,     0.99093,     0.99093,     0.99094,     0.99094,     0.99095,     0.99095,     0.99095,\n",
       "            0.99096,     0.99096,     0.99097,     0.99097,     0.99097,     0.99098,     0.99098,     0.99099,     0.99099,       0.991,       0.991,       0.991,     0.99101,     0.99101,     0.99102,     0.99102,     0.99103,     0.99103,     0.99103,     0.99104,     0.99104,     0.99105,     0.99105,\n",
       "            0.99106,     0.99106,     0.99106,     0.99107,     0.99107,     0.99108,     0.99108,     0.99109,     0.99109,     0.99109,      0.9911,      0.9911,     0.99111,     0.99111,     0.99112,     0.99112,     0.99112,     0.99113,     0.99113,     0.99114,     0.99114,     0.99115,     0.99115,\n",
       "            0.99115,     0.99116,     0.99116,     0.99117,     0.99117,     0.99118,     0.99118,     0.99118,     0.99119,     0.99119,      0.9912,      0.9912,     0.99121,     0.99121,     0.99121,     0.99122,     0.99122,     0.99123,     0.99123,     0.99124,     0.99124,     0.99124,     0.99125,\n",
       "            0.99125,     0.99126,     0.99126,     0.99127,     0.99127,     0.99127,     0.99128,     0.99128,     0.99129,     0.99129,     0.99129,      0.9913,      0.9913,     0.99131,     0.99131,     0.99132,     0.99132,     0.99132,     0.99133,     0.99133,     0.99134,     0.99134,     0.99135,\n",
       "            0.99135,     0.99135,     0.99136,     0.99136,     0.99137,     0.99137,     0.99138,     0.99138,     0.99138,     0.99139,     0.99139,      0.9914,      0.9914,     0.99141,     0.99141,     0.99141,     0.99142,     0.99142,     0.99143,     0.99143,     0.99144,     0.99144,     0.99144,\n",
       "            0.99145,     0.99145,     0.99146,     0.99146,     0.99147,     0.99147,     0.99147,     0.99148,     0.99148,     0.99149,     0.99149,      0.9915,      0.9915,      0.9915,     0.99151,     0.99151,     0.99152,     0.99152,     0.99153,     0.99153,     0.99153,     0.99154,     0.99154,\n",
       "            0.99155,     0.99155,     0.99155,     0.99156,     0.99156,     0.99157,     0.99157,     0.99158,     0.99158,     0.99158,     0.99159,     0.99159,      0.9916,      0.9916,     0.99161,     0.99161,     0.99161,     0.99162,     0.99162,     0.99163,     0.99163,     0.99164,     0.99164,\n",
       "            0.99164,     0.99165,     0.99165,     0.99166,     0.99166,     0.99167,     0.99167,     0.99167,     0.99168,     0.99168,     0.99169,     0.99169,      0.9917,      0.9917,      0.9917,     0.99171,     0.99171,     0.99172,     0.99172,     0.99173,     0.99173,     0.99173,     0.99174,\n",
       "            0.99174,     0.99175,     0.99175,     0.99176,     0.99176,     0.99176,     0.99177,     0.99177,     0.99178,     0.99178,     0.99179,     0.99179,     0.99179,      0.9918,      0.9918,     0.99181,     0.99181,     0.99181,     0.99182,     0.99182,     0.99183,     0.99183,     0.99184,\n",
       "            0.99184,     0.99184,     0.99185,     0.99185,     0.99186,     0.99186,     0.99187,     0.99187,     0.99187,     0.99188,     0.99188,     0.99189,     0.99189,      0.9919,      0.9919,      0.9919,     0.99191,     0.99191,     0.99193,     0.99195,     0.99196,     0.99198,       0.992,\n",
       "            0.99202,     0.99204,     0.99205,     0.99207,     0.99209,     0.99211,     0.99213,     0.99214,     0.99216,     0.99218,      0.9922,     0.99222,     0.99223,     0.99225,     0.99227,     0.99229,     0.99231,     0.99232,     0.99234,     0.99236,     0.99238,      0.9924,     0.99241,\n",
       "            0.99243,     0.99245,     0.99247,     0.99248,      0.9925,     0.99252,     0.99254,     0.99256,     0.99257,     0.99259,     0.99261,     0.99263,     0.99265,     0.99266,     0.99268,      0.9927,     0.99272,     0.99274,     0.99275,     0.99277,     0.99279,     0.99281,     0.99283,\n",
       "            0.99284,     0.99286,     0.99288,      0.9929,     0.99292,     0.99293,     0.99295,     0.99297,     0.99299,     0.99301,     0.99302,     0.99304,     0.99306,     0.99308,      0.9931,     0.99311,     0.99313,     0.99315,     0.99317,     0.99318,      0.9932,     0.99322,     0.99324,\n",
       "            0.99326,     0.99327,     0.99329,     0.99331,     0.99333,     0.99335,     0.99336,     0.99338,      0.9934,     0.99342,     0.99344,     0.99345,     0.99347,     0.99349,     0.99351,     0.99353,     0.99354,     0.99356,     0.99358,      0.9936,     0.99361,     0.99363,     0.99365,\n",
       "            0.99367,     0.99369,      0.9937,     0.99372,     0.99374,     0.99376,     0.99378,     0.99379,     0.99381,     0.99383,     0.99385,     0.99387,     0.99388,      0.9939,     0.99392,     0.99394,     0.99396,     0.99397,     0.99399,     0.99401,     0.99403,     0.99404,     0.99406,\n",
       "            0.99408,      0.9941,     0.99412,     0.99413,     0.99415,     0.99417,     0.99419,     0.99421,     0.99422,     0.99424,     0.99426,     0.99428,      0.9943,     0.99431,     0.99433,     0.99435,     0.99437,     0.99438,      0.9944,     0.99442,     0.99444,     0.99446,     0.99447,\n",
       "            0.99449,     0.99451,     0.99453,     0.99455,     0.99456,     0.99458,     0.99424,     0.99285,     0.99186,     0.99182,     0.99178,     0.99174,      0.9917,     0.99167,     0.99163,     0.99159,     0.99155,     0.99151,     0.99147,     0.99144,      0.9914,     0.99136,     0.99132,\n",
       "            0.99128,     0.99124,      0.9912,     0.99117,     0.99113,     0.99109,     0.99105,     0.99101,     0.99097,     0.99093,      0.9909,     0.99086,     0.99082,     0.99078,     0.99074,      0.9907,     0.99066,     0.99063,     0.99059,     0.99055,     0.99051,     0.99047,     0.99043,\n",
       "            0.99039,     0.99036,     0.99032,     0.99028,     0.99024,      0.9902,     0.99016,     0.99012,     0.99009,     0.99005,     0.99001,     0.98997,     0.98993,     0.98989,     0.98985,     0.98982,     0.98978,     0.98974,      0.9897,     0.98966,     0.98962,     0.98958,     0.98954,\n",
       "            0.98951,     0.98947,     0.98943,     0.98939,     0.98935,     0.98931,     0.98927,     0.98924,      0.9892,     0.98916,     0.98908,     0.98891,     0.98873,     0.98856,     0.98838,      0.9882,     0.98803,     0.98785,     0.98768,      0.9875,     0.98733,     0.98715,     0.98697,\n",
       "             0.9868,     0.98662,     0.98645,     0.98621,     0.98594,     0.98567,      0.9854,     0.98513,     0.98486,     0.98459,     0.98432,     0.98405,     0.98378,     0.98478,     0.98328,     0.98266,     0.98204,     0.98143,     0.98081,     0.97496,     0.97283,     0.97164,     0.97081,\n",
       "            0.96999,      0.9688,     0.96635,     0.96307,     0.96211,     0.96115,     0.95709,      0.9553,     0.95069,     0.94826,     0.94552,     0.94397,     0.94179,     0.93788,     0.93377,     0.92325,     0.92101,     0.91963,     0.91824,     0.91734,     0.91649,     0.91563,     0.91312,\n",
       "            0.91039,     0.90875,     0.90244,     0.89426,     0.89069,      0.8844,        0.87,     0.85378,     0.84011,     0.83343,     0.80331,     0.77832,     0.76975,     0.75466,     0.73345,     0.71393,      0.6721,     0.65569,     0.63459,     0.61594,     0.58866,     0.55634,     0.51352,\n",
       "            0.48195,     0.45444,     0.42343,      0.3766,      0.3437,     0.31552,     0.26292,     0.25069,     0.24159,       0.216,     0.18784,     0.17073,     0.14173,     0.11645,    0.090198,    0.083029,    0.061126,    0.052504,    0.048586,    0.044652,    0.031262,    0.023126,    0.015268,\n",
       "                  0,           0,           0,           0,           0,           0,           0,           0,           0,           0,           0,           0,           0,           0,           0,           0,           0,           0,           0,           0,           0,           0,           0,\n",
       "                  0,           0,           0,           0,           0,           0,           0,           0,           0,           0,           0]]), 'Confidence', 'F1'], [array([          0,    0.001001,    0.002002,    0.003003,    0.004004,    0.005005,    0.006006,    0.007007,    0.008008,    0.009009,     0.01001,    0.011011,    0.012012,    0.013013,    0.014014,    0.015015,    0.016016,    0.017017,    0.018018,    0.019019,     0.02002,    0.021021,    0.022022,    0.023023,\n",
       "          0.024024,    0.025025,    0.026026,    0.027027,    0.028028,    0.029029,     0.03003,    0.031031,    0.032032,    0.033033,    0.034034,    0.035035,    0.036036,    0.037037,    0.038038,    0.039039,     0.04004,    0.041041,    0.042042,    0.043043,    0.044044,    0.045045,    0.046046,    0.047047,\n",
       "          0.048048,    0.049049,     0.05005,    0.051051,    0.052052,    0.053053,    0.054054,    0.055055,    0.056056,    0.057057,    0.058058,    0.059059,     0.06006,    0.061061,    0.062062,    0.063063,    0.064064,    0.065065,    0.066066,    0.067067,    0.068068,    0.069069,     0.07007,    0.071071,\n",
       "          0.072072,    0.073073,    0.074074,    0.075075,    0.076076,    0.077077,    0.078078,    0.079079,     0.08008,    0.081081,    0.082082,    0.083083,    0.084084,    0.085085,    0.086086,    0.087087,    0.088088,    0.089089,     0.09009,    0.091091,    0.092092,    0.093093,    0.094094,    0.095095,\n",
       "          0.096096,    0.097097,    0.098098,    0.099099,      0.1001,      0.1011,      0.1021,      0.1031,      0.1041,     0.10511,     0.10611,     0.10711,     0.10811,     0.10911,     0.11011,     0.11111,     0.11211,     0.11311,     0.11411,     0.11512,     0.11612,     0.11712,     0.11812,     0.11912,\n",
       "           0.12012,     0.12112,     0.12212,     0.12312,     0.12412,     0.12513,     0.12613,     0.12713,     0.12813,     0.12913,     0.13013,     0.13113,     0.13213,     0.13313,     0.13413,     0.13514,     0.13614,     0.13714,     0.13814,     0.13914,     0.14014,     0.14114,     0.14214,     0.14314,\n",
       "           0.14414,     0.14515,     0.14615,     0.14715,     0.14815,     0.14915,     0.15015,     0.15115,     0.15215,     0.15315,     0.15415,     0.15516,     0.15616,     0.15716,     0.15816,     0.15916,     0.16016,     0.16116,     0.16216,     0.16316,     0.16416,     0.16517,     0.16617,     0.16717,\n",
       "           0.16817,     0.16917,     0.17017,     0.17117,     0.17217,     0.17317,     0.17417,     0.17518,     0.17618,     0.17718,     0.17818,     0.17918,     0.18018,     0.18118,     0.18218,     0.18318,     0.18418,     0.18519,     0.18619,     0.18719,     0.18819,     0.18919,     0.19019,     0.19119,\n",
       "           0.19219,     0.19319,     0.19419,      0.1952,      0.1962,      0.1972,      0.1982,      0.1992,      0.2002,      0.2012,      0.2022,      0.2032,      0.2042,     0.20521,     0.20621,     0.20721,     0.20821,     0.20921,     0.21021,     0.21121,     0.21221,     0.21321,     0.21421,     0.21522,\n",
       "           0.21622,     0.21722,     0.21822,     0.21922,     0.22022,     0.22122,     0.22222,     0.22322,     0.22422,     0.22523,     0.22623,     0.22723,     0.22823,     0.22923,     0.23023,     0.23123,     0.23223,     0.23323,     0.23423,     0.23524,     0.23624,     0.23724,     0.23824,     0.23924,\n",
       "           0.24024,     0.24124,     0.24224,     0.24324,     0.24424,     0.24525,     0.24625,     0.24725,     0.24825,     0.24925,     0.25025,     0.25125,     0.25225,     0.25325,     0.25425,     0.25526,     0.25626,     0.25726,     0.25826,     0.25926,     0.26026,     0.26126,     0.26226,     0.26326,\n",
       "           0.26426,     0.26527,     0.26627,     0.26727,     0.26827,     0.26927,     0.27027,     0.27127,     0.27227,     0.27327,     0.27427,     0.27528,     0.27628,     0.27728,     0.27828,     0.27928,     0.28028,     0.28128,     0.28228,     0.28328,     0.28428,     0.28529,     0.28629,     0.28729,\n",
       "           0.28829,     0.28929,     0.29029,     0.29129,     0.29229,     0.29329,     0.29429,      0.2953,      0.2963,      0.2973,      0.2983,      0.2993,      0.3003,      0.3013,      0.3023,      0.3033,      0.3043,     0.30531,     0.30631,     0.30731,     0.30831,     0.30931,     0.31031,     0.31131,\n",
       "           0.31231,     0.31331,     0.31431,     0.31532,     0.31632,     0.31732,     0.31832,     0.31932,     0.32032,     0.32132,     0.32232,     0.32332,     0.32432,     0.32533,     0.32633,     0.32733,     0.32833,     0.32933,     0.33033,     0.33133,     0.33233,     0.33333,     0.33433,     0.33534,\n",
       "           0.33634,     0.33734,     0.33834,     0.33934,     0.34034,     0.34134,     0.34234,     0.34334,     0.34434,     0.34535,     0.34635,     0.34735,     0.34835,     0.34935,     0.35035,     0.35135,     0.35235,     0.35335,     0.35435,     0.35536,     0.35636,     0.35736,     0.35836,     0.35936,\n",
       "           0.36036,     0.36136,     0.36236,     0.36336,     0.36436,     0.36537,     0.36637,     0.36737,     0.36837,     0.36937,     0.37037,     0.37137,     0.37237,     0.37337,     0.37437,     0.37538,     0.37638,     0.37738,     0.37838,     0.37938,     0.38038,     0.38138,     0.38238,     0.38338,\n",
       "           0.38438,     0.38539,     0.38639,     0.38739,     0.38839,     0.38939,     0.39039,     0.39139,     0.39239,     0.39339,     0.39439,      0.3954,      0.3964,      0.3974,      0.3984,      0.3994,      0.4004,      0.4014,      0.4024,      0.4034,      0.4044,     0.40541,     0.40641,     0.40741,\n",
       "           0.40841,     0.40941,     0.41041,     0.41141,     0.41241,     0.41341,     0.41441,     0.41542,     0.41642,     0.41742,     0.41842,     0.41942,     0.42042,     0.42142,     0.42242,     0.42342,     0.42442,     0.42543,     0.42643,     0.42743,     0.42843,     0.42943,     0.43043,     0.43143,\n",
       "           0.43243,     0.43343,     0.43443,     0.43544,     0.43644,     0.43744,     0.43844,     0.43944,     0.44044,     0.44144,     0.44244,     0.44344,     0.44444,     0.44545,     0.44645,     0.44745,     0.44845,     0.44945,     0.45045,     0.45145,     0.45245,     0.45345,     0.45445,     0.45546,\n",
       "           0.45646,     0.45746,     0.45846,     0.45946,     0.46046,     0.46146,     0.46246,     0.46346,     0.46446,     0.46547,     0.46647,     0.46747,     0.46847,     0.46947,     0.47047,     0.47147,     0.47247,     0.47347,     0.47447,     0.47548,     0.47648,     0.47748,     0.47848,     0.47948,\n",
       "           0.48048,     0.48148,     0.48248,     0.48348,     0.48448,     0.48549,     0.48649,     0.48749,     0.48849,     0.48949,     0.49049,     0.49149,     0.49249,     0.49349,     0.49449,      0.4955,      0.4965,      0.4975,      0.4985,      0.4995,      0.5005,      0.5015,      0.5025,      0.5035,\n",
       "            0.5045,     0.50551,     0.50651,     0.50751,     0.50851,     0.50951,     0.51051,     0.51151,     0.51251,     0.51351,     0.51451,     0.51552,     0.51652,     0.51752,     0.51852,     0.51952,     0.52052,     0.52152,     0.52252,     0.52352,     0.52452,     0.52553,     0.52653,     0.52753,\n",
       "           0.52853,     0.52953,     0.53053,     0.53153,     0.53253,     0.53353,     0.53453,     0.53554,     0.53654,     0.53754,     0.53854,     0.53954,     0.54054,     0.54154,     0.54254,     0.54354,     0.54454,     0.54555,     0.54655,     0.54755,     0.54855,     0.54955,     0.55055,     0.55155,\n",
       "           0.55255,     0.55355,     0.55455,     0.55556,     0.55656,     0.55756,     0.55856,     0.55956,     0.56056,     0.56156,     0.56256,     0.56356,     0.56456,     0.56557,     0.56657,     0.56757,     0.56857,     0.56957,     0.57057,     0.57157,     0.57257,     0.57357,     0.57457,     0.57558,\n",
       "           0.57658,     0.57758,     0.57858,     0.57958,     0.58058,     0.58158,     0.58258,     0.58358,     0.58458,     0.58559,     0.58659,     0.58759,     0.58859,     0.58959,     0.59059,     0.59159,     0.59259,     0.59359,     0.59459,      0.5956,      0.5966,      0.5976,      0.5986,      0.5996,\n",
       "            0.6006,      0.6016,      0.6026,      0.6036,      0.6046,     0.60561,     0.60661,     0.60761,     0.60861,     0.60961,     0.61061,     0.61161,     0.61261,     0.61361,     0.61461,     0.61562,     0.61662,     0.61762,     0.61862,     0.61962,     0.62062,     0.62162,     0.62262,     0.62362,\n",
       "           0.62462,     0.62563,     0.62663,     0.62763,     0.62863,     0.62963,     0.63063,     0.63163,     0.63263,     0.63363,     0.63463,     0.63564,     0.63664,     0.63764,     0.63864,     0.63964,     0.64064,     0.64164,     0.64264,     0.64364,     0.64464,     0.64565,     0.64665,     0.64765,\n",
       "           0.64865,     0.64965,     0.65065,     0.65165,     0.65265,     0.65365,     0.65465,     0.65566,     0.65666,     0.65766,     0.65866,     0.65966,     0.66066,     0.66166,     0.66266,     0.66366,     0.66466,     0.66567,     0.66667,     0.66767,     0.66867,     0.66967,     0.67067,     0.67167,\n",
       "           0.67267,     0.67367,     0.67467,     0.67568,     0.67668,     0.67768,     0.67868,     0.67968,     0.68068,     0.68168,     0.68268,     0.68368,     0.68468,     0.68569,     0.68669,     0.68769,     0.68869,     0.68969,     0.69069,     0.69169,     0.69269,     0.69369,     0.69469,      0.6957,\n",
       "            0.6967,      0.6977,      0.6987,      0.6997,      0.7007,      0.7017,      0.7027,      0.7037,      0.7047,     0.70571,     0.70671,     0.70771,     0.70871,     0.70971,     0.71071,     0.71171,     0.71271,     0.71371,     0.71471,     0.71572,     0.71672,     0.71772,     0.71872,     0.71972,\n",
       "           0.72072,     0.72172,     0.72272,     0.72372,     0.72472,     0.72573,     0.72673,     0.72773,     0.72873,     0.72973,     0.73073,     0.73173,     0.73273,     0.73373,     0.73473,     0.73574,     0.73674,     0.73774,     0.73874,     0.73974,     0.74074,     0.74174,     0.74274,     0.74374,\n",
       "           0.74474,     0.74575,     0.74675,     0.74775,     0.74875,     0.74975,     0.75075,     0.75175,     0.75275,     0.75375,     0.75475,     0.75576,     0.75676,     0.75776,     0.75876,     0.75976,     0.76076,     0.76176,     0.76276,     0.76376,     0.76476,     0.76577,     0.76677,     0.76777,\n",
       "           0.76877,     0.76977,     0.77077,     0.77177,     0.77277,     0.77377,     0.77477,     0.77578,     0.77678,     0.77778,     0.77878,     0.77978,     0.78078,     0.78178,     0.78278,     0.78378,     0.78478,     0.78579,     0.78679,     0.78779,     0.78879,     0.78979,     0.79079,     0.79179,\n",
       "           0.79279,     0.79379,     0.79479,      0.7958,      0.7968,      0.7978,      0.7988,      0.7998,      0.8008,      0.8018,      0.8028,      0.8038,      0.8048,     0.80581,     0.80681,     0.80781,     0.80881,     0.80981,     0.81081,     0.81181,     0.81281,     0.81381,     0.81481,     0.81582,\n",
       "           0.81682,     0.81782,     0.81882,     0.81982,     0.82082,     0.82182,     0.82282,     0.82382,     0.82482,     0.82583,     0.82683,     0.82783,     0.82883,     0.82983,     0.83083,     0.83183,     0.83283,     0.83383,     0.83483,     0.83584,     0.83684,     0.83784,     0.83884,     0.83984,\n",
       "           0.84084,     0.84184,     0.84284,     0.84384,     0.84484,     0.84585,     0.84685,     0.84785,     0.84885,     0.84985,     0.85085,     0.85185,     0.85285,     0.85385,     0.85485,     0.85586,     0.85686,     0.85786,     0.85886,     0.85986,     0.86086,     0.86186,     0.86286,     0.86386,\n",
       "           0.86486,     0.86587,     0.86687,     0.86787,     0.86887,     0.86987,     0.87087,     0.87187,     0.87287,     0.87387,     0.87487,     0.87588,     0.87688,     0.87788,     0.87888,     0.87988,     0.88088,     0.88188,     0.88288,     0.88388,     0.88488,     0.88589,     0.88689,     0.88789,\n",
       "           0.88889,     0.88989,     0.89089,     0.89189,     0.89289,     0.89389,     0.89489,      0.8959,      0.8969,      0.8979,      0.8989,      0.8999,      0.9009,      0.9019,      0.9029,      0.9039,      0.9049,     0.90591,     0.90691,     0.90791,     0.90891,     0.90991,     0.91091,     0.91191,\n",
       "           0.91291,     0.91391,     0.91491,     0.91592,     0.91692,     0.91792,     0.91892,     0.91992,     0.92092,     0.92192,     0.92292,     0.92392,     0.92492,     0.92593,     0.92693,     0.92793,     0.92893,     0.92993,     0.93093,     0.93193,     0.93293,     0.93393,     0.93493,     0.93594,\n",
       "           0.93694,     0.93794,     0.93894,     0.93994,     0.94094,     0.94194,     0.94294,     0.94394,     0.94494,     0.94595,     0.94695,     0.94795,     0.94895,     0.94995,     0.95095,     0.95195,     0.95295,     0.95395,     0.95495,     0.95596,     0.95696,     0.95796,     0.95896,     0.95996,\n",
       "           0.96096,     0.96196,     0.96296,     0.96396,     0.96496,     0.96597,     0.96697,     0.96797,     0.96897,     0.96997,     0.97097,     0.97197,     0.97297,     0.97397,     0.97497,     0.97598,     0.97698,     0.97798,     0.97898,     0.97998,     0.98098,     0.98198,     0.98298,     0.98398,\n",
       "           0.98498,     0.98599,     0.98699,     0.98799,     0.98899,     0.98999,     0.99099,     0.99199,     0.99299,     0.99399,     0.99499,       0.996,       0.997,       0.998,       0.999,           1]), array([[    0.72727,     0.72727,     0.85449,     0.90486,     0.92161,      0.9305,     0.94288,     0.95993,     0.96903,     0.97169,     0.97582,     0.97965,     0.98117,     0.98269,     0.98396,     0.98397,     0.98398,     0.98398,     0.98399,       0.984,     0.98401,     0.98402,     0.98403,\n",
       "            0.98403,     0.98404,     0.98405,     0.98406,     0.98407,     0.98408,     0.98409,     0.98409,      0.9841,     0.98411,     0.98412,     0.98413,     0.98414,     0.98414,     0.98415,     0.98416,     0.98417,     0.98418,     0.98419,      0.9842,      0.9842,     0.98421,     0.98422,\n",
       "            0.98423,     0.98424,     0.98425,     0.98426,     0.98426,     0.98427,     0.98428,     0.98429,      0.9843,     0.98431,     0.98431,     0.98432,     0.98433,     0.98434,     0.98435,     0.98436,     0.98437,     0.98437,     0.98438,     0.98439,      0.9844,     0.98441,     0.98442,\n",
       "            0.98442,     0.98443,     0.98444,     0.98445,     0.98446,     0.98447,     0.98448,     0.98448,     0.98449,      0.9845,     0.98451,     0.98452,     0.98453,     0.98453,     0.98454,     0.98455,     0.98456,     0.98457,     0.98458,     0.98459,     0.98459,      0.9846,     0.98461,\n",
       "            0.98462,     0.98463,     0.98464,     0.98464,     0.98465,     0.98466,     0.98467,     0.98468,     0.98469,      0.9847,      0.9847,     0.98471,     0.98472,     0.98473,     0.98474,     0.98475,     0.98476,     0.98476,     0.98477,     0.98478,     0.98479,      0.9848,     0.98481,\n",
       "            0.98481,     0.98482,     0.98483,     0.98484,     0.98485,     0.98486,     0.98487,     0.98487,     0.98488,     0.98489,      0.9849,     0.98491,     0.98492,     0.98492,     0.98493,     0.98494,     0.98495,     0.98496,     0.98497,     0.98498,     0.98498,     0.98499,       0.985,\n",
       "            0.98501,     0.98502,     0.98503,     0.98503,     0.98504,     0.98505,     0.98506,     0.98507,     0.98508,     0.98509,     0.98509,      0.9851,     0.98511,     0.98512,     0.98513,     0.98514,     0.98514,     0.98515,     0.98516,     0.98517,     0.98518,     0.98519,      0.9852,\n",
       "             0.9852,     0.98521,     0.98522,     0.98523,     0.98524,     0.98525,     0.98525,     0.98526,     0.98527,     0.98528,     0.98529,      0.9853,     0.98531,     0.98531,     0.98532,     0.98533,     0.98534,     0.98535,     0.98536,     0.98537,     0.98537,     0.98538,     0.98539,\n",
       "             0.9854,     0.98541,     0.98542,     0.98542,     0.98543,     0.98544,     0.98545,     0.98546,     0.98547,     0.98548,     0.98548,     0.98549,      0.9855,     0.98551,     0.98552,     0.98553,     0.98553,     0.98554,     0.98555,     0.98556,     0.98557,     0.98558,     0.98559,\n",
       "            0.98559,      0.9856,     0.98561,     0.98562,     0.98563,     0.98564,     0.98564,     0.98565,     0.98566,     0.98567,     0.98568,     0.98569,      0.9857,      0.9857,     0.98571,     0.98572,     0.98573,     0.98574,     0.98575,     0.98575,     0.98576,     0.98577,     0.98578,\n",
       "            0.98579,      0.9858,     0.98581,     0.98581,     0.98582,     0.98583,     0.98584,     0.98585,     0.98586,     0.98586,     0.98587,     0.98588,     0.98589,      0.9859,     0.98591,     0.98592,     0.98592,     0.98593,     0.98594,     0.98595,     0.98596,     0.98597,     0.98598,\n",
       "            0.98598,     0.98599,       0.986,     0.98601,     0.98602,     0.98603,     0.98603,     0.98604,     0.98605,     0.98606,     0.98607,     0.98608,     0.98609,     0.98609,      0.9861,     0.98611,     0.98612,     0.98613,     0.98614,     0.98614,     0.98615,     0.98616,     0.98617,\n",
       "            0.98618,     0.98619,      0.9862,      0.9862,     0.98621,     0.98622,     0.98623,     0.98624,     0.98625,     0.98625,     0.98626,     0.98627,     0.98628,     0.98629,      0.9863,     0.98631,     0.98631,     0.98632,     0.98633,     0.98634,     0.98635,     0.98636,     0.98636,\n",
       "            0.98637,     0.98638,     0.98639,      0.9864,     0.98641,     0.98642,     0.98642,     0.98643,     0.98644,     0.98645,     0.98646,     0.98647,     0.98647,     0.98648,     0.98649,      0.9865,     0.98651,     0.98652,     0.98653,     0.98653,     0.98654,     0.98655,     0.98656,\n",
       "            0.98657,     0.98658,     0.98659,     0.98659,      0.9866,     0.98661,     0.98662,     0.98663,     0.98664,     0.98664,     0.98665,     0.98666,     0.98667,     0.98668,     0.98669,      0.9867,      0.9867,     0.98671,     0.98672,     0.98673,     0.98674,     0.98675,     0.98675,\n",
       "            0.98676,     0.98677,     0.98678,     0.98679,      0.9868,     0.98681,     0.98681,     0.98682,     0.98683,     0.98684,     0.98685,     0.98686,     0.98686,     0.98687,     0.98688,     0.98689,      0.9869,     0.98691,     0.98692,     0.98692,     0.98693,     0.98694,     0.98695,\n",
       "            0.98696,     0.98697,     0.98697,     0.98698,     0.98699,       0.987,     0.98701,     0.98702,     0.98703,     0.98703,     0.98704,     0.98705,     0.98706,     0.98707,     0.98708,     0.98709,     0.98709,      0.9871,     0.98711,     0.98712,     0.98713,     0.98714,     0.98714,\n",
       "            0.98715,     0.98716,     0.98717,     0.98718,     0.98719,      0.9872,      0.9872,     0.98721,     0.98722,     0.98723,     0.98724,     0.98725,     0.98725,     0.98726,     0.98727,     0.98728,     0.98729,      0.9873,     0.98731,     0.98731,     0.98732,     0.98733,     0.98734,\n",
       "            0.98735,     0.98736,     0.98736,     0.98737,     0.98738,     0.98739,      0.9874,     0.98741,     0.98742,     0.98742,     0.98743,     0.98744,     0.98745,     0.98746,     0.98747,     0.98747,     0.98748,     0.98749,      0.9875,     0.98751,     0.98752,     0.98753,     0.98753,\n",
       "            0.98754,     0.98755,     0.98756,     0.98757,     0.98758,     0.98758,     0.98759,      0.9876,     0.98761,     0.98762,     0.98763,     0.98764,     0.98764,     0.98765,     0.98766,     0.98767,     0.98768,     0.98769,      0.9877,      0.9877,     0.98771,     0.98772,     0.98773,\n",
       "            0.98774,     0.98775,     0.98775,     0.98776,     0.98777,     0.98778,     0.98779,      0.9878,     0.98781,     0.98781,     0.98782,     0.98783,     0.98784,     0.98785,     0.98786,     0.98786,     0.98787,     0.98788,     0.98789,      0.9879,     0.98791,     0.98792,     0.98792,\n",
       "            0.98793,     0.98794,     0.98795,     0.98796,     0.98797,     0.98797,     0.98798,     0.98799,       0.988,     0.98801,     0.98802,     0.98803,     0.98803,     0.98804,     0.98805,     0.98806,     0.98807,     0.98808,     0.98808,     0.98809,      0.9881,     0.98811,     0.98812,\n",
       "            0.98813,     0.98814,     0.98814,     0.98815,     0.98816,     0.98817,     0.98818,     0.98819,     0.98819,      0.9882,     0.98821,     0.98822,     0.98823,     0.98824,     0.98825,     0.98825,     0.98826,     0.98827,     0.98828,     0.98829,      0.9883,     0.98831,     0.98831,\n",
       "            0.98832,     0.98833,     0.98834,     0.98835,     0.98836,     0.98836,     0.98837,     0.98838,     0.98839,      0.9884,     0.98841,     0.98842,     0.98842,     0.98843,     0.98844,     0.98845,     0.98846,     0.98847,     0.98847,     0.98848,     0.98849,      0.9885,     0.98851,\n",
       "            0.98852,     0.98853,     0.98853,     0.98854,     0.98855,     0.98856,     0.98857,     0.98858,     0.98858,     0.98859,      0.9886,     0.98861,     0.98862,     0.98863,     0.98864,     0.98864,     0.98865,     0.98866,     0.98867,     0.98868,     0.98869,     0.98869,      0.9887,\n",
       "            0.98871,     0.98872,     0.98873,     0.98874,     0.98875,     0.98875,     0.98876,     0.98877,     0.98878,     0.98879,      0.9888,      0.9888,     0.98881,     0.98882,     0.98883,     0.98884,     0.98885,     0.98886,     0.98886,     0.98887,     0.98888,     0.98889,      0.9889,\n",
       "            0.98891,     0.98892,     0.98892,     0.98893,     0.98894,     0.98895,     0.98896,     0.98897,     0.98897,     0.98898,     0.98899,       0.989,     0.98901,     0.98902,     0.98903,     0.98903,     0.98904,     0.98905,     0.98906,     0.98907,     0.98908,     0.98908,     0.98909,\n",
       "             0.9891,     0.98911,     0.98912,     0.98913,     0.98914,     0.98914,     0.98915,     0.98916,     0.98917,     0.98918,     0.98919,     0.98919,      0.9892,     0.98921,     0.98922,     0.98923,     0.98924,     0.98925,     0.98928,     0.98931,     0.98935,     0.98938,     0.98942,\n",
       "            0.98945,     0.98949,     0.98953,     0.98956,      0.9896,     0.98963,     0.98967,      0.9897,     0.98974,     0.98978,     0.98981,     0.98985,     0.98988,     0.98992,     0.98996,     0.98999,     0.99003,     0.99006,      0.9901,     0.99013,     0.99017,     0.99021,     0.99024,\n",
       "            0.99028,     0.99031,     0.99035,     0.99038,     0.99042,     0.99046,     0.99049,     0.99053,     0.99056,      0.9906,     0.99063,     0.99067,     0.99071,     0.99074,     0.99078,     0.99081,     0.99085,     0.99088,     0.99092,     0.99096,     0.99099,     0.99103,     0.99106,\n",
       "             0.9911,     0.99114,     0.99117,     0.99121,     0.99124,     0.99128,     0.99131,     0.99135,     0.99139,     0.99142,     0.99146,     0.99149,     0.99153,     0.99156,      0.9916,     0.99164,     0.99167,     0.99171,     0.99174,     0.99178,     0.99181,     0.99185,     0.99189,\n",
       "            0.99192,     0.99196,     0.99199,     0.99203,     0.99206,      0.9921,     0.99214,     0.99217,     0.99221,     0.99224,     0.99228,     0.99232,     0.99235,     0.99239,     0.99242,     0.99246,     0.99249,     0.99253,     0.99257,      0.9926,     0.99264,     0.99267,     0.99271,\n",
       "            0.99274,     0.99278,     0.99282,     0.99285,     0.99289,     0.99292,     0.99296,     0.99299,     0.99303,     0.99307,      0.9931,     0.99314,     0.99317,     0.99321,     0.99324,     0.99328,     0.99332,     0.99335,     0.99339,     0.99342,     0.99346,      0.9935,     0.99353,\n",
       "            0.99357,      0.9936,     0.99364,     0.99367,     0.99371,     0.99375,     0.99378,     0.99382,     0.99385,     0.99389,     0.99392,     0.99396,       0.994,     0.99403,     0.99407,      0.9941,     0.99414,     0.99417,     0.99421,     0.99425,     0.99428,     0.99432,     0.99435,\n",
       "            0.99439,     0.99442,     0.99446,      0.9945,     0.99453,     0.99457,     0.99459,     0.99458,     0.99457,     0.99456,     0.99456,     0.99456,     0.99456,     0.99456,     0.99456,     0.99456,     0.99456,     0.99456,     0.99456,     0.99456,     0.99456,     0.99456,     0.99456,\n",
       "            0.99456,     0.99456,     0.99456,     0.99456,     0.99456,     0.99456,     0.99456,     0.99456,     0.99456,     0.99456,     0.99455,     0.99455,     0.99455,     0.99455,     0.99455,     0.99455,     0.99455,     0.99455,     0.99455,     0.99455,     0.99455,     0.99455,     0.99455,\n",
       "            0.99455,     0.99455,     0.99455,     0.99455,     0.99455,     0.99455,     0.99455,     0.99455,     0.99455,     0.99455,     0.99455,     0.99454,     0.99454,     0.99454,     0.99454,     0.99454,     0.99454,     0.99454,     0.99454,     0.99454,     0.99454,     0.99454,     0.99454,\n",
       "            0.99454,     0.99454,     0.99454,     0.99454,     0.99454,     0.99454,     0.99454,     0.99454,     0.99454,     0.99454,     0.99453,     0.99453,     0.99453,     0.99453,     0.99453,     0.99453,     0.99452,     0.99452,     0.99452,     0.99452,     0.99452,     0.99451,     0.99451,\n",
       "            0.99451,     0.99451,     0.99451,      0.9945,      0.9945,      0.9945,     0.99449,     0.99449,     0.99449,     0.99449,     0.99448,     0.99448,     0.99448,     0.99688,           1,           1,           1,           1,           1,           1,           1,           1,           1,\n",
       "                  1,           1,           1,           1,           1,           1,           1,           1,           1,           1,           1,           1,           1,           1,           1,           1,           1,           1,           1,           1,           1,           1,           1,\n",
       "                  1,           1,           1,           1,           1,           1,           1,           1,           1,           1,           1,           1,           1,           1,           1,           1,           1,           1,           1,           1,           1,           1,           1,\n",
       "                  1,           1,           1,           1,           1,           1,           1,           1,           1,           1,           1,           1,           1,           1,           1,           1,           1,           1,           1,           1,           1,           1,           1,\n",
       "                  1,           1,           1,           1,           1,           1,           1,           1,           1,           1,           1,           1,           1,           1,           1,           1,           1,           1,           1,           1,           1,           1,           1,\n",
       "                  1,           1,           1,           1,           1,           1,           1,           1,           1,           1,           1]]), 'Confidence', 'Precision'], [array([          0,    0.001001,    0.002002,    0.003003,    0.004004,    0.005005,    0.006006,    0.007007,    0.008008,    0.009009,     0.01001,    0.011011,    0.012012,    0.013013,    0.014014,    0.015015,    0.016016,    0.017017,    0.018018,    0.019019,     0.02002,    0.021021,    0.022022,    0.023023,\n",
       "          0.024024,    0.025025,    0.026026,    0.027027,    0.028028,    0.029029,     0.03003,    0.031031,    0.032032,    0.033033,    0.034034,    0.035035,    0.036036,    0.037037,    0.038038,    0.039039,     0.04004,    0.041041,    0.042042,    0.043043,    0.044044,    0.045045,    0.046046,    0.047047,\n",
       "          0.048048,    0.049049,     0.05005,    0.051051,    0.052052,    0.053053,    0.054054,    0.055055,    0.056056,    0.057057,    0.058058,    0.059059,     0.06006,    0.061061,    0.062062,    0.063063,    0.064064,    0.065065,    0.066066,    0.067067,    0.068068,    0.069069,     0.07007,    0.071071,\n",
       "          0.072072,    0.073073,    0.074074,    0.075075,    0.076076,    0.077077,    0.078078,    0.079079,     0.08008,    0.081081,    0.082082,    0.083083,    0.084084,    0.085085,    0.086086,    0.087087,    0.088088,    0.089089,     0.09009,    0.091091,    0.092092,    0.093093,    0.094094,    0.095095,\n",
       "          0.096096,    0.097097,    0.098098,    0.099099,      0.1001,      0.1011,      0.1021,      0.1031,      0.1041,     0.10511,     0.10611,     0.10711,     0.10811,     0.10911,     0.11011,     0.11111,     0.11211,     0.11311,     0.11411,     0.11512,     0.11612,     0.11712,     0.11812,     0.11912,\n",
       "           0.12012,     0.12112,     0.12212,     0.12312,     0.12412,     0.12513,     0.12613,     0.12713,     0.12813,     0.12913,     0.13013,     0.13113,     0.13213,     0.13313,     0.13413,     0.13514,     0.13614,     0.13714,     0.13814,     0.13914,     0.14014,     0.14114,     0.14214,     0.14314,\n",
       "           0.14414,     0.14515,     0.14615,     0.14715,     0.14815,     0.14915,     0.15015,     0.15115,     0.15215,     0.15315,     0.15415,     0.15516,     0.15616,     0.15716,     0.15816,     0.15916,     0.16016,     0.16116,     0.16216,     0.16316,     0.16416,     0.16517,     0.16617,     0.16717,\n",
       "           0.16817,     0.16917,     0.17017,     0.17117,     0.17217,     0.17317,     0.17417,     0.17518,     0.17618,     0.17718,     0.17818,     0.17918,     0.18018,     0.18118,     0.18218,     0.18318,     0.18418,     0.18519,     0.18619,     0.18719,     0.18819,     0.18919,     0.19019,     0.19119,\n",
       "           0.19219,     0.19319,     0.19419,      0.1952,      0.1962,      0.1972,      0.1982,      0.1992,      0.2002,      0.2012,      0.2022,      0.2032,      0.2042,     0.20521,     0.20621,     0.20721,     0.20821,     0.20921,     0.21021,     0.21121,     0.21221,     0.21321,     0.21421,     0.21522,\n",
       "           0.21622,     0.21722,     0.21822,     0.21922,     0.22022,     0.22122,     0.22222,     0.22322,     0.22422,     0.22523,     0.22623,     0.22723,     0.22823,     0.22923,     0.23023,     0.23123,     0.23223,     0.23323,     0.23423,     0.23524,     0.23624,     0.23724,     0.23824,     0.23924,\n",
       "           0.24024,     0.24124,     0.24224,     0.24324,     0.24424,     0.24525,     0.24625,     0.24725,     0.24825,     0.24925,     0.25025,     0.25125,     0.25225,     0.25325,     0.25425,     0.25526,     0.25626,     0.25726,     0.25826,     0.25926,     0.26026,     0.26126,     0.26226,     0.26326,\n",
       "           0.26426,     0.26527,     0.26627,     0.26727,     0.26827,     0.26927,     0.27027,     0.27127,     0.27227,     0.27327,     0.27427,     0.27528,     0.27628,     0.27728,     0.27828,     0.27928,     0.28028,     0.28128,     0.28228,     0.28328,     0.28428,     0.28529,     0.28629,     0.28729,\n",
       "           0.28829,     0.28929,     0.29029,     0.29129,     0.29229,     0.29329,     0.29429,      0.2953,      0.2963,      0.2973,      0.2983,      0.2993,      0.3003,      0.3013,      0.3023,      0.3033,      0.3043,     0.30531,     0.30631,     0.30731,     0.30831,     0.30931,     0.31031,     0.31131,\n",
       "           0.31231,     0.31331,     0.31431,     0.31532,     0.31632,     0.31732,     0.31832,     0.31932,     0.32032,     0.32132,     0.32232,     0.32332,     0.32432,     0.32533,     0.32633,     0.32733,     0.32833,     0.32933,     0.33033,     0.33133,     0.33233,     0.33333,     0.33433,     0.33534,\n",
       "           0.33634,     0.33734,     0.33834,     0.33934,     0.34034,     0.34134,     0.34234,     0.34334,     0.34434,     0.34535,     0.34635,     0.34735,     0.34835,     0.34935,     0.35035,     0.35135,     0.35235,     0.35335,     0.35435,     0.35536,     0.35636,     0.35736,     0.35836,     0.35936,\n",
       "           0.36036,     0.36136,     0.36236,     0.36336,     0.36436,     0.36537,     0.36637,     0.36737,     0.36837,     0.36937,     0.37037,     0.37137,     0.37237,     0.37337,     0.37437,     0.37538,     0.37638,     0.37738,     0.37838,     0.37938,     0.38038,     0.38138,     0.38238,     0.38338,\n",
       "           0.38438,     0.38539,     0.38639,     0.38739,     0.38839,     0.38939,     0.39039,     0.39139,     0.39239,     0.39339,     0.39439,      0.3954,      0.3964,      0.3974,      0.3984,      0.3994,      0.4004,      0.4014,      0.4024,      0.4034,      0.4044,     0.40541,     0.40641,     0.40741,\n",
       "           0.40841,     0.40941,     0.41041,     0.41141,     0.41241,     0.41341,     0.41441,     0.41542,     0.41642,     0.41742,     0.41842,     0.41942,     0.42042,     0.42142,     0.42242,     0.42342,     0.42442,     0.42543,     0.42643,     0.42743,     0.42843,     0.42943,     0.43043,     0.43143,\n",
       "           0.43243,     0.43343,     0.43443,     0.43544,     0.43644,     0.43744,     0.43844,     0.43944,     0.44044,     0.44144,     0.44244,     0.44344,     0.44444,     0.44545,     0.44645,     0.44745,     0.44845,     0.44945,     0.45045,     0.45145,     0.45245,     0.45345,     0.45445,     0.45546,\n",
       "           0.45646,     0.45746,     0.45846,     0.45946,     0.46046,     0.46146,     0.46246,     0.46346,     0.46446,     0.46547,     0.46647,     0.46747,     0.46847,     0.46947,     0.47047,     0.47147,     0.47247,     0.47347,     0.47447,     0.47548,     0.47648,     0.47748,     0.47848,     0.47948,\n",
       "           0.48048,     0.48148,     0.48248,     0.48348,     0.48448,     0.48549,     0.48649,     0.48749,     0.48849,     0.48949,     0.49049,     0.49149,     0.49249,     0.49349,     0.49449,      0.4955,      0.4965,      0.4975,      0.4985,      0.4995,      0.5005,      0.5015,      0.5025,      0.5035,\n",
       "            0.5045,     0.50551,     0.50651,     0.50751,     0.50851,     0.50951,     0.51051,     0.51151,     0.51251,     0.51351,     0.51451,     0.51552,     0.51652,     0.51752,     0.51852,     0.51952,     0.52052,     0.52152,     0.52252,     0.52352,     0.52452,     0.52553,     0.52653,     0.52753,\n",
       "           0.52853,     0.52953,     0.53053,     0.53153,     0.53253,     0.53353,     0.53453,     0.53554,     0.53654,     0.53754,     0.53854,     0.53954,     0.54054,     0.54154,     0.54254,     0.54354,     0.54454,     0.54555,     0.54655,     0.54755,     0.54855,     0.54955,     0.55055,     0.55155,\n",
       "           0.55255,     0.55355,     0.55455,     0.55556,     0.55656,     0.55756,     0.55856,     0.55956,     0.56056,     0.56156,     0.56256,     0.56356,     0.56456,     0.56557,     0.56657,     0.56757,     0.56857,     0.56957,     0.57057,     0.57157,     0.57257,     0.57357,     0.57457,     0.57558,\n",
       "           0.57658,     0.57758,     0.57858,     0.57958,     0.58058,     0.58158,     0.58258,     0.58358,     0.58458,     0.58559,     0.58659,     0.58759,     0.58859,     0.58959,     0.59059,     0.59159,     0.59259,     0.59359,     0.59459,      0.5956,      0.5966,      0.5976,      0.5986,      0.5996,\n",
       "            0.6006,      0.6016,      0.6026,      0.6036,      0.6046,     0.60561,     0.60661,     0.60761,     0.60861,     0.60961,     0.61061,     0.61161,     0.61261,     0.61361,     0.61461,     0.61562,     0.61662,     0.61762,     0.61862,     0.61962,     0.62062,     0.62162,     0.62262,     0.62362,\n",
       "           0.62462,     0.62563,     0.62663,     0.62763,     0.62863,     0.62963,     0.63063,     0.63163,     0.63263,     0.63363,     0.63463,     0.63564,     0.63664,     0.63764,     0.63864,     0.63964,     0.64064,     0.64164,     0.64264,     0.64364,     0.64464,     0.64565,     0.64665,     0.64765,\n",
       "           0.64865,     0.64965,     0.65065,     0.65165,     0.65265,     0.65365,     0.65465,     0.65566,     0.65666,     0.65766,     0.65866,     0.65966,     0.66066,     0.66166,     0.66266,     0.66366,     0.66466,     0.66567,     0.66667,     0.66767,     0.66867,     0.66967,     0.67067,     0.67167,\n",
       "           0.67267,     0.67367,     0.67467,     0.67568,     0.67668,     0.67768,     0.67868,     0.67968,     0.68068,     0.68168,     0.68268,     0.68368,     0.68468,     0.68569,     0.68669,     0.68769,     0.68869,     0.68969,     0.69069,     0.69169,     0.69269,     0.69369,     0.69469,      0.6957,\n",
       "            0.6967,      0.6977,      0.6987,      0.6997,      0.7007,      0.7017,      0.7027,      0.7037,      0.7047,     0.70571,     0.70671,     0.70771,     0.70871,     0.70971,     0.71071,     0.71171,     0.71271,     0.71371,     0.71471,     0.71572,     0.71672,     0.71772,     0.71872,     0.71972,\n",
       "           0.72072,     0.72172,     0.72272,     0.72372,     0.72472,     0.72573,     0.72673,     0.72773,     0.72873,     0.72973,     0.73073,     0.73173,     0.73273,     0.73373,     0.73473,     0.73574,     0.73674,     0.73774,     0.73874,     0.73974,     0.74074,     0.74174,     0.74274,     0.74374,\n",
       "           0.74474,     0.74575,     0.74675,     0.74775,     0.74875,     0.74975,     0.75075,     0.75175,     0.75275,     0.75375,     0.75475,     0.75576,     0.75676,     0.75776,     0.75876,     0.75976,     0.76076,     0.76176,     0.76276,     0.76376,     0.76476,     0.76577,     0.76677,     0.76777,\n",
       "           0.76877,     0.76977,     0.77077,     0.77177,     0.77277,     0.77377,     0.77477,     0.77578,     0.77678,     0.77778,     0.77878,     0.77978,     0.78078,     0.78178,     0.78278,     0.78378,     0.78478,     0.78579,     0.78679,     0.78779,     0.78879,     0.78979,     0.79079,     0.79179,\n",
       "           0.79279,     0.79379,     0.79479,      0.7958,      0.7968,      0.7978,      0.7988,      0.7998,      0.8008,      0.8018,      0.8028,      0.8038,      0.8048,     0.80581,     0.80681,     0.80781,     0.80881,     0.80981,     0.81081,     0.81181,     0.81281,     0.81381,     0.81481,     0.81582,\n",
       "           0.81682,     0.81782,     0.81882,     0.81982,     0.82082,     0.82182,     0.82282,     0.82382,     0.82482,     0.82583,     0.82683,     0.82783,     0.82883,     0.82983,     0.83083,     0.83183,     0.83283,     0.83383,     0.83483,     0.83584,     0.83684,     0.83784,     0.83884,     0.83984,\n",
       "           0.84084,     0.84184,     0.84284,     0.84384,     0.84484,     0.84585,     0.84685,     0.84785,     0.84885,     0.84985,     0.85085,     0.85185,     0.85285,     0.85385,     0.85485,     0.85586,     0.85686,     0.85786,     0.85886,     0.85986,     0.86086,     0.86186,     0.86286,     0.86386,\n",
       "           0.86486,     0.86587,     0.86687,     0.86787,     0.86887,     0.86987,     0.87087,     0.87187,     0.87287,     0.87387,     0.87487,     0.87588,     0.87688,     0.87788,     0.87888,     0.87988,     0.88088,     0.88188,     0.88288,     0.88388,     0.88488,     0.88589,     0.88689,     0.88789,\n",
       "           0.88889,     0.88989,     0.89089,     0.89189,     0.89289,     0.89389,     0.89489,      0.8959,      0.8969,      0.8979,      0.8989,      0.8999,      0.9009,      0.9019,      0.9029,      0.9039,      0.9049,     0.90591,     0.90691,     0.90791,     0.90891,     0.90991,     0.91091,     0.91191,\n",
       "           0.91291,     0.91391,     0.91491,     0.91592,     0.91692,     0.91792,     0.91892,     0.91992,     0.92092,     0.92192,     0.92292,     0.92392,     0.92492,     0.92593,     0.92693,     0.92793,     0.92893,     0.92993,     0.93093,     0.93193,     0.93293,     0.93393,     0.93493,     0.93594,\n",
       "           0.93694,     0.93794,     0.93894,     0.93994,     0.94094,     0.94194,     0.94294,     0.94394,     0.94494,     0.94595,     0.94695,     0.94795,     0.94895,     0.94995,     0.95095,     0.95195,     0.95295,     0.95395,     0.95495,     0.95596,     0.95696,     0.95796,     0.95896,     0.95996,\n",
       "           0.96096,     0.96196,     0.96296,     0.96396,     0.96496,     0.96597,     0.96697,     0.96797,     0.96897,     0.96997,     0.97097,     0.97197,     0.97297,     0.97397,     0.97497,     0.97598,     0.97698,     0.97798,     0.97898,     0.97998,     0.98098,     0.98198,     0.98298,     0.98398,\n",
       "           0.98498,     0.98599,     0.98699,     0.98799,     0.98899,     0.98999,     0.99099,     0.99199,     0.99299,     0.99399,     0.99499,       0.996,       0.997,       0.998,       0.999,           1]), array([[    0.99459,     0.99459,     0.99459,     0.99459,     0.99459,     0.99459,     0.99459,     0.99459,     0.99459,     0.99459,     0.99459,     0.99459,     0.99459,     0.99459,     0.99459,     0.99459,     0.99459,     0.99459,     0.99459,     0.99459,     0.99459,     0.99459,     0.99459,\n",
       "            0.99459,     0.99459,     0.99459,     0.99459,     0.99459,     0.99459,     0.99459,     0.99459,     0.99459,     0.99459,     0.99459,     0.99459,     0.99459,     0.99459,     0.99459,     0.99459,     0.99459,     0.99459,     0.99459,     0.99459,     0.99459,     0.99459,     0.99459,\n",
       "            0.99459,     0.99459,     0.99459,     0.99459,     0.99459,     0.99459,     0.99459,     0.99459,     0.99459,     0.99459,     0.99459,     0.99459,     0.99459,     0.99459,     0.99459,     0.99459,     0.99459,     0.99459,     0.99459,     0.99459,     0.99459,     0.99459,     0.99459,\n",
       "            0.99459,     0.99459,     0.99459,     0.99459,     0.99459,     0.99459,     0.99459,     0.99459,     0.99459,     0.99459,     0.99459,     0.99459,     0.99459,     0.99459,     0.99459,     0.99459,     0.99459,     0.99459,     0.99459,     0.99459,     0.99459,     0.99459,     0.99459,\n",
       "            0.99459,     0.99459,     0.99459,     0.99459,     0.99459,     0.99459,     0.99459,     0.99459,     0.99459,     0.99459,     0.99459,     0.99459,     0.99459,     0.99459,     0.99459,     0.99459,     0.99459,     0.99459,     0.99459,     0.99459,     0.99459,     0.99459,     0.99459,\n",
       "            0.99459,     0.99459,     0.99459,     0.99459,     0.99459,     0.99459,     0.99459,     0.99459,     0.99459,     0.99459,     0.99459,     0.99459,     0.99459,     0.99459,     0.99459,     0.99459,     0.99459,     0.99459,     0.99459,     0.99459,     0.99459,     0.99459,     0.99459,\n",
       "            0.99459,     0.99459,     0.99459,     0.99459,     0.99459,     0.99459,     0.99459,     0.99459,     0.99459,     0.99459,     0.99459,     0.99459,     0.99459,     0.99459,     0.99459,     0.99459,     0.99459,     0.99459,     0.99459,     0.99459,     0.99459,     0.99459,     0.99459,\n",
       "            0.99459,     0.99459,     0.99459,     0.99459,     0.99459,     0.99459,     0.99459,     0.99459,     0.99459,     0.99459,     0.99459,     0.99459,     0.99459,     0.99459,     0.99459,     0.99459,     0.99459,     0.99459,     0.99459,     0.99459,     0.99459,     0.99459,     0.99459,\n",
       "            0.99459,     0.99459,     0.99459,     0.99459,     0.99459,     0.99459,     0.99459,     0.99459,     0.99459,     0.99459,     0.99459,     0.99459,     0.99459,     0.99459,     0.99459,     0.99459,     0.99459,     0.99459,     0.99459,     0.99459,     0.99459,     0.99459,     0.99459,\n",
       "            0.99459,     0.99459,     0.99459,     0.99459,     0.99459,     0.99459,     0.99459,     0.99459,     0.99459,     0.99459,     0.99459,     0.99459,     0.99459,     0.99459,     0.99459,     0.99459,     0.99459,     0.99459,     0.99459,     0.99459,     0.99459,     0.99459,     0.99459,\n",
       "            0.99459,     0.99459,     0.99459,     0.99459,     0.99459,     0.99459,     0.99459,     0.99459,     0.99459,     0.99459,     0.99459,     0.99459,     0.99459,     0.99459,     0.99459,     0.99459,     0.99459,     0.99459,     0.99459,     0.99459,     0.99459,     0.99459,     0.99459,\n",
       "            0.99459,     0.99459,     0.99459,     0.99459,     0.99459,     0.99459,     0.99459,     0.99459,     0.99459,     0.99459,     0.99459,     0.99459,     0.99459,     0.99459,     0.99459,     0.99459,     0.99459,     0.99459,     0.99459,     0.99459,     0.99459,     0.99459,     0.99459,\n",
       "            0.99459,     0.99459,     0.99459,     0.99459,     0.99459,     0.99459,     0.99459,     0.99459,     0.99459,     0.99459,     0.99459,     0.99459,     0.99459,     0.99459,     0.99459,     0.99459,     0.99459,     0.99459,     0.99459,     0.99459,     0.99459,     0.99459,     0.99459,\n",
       "            0.99459,     0.99459,     0.99459,     0.99459,     0.99459,     0.99459,     0.99459,     0.99459,     0.99459,     0.99459,     0.99459,     0.99459,     0.99459,     0.99459,     0.99459,     0.99459,     0.99459,     0.99459,     0.99459,     0.99459,     0.99459,     0.99459,     0.99459,\n",
       "            0.99459,     0.99459,     0.99459,     0.99459,     0.99459,     0.99459,     0.99459,     0.99459,     0.99459,     0.99459,     0.99459,     0.99459,     0.99459,     0.99459,     0.99459,     0.99459,     0.99459,     0.99459,     0.99459,     0.99459,     0.99459,     0.99459,     0.99459,\n",
       "            0.99459,     0.99459,     0.99459,     0.99459,     0.99459,     0.99459,     0.99459,     0.99459,     0.99459,     0.99459,     0.99459,     0.99459,     0.99459,     0.99459,     0.99459,     0.99459,     0.99459,     0.99459,     0.99459,     0.99459,     0.99459,     0.99459,     0.99459,\n",
       "            0.99459,     0.99459,     0.99459,     0.99459,     0.99459,     0.99459,     0.99459,     0.99459,     0.99459,     0.99459,     0.99459,     0.99459,     0.99459,     0.99459,     0.99459,     0.99459,     0.99459,     0.99459,     0.99459,     0.99459,     0.99459,     0.99459,     0.99459,\n",
       "            0.99459,     0.99459,     0.99459,     0.99459,     0.99459,     0.99459,     0.99459,     0.99459,     0.99459,     0.99459,     0.99459,     0.99459,     0.99459,     0.99459,     0.99459,     0.99459,     0.99459,     0.99459,     0.99459,     0.99459,     0.99459,     0.99459,     0.99459,\n",
       "            0.99459,     0.99459,     0.99459,     0.99459,     0.99459,     0.99459,     0.99459,     0.99459,     0.99459,     0.99459,     0.99459,     0.99459,     0.99459,     0.99459,     0.99459,     0.99459,     0.99459,     0.99459,     0.99459,     0.99459,     0.99459,     0.99459,     0.99459,\n",
       "            0.99459,     0.99459,     0.99459,     0.99459,     0.99459,     0.99459,     0.99459,     0.99459,     0.99459,     0.99459,     0.99459,     0.99459,     0.99459,     0.99459,     0.99459,     0.99459,     0.99459,     0.99459,     0.99459,     0.99459,     0.99459,     0.99459,     0.99459,\n",
       "            0.99459,     0.99459,     0.99459,     0.99459,     0.99459,     0.99459,     0.99459,     0.99459,     0.99459,     0.99459,     0.99459,     0.99459,     0.99459,     0.99459,     0.99459,     0.99459,     0.99459,     0.99459,     0.99459,     0.99459,     0.99459,     0.99459,     0.99459,\n",
       "            0.99459,     0.99459,     0.99459,     0.99459,     0.99459,     0.99459,     0.99459,     0.99459,     0.99459,     0.99459,     0.99459,     0.99459,     0.99459,     0.99459,     0.99459,     0.99459,     0.99459,     0.99459,     0.99459,     0.99459,     0.99459,     0.99459,     0.99459,\n",
       "            0.99459,     0.99459,     0.99459,     0.99459,     0.99459,     0.99459,     0.99459,     0.99459,     0.99459,     0.99459,     0.99459,     0.99459,     0.99459,     0.99459,     0.99459,     0.99459,     0.99459,     0.99459,     0.99459,     0.99459,     0.99459,     0.99459,     0.99459,\n",
       "            0.99459,     0.99459,     0.99459,     0.99459,     0.99459,     0.99459,     0.99459,     0.99459,     0.99459,     0.99459,     0.99459,     0.99459,     0.99459,     0.99459,     0.99459,     0.99459,     0.99459,     0.99459,     0.99459,     0.99459,     0.99459,     0.99459,     0.99459,\n",
       "            0.99459,     0.99459,     0.99459,     0.99459,     0.99459,     0.99459,     0.99459,     0.99459,     0.99459,     0.99459,     0.99459,     0.99459,     0.99459,     0.99459,     0.99459,     0.99459,     0.99459,     0.99459,     0.99459,     0.99459,     0.99459,     0.99459,     0.99459,\n",
       "            0.99459,     0.99459,     0.99459,     0.99459,     0.99459,     0.99459,     0.99459,     0.99459,     0.99459,     0.99459,     0.99459,     0.99459,     0.99459,     0.99459,     0.99459,     0.99459,     0.99459,     0.99459,     0.99459,     0.99459,     0.99459,     0.99459,     0.99459,\n",
       "            0.99459,     0.99459,     0.99459,     0.99459,     0.99459,     0.99459,     0.99459,     0.99459,     0.99459,     0.99459,     0.99459,     0.99459,     0.99459,     0.99459,     0.99459,     0.99459,     0.99459,     0.99459,     0.99459,     0.99459,     0.99459,     0.99459,     0.99459,\n",
       "            0.99459,     0.99459,     0.99459,     0.99459,     0.99459,     0.99459,     0.99459,     0.99459,     0.99459,     0.99459,     0.99459,     0.99459,     0.99459,     0.99459,     0.99459,     0.99459,     0.99459,     0.99459,     0.99459,     0.99459,     0.99459,     0.99459,     0.99459,\n",
       "            0.99459,     0.99459,     0.99459,     0.99459,     0.99459,     0.99459,     0.99459,     0.99459,     0.99459,     0.99459,     0.99459,     0.99459,     0.99459,     0.99459,     0.99459,     0.99459,     0.99459,     0.99459,     0.99459,     0.99459,     0.99459,     0.99459,     0.99459,\n",
       "            0.99459,     0.99459,     0.99459,     0.99459,     0.99459,     0.99459,     0.99459,     0.99459,     0.99459,     0.99459,     0.99459,     0.99459,     0.99459,     0.99459,     0.99459,     0.99459,     0.99459,     0.99459,     0.99459,     0.99459,     0.99459,     0.99459,     0.99459,\n",
       "            0.99459,     0.99459,     0.99459,     0.99459,     0.99459,     0.99459,     0.99459,     0.99459,     0.99459,     0.99459,     0.99459,     0.99459,     0.99459,     0.99459,     0.99459,     0.99459,     0.99459,     0.99459,     0.99459,     0.99459,     0.99459,     0.99459,     0.99459,\n",
       "            0.99459,     0.99459,     0.99459,     0.99459,     0.99459,     0.99459,     0.99459,     0.99459,     0.99459,     0.99459,     0.99459,     0.99459,     0.99459,     0.99459,     0.99459,     0.99459,     0.99459,     0.99459,     0.99459,     0.99459,     0.99459,     0.99459,     0.99459,\n",
       "            0.99459,     0.99459,     0.99459,     0.99459,     0.99459,     0.99459,     0.99459,     0.99459,     0.99459,     0.99459,     0.99459,     0.99459,     0.99459,     0.99459,     0.99459,     0.99459,     0.99459,     0.99459,     0.99459,     0.99459,     0.99459,     0.99459,     0.99459,\n",
       "            0.99459,     0.99459,     0.99459,     0.99459,     0.99459,     0.99459,     0.99459,     0.99459,     0.99459,     0.99459,     0.99459,     0.99459,     0.99459,     0.99459,     0.99459,     0.99459,     0.99459,     0.99459,     0.99459,     0.99459,     0.99459,     0.99459,     0.99459,\n",
       "            0.99459,     0.99459,     0.99459,     0.99459,     0.99459,     0.99459,     0.99389,     0.99114,     0.98917,     0.98909,     0.98901,     0.98894,     0.98886,     0.98879,     0.98871,     0.98863,     0.98856,     0.98848,     0.98841,     0.98833,     0.98825,     0.98818,      0.9881,\n",
       "            0.98803,     0.98795,     0.98787,      0.9878,     0.98772,     0.98764,     0.98757,     0.98749,     0.98742,     0.98734,     0.98726,     0.98719,     0.98711,     0.98704,     0.98696,     0.98688,     0.98681,     0.98673,     0.98665,     0.98658,      0.9865,     0.98643,     0.98635,\n",
       "            0.98627,      0.9862,     0.98612,     0.98605,     0.98597,     0.98589,     0.98582,     0.98574,     0.98567,     0.98559,     0.98551,     0.98544,     0.98536,     0.98528,     0.98521,     0.98513,     0.98506,     0.98498,      0.9849,     0.98483,     0.98475,     0.98468,      0.9846,\n",
       "            0.98452,     0.98445,     0.98437,      0.9843,     0.98422,     0.98414,     0.98407,     0.98399,     0.98391,     0.98384,     0.98369,     0.98334,       0.983,     0.98265,     0.98231,     0.98196,     0.98162,     0.98127,     0.98093,     0.98058,     0.98024,     0.97989,     0.97955,\n",
       "            0.97921,     0.97886,     0.97852,     0.97806,     0.97753,       0.977,     0.97647,     0.97595,     0.97542,     0.97489,     0.97436,     0.97383,      0.9733,     0.97297,      0.9671,     0.96591,     0.96472,     0.96353,     0.96234,     0.95115,     0.94711,     0.94484,     0.94328,\n",
       "            0.94173,     0.93949,     0.93488,     0.92877,     0.92699,     0.92521,     0.91772,     0.91442,     0.90601,     0.90161,     0.89666,     0.89389,     0.88998,     0.88303,     0.87577,     0.85745,     0.85359,     0.85122,     0.84884,     0.84731,     0.84585,     0.84439,     0.84012,\n",
       "            0.83552,     0.83277,     0.82222,     0.80874,     0.80293,     0.79275,      0.7699,     0.74486,      0.7243,     0.71443,     0.67128,     0.63708,     0.62568,     0.60598,      0.5791,     0.55513,     0.50613,     0.48775,     0.46476,     0.44502,     0.41709,     0.38536,     0.34546,\n",
       "            0.31748,     0.29403,     0.26857,     0.23198,     0.20751,     0.18731,     0.15136,     0.14331,     0.13739,     0.12108,     0.10366,    0.093331,    0.076272,    0.061825,    0.047229,    0.043312,    0.031526,     0.02696,    0.024898,    0.022836,    0.015879,    0.011698,   0.0076927,\n",
       "                  0,           0,           0,           0,           0,           0,           0,           0,           0,           0,           0,           0,           0,           0,           0,           0,           0,           0,           0,           0,           0,           0,           0,\n",
       "                  0,           0,           0,           0,           0,           0,           0,           0,           0,           0,           0]]), 'Confidence', 'Recall']]\n",
       "fitness: 1.8613827252582062\n",
       "keys: ['metrics/precision(B)', 'metrics/recall(B)', 'metrics/mAP50(B)', 'metrics/mAP50-95(B)', 'metrics/precision(P)', 'metrics/recall(P)', 'metrics/mAP50(P)', 'metrics/mAP50-95(P)']\n",
       "maps: array([     1.8471,      1.8471])\n",
       "names: {0: 'Spot', 1: 'AnyMAL'}\n",
       "plot: True\n",
       "pose: ultralytics.utils.metrics.Metric object\n",
       "results_dict: {'metrics/precision(B)': 0.9982475229297406, 'metrics/recall(B)': 1.0, 'metrics/mAP50(B)': 0.995, 'metrics/mAP50-95(B)': 0.9664970205256669, 'metrics/precision(P)': 0.9928515903733637, 'metrics/recall(P)': 0.9945945945945946, 'metrics/mAP50(P)': 0.9948918918918919, 'metrics/mAP50-95(P)': 0.8806069084399075, 'fitness': 1.8613827252582062}\n",
       "save_dir: WindowsPath('runs/pose/train22')\n",
       "seg: ultralytics.utils.metrics.Metric object\n",
       "speed: {'preprocess': 0.8110368573987806, 'inference': 60.11585673770389, 'loss': 0.0, 'postprocess': 0.4064353736671242}\n",
       "task: 'pose'"
      ]
     },
     "execution_count": 1,
     "metadata": {},
     "output_type": "execute_result"
    }
   ],
   "source": [
    "import os\n",
    "\n",
    "from ultralytics import YOLO\n",
    "\n",
    "\n",
    "model = YOLO('yolov8n-pose.pt')  # load a pretrained model (recommended for training)\n",
    "\n",
    "model.train(data='config.yaml', epochs=50, imgsz=640)\n"
   ]
  },
  {
   "cell_type": "code",
   "execution_count": null,
   "metadata": {
    "id": "dZt7FiKD9NVR"
   },
   "outputs": [],
   "source": [
    "!scp -r /content/runs '/content/gdrive/My Drive/ComputerVisionEngineer/PoseDetectionYolov8'"
   ]
  }
 ],
 "metadata": {
  "accelerator": "GPU",
  "colab": {
   "authorship_tag": "ABX9TyOKtwf8H7AH0bxOpXHlIH96",
   "provenance": [
    {
     "file_id": "1ETooVAR0OZNUFb-fWhaabAWAzfoG1R7u",
     "timestamp": 1680782836683
    }
   ]
  },
  "gpuClass": "standard",
  "kernelspec": {
   "display_name": "Python (myenv)",
   "language": "python",
   "name": "newenv"
  },
  "language_info": {
   "codemirror_mode": {
    "name": "ipython",
    "version": 3
   },
   "file_extension": ".py",
   "mimetype": "text/x-python",
   "name": "python",
   "nbconvert_exporter": "python",
   "pygments_lexer": "ipython3",
   "version": "3.8.18"
  }
 },
 "nbformat": 4,
 "nbformat_minor": 1
}
