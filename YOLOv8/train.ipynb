{
 "cells": [
  {
   "cell_type": "code",
   "execution_count": null,
   "metadata": {
    "id": "zy7BcAyj9LvW"
   },
   "outputs": [],
   "source": [
    "from ultralytics import YOLO\n",
    "\n",
    "model = YOLO('yolov8n-pose.pt')\n",
    "\n",
    "model.train(data='config.yaml', epochs=50, imgsz=640)\n"
   ]
  }
 ],
 "metadata": {
  "accelerator": "GPU",
  "colab": {
   "authorship_tag": "ABX9TyOKtwf8H7AH0bxOpXHlIH96",
   "provenance": [
    {
     "file_id": "1ETooVAR0OZNUFb-fWhaabAWAzfoG1R7u",
     "timestamp": 1680782836683
    }
   ]
  },
  "gpuClass": "standard",
  "kernelspec": {
   "display_name": "Semester_Thesis",
   "language": "python",
   "name": "python3"
  },
  "language_info": {
   "codemirror_mode": {
    "name": "ipython",
    "version": 3
   },
   "file_extension": ".py",
   "mimetype": "text/x-python",
   "name": "python",
   "nbconvert_exporter": "python",
   "pygments_lexer": "ipython3",
   "version": "3.8.18"
  }
 },
 "nbformat": 4,
 "nbformat_minor": 1
}
